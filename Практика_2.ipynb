{
  "cells": [
    {
      "cell_type": "markdown",
      "metadata": {
        "colab_type": "text",
        "id": "view-in-github"
      },
      "source": [
        "<a href=\"https://colab.research.google.com/github/Letch49/ML-vvsu-2025/blob/feature/%D0%9F%D1%80%D0%B0%D0%BA%D1%82%D0%B8%D0%BA%D0%B0_2.ipynb\" target=\"_parent\"><img src=\"https://colab.research.google.com/assets/colab-badge.svg\" alt=\"Open In Colab\"/></a>"
      ]
    },
    {
      "cell_type": "markdown",
      "metadata": {
        "id": "vDOnPyEUCBNT"
      },
      "source": [
        "# МЛ Практика 2: Статистика в действии и её влияние на модель"
      ]
    },
    {
      "cell_type": "markdown",
      "metadata": {
        "id": "TiIX2NzyCKV3"
      },
      "source": [
        "## **Цель занятия:**\n",
        "Изучить, как статистические метрики (среднее, медиана, квантили, размер выборки, стандартное отклонение) влияют на анализ данных и построение моделей машинного обучения. На практике мы проведем анализ целевой переменной **Y**, обучим модель линейной регрессии и исследуем влияние статистических характеристик на метрики модели."
      ]
    },
    {
      "cell_type": "markdown",
      "metadata": {
        "id": "gXXq0W21COeO"
      },
      "source": [
        "## **Задание состоит из следующих частей:**\n",
        "1. Анализ целевой переменной **Y** с точки зрения статистики. (в нашем случае - бинарная классификация)\n",
        "2. Анализ пропусков\n",
        "2. Изучение влияния статистических метрик на данные.\n",
        "3. Обучение модели линейной регрессии и оценка ее точности.\n",
        "4. Проведение теста Пирсона.\n",
        "5. Визуализация результатов и анализ влияния статистики на метрики модели.\n",
        "6. Валидация модели\n",
        "---"
      ]
    },
    {
      "cell_type": "markdown",
      "metadata": {
        "id": "M8QATjCVCQ9V"
      },
      "source": [
        "## 1. Анализ целевой переменной Y с точки зрения статистики"
      ]
    },
    {
      "cell_type": "markdown",
      "metadata": {
        "id": "_dmndy3OCTMn"
      },
      "source": [
        "### **Описание:**\n",
        "В этом разделе вы проведете статистический анализ целевой переменной **Y**, изучите ее распределение и основные статистические характеристики."
      ]
    },
    {
      "cell_type": "markdown",
      "metadata": {
        "id": "Kl2lHWkZCU0y"
      },
      "source": [
        "1. **Импортируйте необходимые библиотеки:**"
      ]
    },
    {
      "cell_type": "code",
      "execution_count": 227,
      "metadata": {
        "colab": {
          "base_uri": "https://localhost:8080/"
        },
        "id": "flQiMFG7CZMI",
        "outputId": "eb3827b9-482f-4613-d041-53e8e5022cc7"
      },
      "outputs": [],
      "source": [
        "# !pip install pandas scikit-learn seaborn scipy"
      ]
    },
    {
      "cell_type": "code",
      "execution_count": 228,
      "metadata": {
        "id": "oNiUcN03CAbk"
      },
      "outputs": [],
      "source": [
        "   import pandas as pd\n",
        "   import numpy as np\n",
        "   import matplotlib.pyplot as plt\n",
        "   import seaborn as sns\n",
        "   from scipy import stats"
      ]
    },
    {
      "cell_type": "markdown",
      "metadata": {
        "id": "rjoWxcqECvS-"
      },
      "source": [
        "2. **Загружаем набор данных:**"
      ]
    },
    {
      "cell_type": "code",
      "execution_count": 229,
      "metadata": {
        "id": "zLUqWAIhCc4Z"
      },
      "outputs": [],
      "source": [
        "# Загрузка набора данных\n",
        "df = pd.read_csv('income.csv')"
      ]
    },
    {
      "cell_type": "code",
      "execution_count": 230,
      "metadata": {
        "colab": {
          "base_uri": "https://localhost:8080/",
          "height": 458
        },
        "id": "0SMUCtdvCear",
        "outputId": "a8f6ff81-09a2-4b99-9e5c-b1dbed210c23"
      },
      "outputs": [
        {
          "data": {
            "text/html": [
              "<div>\n",
              "<style scoped>\n",
              "    .dataframe tbody tr th:only-of-type {\n",
              "        vertical-align: middle;\n",
              "    }\n",
              "\n",
              "    .dataframe tbody tr th {\n",
              "        vertical-align: top;\n",
              "    }\n",
              "\n",
              "    .dataframe thead th {\n",
              "        text-align: right;\n",
              "    }\n",
              "</style>\n",
              "<table border=\"1\" class=\"dataframe\">\n",
              "  <thead>\n",
              "    <tr style=\"text-align: right;\">\n",
              "      <th></th>\n",
              "      <th>age</th>\n",
              "      <th>workclass</th>\n",
              "      <th>education</th>\n",
              "      <th>education-num</th>\n",
              "      <th>marital-status</th>\n",
              "      <th>occupation</th>\n",
              "      <th>relationship</th>\n",
              "      <th>race</th>\n",
              "      <th>sex</th>\n",
              "      <th>capital-gain</th>\n",
              "      <th>capital-loss</th>\n",
              "      <th>hours-per-week</th>\n",
              "      <th>native-country</th>\n",
              "      <th>income &gt;50K</th>\n",
              "    </tr>\n",
              "  </thead>\n",
              "  <tbody>\n",
              "    <tr>\n",
              "      <th>0</th>\n",
              "      <td>39</td>\n",
              "      <td>State-gov</td>\n",
              "      <td>Bachelors</td>\n",
              "      <td>13</td>\n",
              "      <td>Never-married</td>\n",
              "      <td>Adm-clerical</td>\n",
              "      <td>Not-in-family</td>\n",
              "      <td>White</td>\n",
              "      <td>Male</td>\n",
              "      <td>2174</td>\n",
              "      <td>0</td>\n",
              "      <td>40</td>\n",
              "      <td>United-States</td>\n",
              "      <td>0</td>\n",
              "    </tr>\n",
              "    <tr>\n",
              "      <th>1</th>\n",
              "      <td>50</td>\n",
              "      <td>Self-emp-not-inc</td>\n",
              "      <td>Bachelors</td>\n",
              "      <td>13</td>\n",
              "      <td>Married-civ-spouse</td>\n",
              "      <td>Exec-managerial</td>\n",
              "      <td>Husband</td>\n",
              "      <td>White</td>\n",
              "      <td>Male</td>\n",
              "      <td>0</td>\n",
              "      <td>0</td>\n",
              "      <td>13</td>\n",
              "      <td>United-States</td>\n",
              "      <td>0</td>\n",
              "    </tr>\n",
              "    <tr>\n",
              "      <th>2</th>\n",
              "      <td>38</td>\n",
              "      <td>Private</td>\n",
              "      <td>HS-grad</td>\n",
              "      <td>9</td>\n",
              "      <td>Divorced</td>\n",
              "      <td>Handlers-cleaners</td>\n",
              "      <td>Not-in-family</td>\n",
              "      <td>White</td>\n",
              "      <td>Male</td>\n",
              "      <td>0</td>\n",
              "      <td>0</td>\n",
              "      <td>40</td>\n",
              "      <td>United-States</td>\n",
              "      <td>0</td>\n",
              "    </tr>\n",
              "    <tr>\n",
              "      <th>3</th>\n",
              "      <td>53</td>\n",
              "      <td>Private</td>\n",
              "      <td>11th</td>\n",
              "      <td>7</td>\n",
              "      <td>Married-civ-spouse</td>\n",
              "      <td>Handlers-cleaners</td>\n",
              "      <td>Husband</td>\n",
              "      <td>Black</td>\n",
              "      <td>Male</td>\n",
              "      <td>0</td>\n",
              "      <td>0</td>\n",
              "      <td>40</td>\n",
              "      <td>United-States</td>\n",
              "      <td>0</td>\n",
              "    </tr>\n",
              "    <tr>\n",
              "      <th>4</th>\n",
              "      <td>28</td>\n",
              "      <td>Private</td>\n",
              "      <td>Bachelors</td>\n",
              "      <td>13</td>\n",
              "      <td>Married-civ-spouse</td>\n",
              "      <td>Prof-specialty</td>\n",
              "      <td>Wife</td>\n",
              "      <td>Black</td>\n",
              "      <td>Female</td>\n",
              "      <td>0</td>\n",
              "      <td>0</td>\n",
              "      <td>40</td>\n",
              "      <td>Cuba</td>\n",
              "      <td>0</td>\n",
              "    </tr>\n",
              "    <tr>\n",
              "      <th>...</th>\n",
              "      <td>...</td>\n",
              "      <td>...</td>\n",
              "      <td>...</td>\n",
              "      <td>...</td>\n",
              "      <td>...</td>\n",
              "      <td>...</td>\n",
              "      <td>...</td>\n",
              "      <td>...</td>\n",
              "      <td>...</td>\n",
              "      <td>...</td>\n",
              "      <td>...</td>\n",
              "      <td>...</td>\n",
              "      <td>...</td>\n",
              "      <td>...</td>\n",
              "    </tr>\n",
              "    <tr>\n",
              "      <th>32556</th>\n",
              "      <td>27</td>\n",
              "      <td>Private</td>\n",
              "      <td>Assoc-acdm</td>\n",
              "      <td>12</td>\n",
              "      <td>Married-civ-spouse</td>\n",
              "      <td>Tech-support</td>\n",
              "      <td>Wife</td>\n",
              "      <td>White</td>\n",
              "      <td>Female</td>\n",
              "      <td>0</td>\n",
              "      <td>0</td>\n",
              "      <td>38</td>\n",
              "      <td>United-States</td>\n",
              "      <td>0</td>\n",
              "    </tr>\n",
              "    <tr>\n",
              "      <th>32557</th>\n",
              "      <td>40</td>\n",
              "      <td>Private</td>\n",
              "      <td>HS-grad</td>\n",
              "      <td>9</td>\n",
              "      <td>Married-civ-spouse</td>\n",
              "      <td>Machine-op-inspct</td>\n",
              "      <td>Husband</td>\n",
              "      <td>White</td>\n",
              "      <td>Male</td>\n",
              "      <td>0</td>\n",
              "      <td>0</td>\n",
              "      <td>40</td>\n",
              "      <td>United-States</td>\n",
              "      <td>1</td>\n",
              "    </tr>\n",
              "    <tr>\n",
              "      <th>32558</th>\n",
              "      <td>58</td>\n",
              "      <td>Private</td>\n",
              "      <td>HS-grad</td>\n",
              "      <td>9</td>\n",
              "      <td>Widowed</td>\n",
              "      <td>Adm-clerical</td>\n",
              "      <td>Unmarried</td>\n",
              "      <td>White</td>\n",
              "      <td>Female</td>\n",
              "      <td>0</td>\n",
              "      <td>0</td>\n",
              "      <td>40</td>\n",
              "      <td>United-States</td>\n",
              "      <td>0</td>\n",
              "    </tr>\n",
              "    <tr>\n",
              "      <th>32559</th>\n",
              "      <td>22</td>\n",
              "      <td>Private</td>\n",
              "      <td>HS-grad</td>\n",
              "      <td>9</td>\n",
              "      <td>Never-married</td>\n",
              "      <td>Adm-clerical</td>\n",
              "      <td>Own-child</td>\n",
              "      <td>White</td>\n",
              "      <td>Male</td>\n",
              "      <td>0</td>\n",
              "      <td>0</td>\n",
              "      <td>20</td>\n",
              "      <td>United-States</td>\n",
              "      <td>0</td>\n",
              "    </tr>\n",
              "    <tr>\n",
              "      <th>32560</th>\n",
              "      <td>52</td>\n",
              "      <td>Self-emp-inc</td>\n",
              "      <td>HS-grad</td>\n",
              "      <td>9</td>\n",
              "      <td>Married-civ-spouse</td>\n",
              "      <td>Exec-managerial</td>\n",
              "      <td>Wife</td>\n",
              "      <td>White</td>\n",
              "      <td>Female</td>\n",
              "      <td>15024</td>\n",
              "      <td>0</td>\n",
              "      <td>40</td>\n",
              "      <td>United-States</td>\n",
              "      <td>1</td>\n",
              "    </tr>\n",
              "  </tbody>\n",
              "</table>\n",
              "<p>32561 rows × 14 columns</p>\n",
              "</div>"
            ],
            "text/plain": [
              "       age         workclass   education  education-num      marital-status  \\\n",
              "0       39         State-gov   Bachelors             13       Never-married   \n",
              "1       50  Self-emp-not-inc   Bachelors             13  Married-civ-spouse   \n",
              "2       38           Private     HS-grad              9            Divorced   \n",
              "3       53           Private        11th              7  Married-civ-spouse   \n",
              "4       28           Private   Bachelors             13  Married-civ-spouse   \n",
              "...    ...               ...         ...            ...                 ...   \n",
              "32556   27           Private  Assoc-acdm             12  Married-civ-spouse   \n",
              "32557   40           Private     HS-grad              9  Married-civ-spouse   \n",
              "32558   58           Private     HS-grad              9             Widowed   \n",
              "32559   22           Private     HS-grad              9       Never-married   \n",
              "32560   52      Self-emp-inc     HS-grad              9  Married-civ-spouse   \n",
              "\n",
              "              occupation   relationship   race     sex  capital-gain  \\\n",
              "0           Adm-clerical  Not-in-family  White    Male          2174   \n",
              "1        Exec-managerial        Husband  White    Male             0   \n",
              "2      Handlers-cleaners  Not-in-family  White    Male             0   \n",
              "3      Handlers-cleaners        Husband  Black    Male             0   \n",
              "4         Prof-specialty           Wife  Black  Female             0   \n",
              "...                  ...            ...    ...     ...           ...   \n",
              "32556       Tech-support           Wife  White  Female             0   \n",
              "32557  Machine-op-inspct        Husband  White    Male             0   \n",
              "32558       Adm-clerical      Unmarried  White  Female             0   \n",
              "32559       Adm-clerical      Own-child  White    Male             0   \n",
              "32560    Exec-managerial           Wife  White  Female         15024   \n",
              "\n",
              "       capital-loss  hours-per-week native-country  income >50K  \n",
              "0                 0              40  United-States            0  \n",
              "1                 0              13  United-States            0  \n",
              "2                 0              40  United-States            0  \n",
              "3                 0              40  United-States            0  \n",
              "4                 0              40           Cuba            0  \n",
              "...             ...             ...            ...          ...  \n",
              "32556             0              38  United-States            0  \n",
              "32557             0              40  United-States            1  \n",
              "32558             0              40  United-States            0  \n",
              "32559             0              20  United-States            0  \n",
              "32560             0              40  United-States            1  \n",
              "\n",
              "[32561 rows x 14 columns]"
            ]
          },
          "execution_count": 230,
          "metadata": {},
          "output_type": "execute_result"
        }
      ],
      "source": [
        "df"
      ]
    },
    {
      "cell_type": "code",
      "execution_count": 231,
      "metadata": {
        "colab": {
          "base_uri": "https://localhost:8080/"
        },
        "id": "P_Am0RHMCkF1",
        "outputId": "8ea0c644-336a-4e9f-9c96-40c59d1fae43"
      },
      "outputs": [
        {
          "name": "stdout",
          "output_type": "stream",
          "text": [
            "колонка: age\n",
            "колонка: workclass\n",
            "колонка: education\n",
            "колонка: education-num\n",
            "колонка: marital-status\n",
            "колонка: occupation\n",
            "колонка: relationship\n",
            "колонка: race\n",
            "колонка: sex\n",
            "колонка: capital-gain\n",
            "колонка: capital-loss\n",
            "колонка: hours-per-week\n",
            "колонка: native-country\n",
            "колонка: income >50K\n"
          ]
        }
      ],
      "source": [
        "# для удобства распечатаем все колонки\n",
        "for column in df.columns:\n",
        "  print(f'колонка: {column}')"
      ]
    },
    {
      "cell_type": "code",
      "execution_count": 232,
      "metadata": {
        "colab": {
          "base_uri": "https://localhost:8080/"
        },
        "id": "e7ynbI9AC2AX",
        "outputId": "2b6e7217-9e1a-4c00-cfaf-07eaa055e916"
      },
      "outputs": [
        {
          "name": "stdout",
          "output_type": "stream",
          "text": [
            "<class 'pandas.core.frame.DataFrame'>\n",
            "RangeIndex: 32561 entries, 0 to 32560\n",
            "Data columns (total 14 columns):\n",
            " #   Column          Non-Null Count  Dtype \n",
            "---  ------          --------------  ----- \n",
            " 0   age             32561 non-null  int64 \n",
            " 1   workclass       30725 non-null  object\n",
            " 2   education       32561 non-null  object\n",
            " 3   education-num   32561 non-null  int64 \n",
            " 4   marital-status  32561 non-null  object\n",
            " 5   occupation      30718 non-null  object\n",
            " 6   relationship    32561 non-null  object\n",
            " 7   race            32561 non-null  object\n",
            " 8   sex             32561 non-null  object\n",
            " 9   capital-gain    32561 non-null  int64 \n",
            " 10  capital-loss    32561 non-null  int64 \n",
            " 11  hours-per-week  32561 non-null  int64 \n",
            " 12  native-country  31978 non-null  object\n",
            " 13  income >50K     32561 non-null  int64 \n",
            "dtypes: int64(6), object(8)\n",
            "memory usage: 3.5+ MB\n"
          ]
        }
      ],
      "source": [
        "df.info()"
      ]
    },
    {
      "cell_type": "markdown",
      "metadata": {
        "id": "I-Umxm3KC1K6"
      },
      "source": [
        "3. **Проверьте наличие пропущенных значений и работа с пропусками для числовых:**"
      ]
    },
    {
      "cell_type": "code",
      "execution_count": 233,
      "metadata": {
        "colab": {
          "base_uri": "https://localhost:8080/"
        },
        "id": "9lSxhSMcC9RN",
        "outputId": "36d8a0b8-c7d2-437b-ffbc-bd5b9c063d28"
      },
      "outputs": [
        {
          "name": "stdout",
          "output_type": "stream",
          "text": [
            "age                  0\n",
            "workclass         1836\n",
            "education            0\n",
            "education-num        0\n",
            "marital-status       0\n",
            "occupation        1843\n",
            "relationship         0\n",
            "race                 0\n",
            "sex                  0\n",
            "capital-gain         0\n",
            "capital-loss         0\n",
            "hours-per-week       0\n",
            "native-country     583\n",
            "income >50K          0\n",
            "dtype: int64\n"
          ]
        }
      ],
      "source": [
        "# Проверка на пропущенные значения\n",
        "print(df.isnull().sum()) # пропусков нет"
      ]
    },
    {
      "cell_type": "code",
      "execution_count": 234,
      "metadata": {
        "id": "7fp-OSKxDgN1"
      },
      "outputs": [],
      "source": [
        "# генерируем случайную последовательность\n",
        "np.random.seed(42)\n",
        "df_test_nan = df.copy()\n",
        "df_test_nan.loc[np.random.choice(df_test_nan.index, size=5, replace=True), 'alcohol'] = np.nan"
      ]
    },
    {
      "cell_type": "code",
      "execution_count": 235,
      "metadata": {
        "colab": {
          "base_uri": "https://localhost:8080/"
        },
        "id": "rQDlrELvDxHy",
        "outputId": "65df5bdc-3a45-4bec-c615-ca603dc03158"
      },
      "outputs": [
        {
          "name": "stdout",
          "output_type": "stream",
          "text": [
            "age                   0\n",
            "workclass          1836\n",
            "education             0\n",
            "education-num         0\n",
            "marital-status        0\n",
            "occupation         1843\n",
            "relationship          0\n",
            "race                  0\n",
            "sex                   0\n",
            "capital-gain          0\n",
            "capital-loss          0\n",
            "hours-per-week        0\n",
            "native-country      583\n",
            "income >50K           0\n",
            "alcohol           32561\n",
            "dtype: int64\n"
          ]
        }
      ],
      "source": [
        "# Проверка на пропущенные значения\n",
        "print(df_test_nan.isnull().sum()) # пропусков нет"
      ]
    },
    {
      "cell_type": "code",
      "execution_count": 236,
      "metadata": {
        "colab": {
          "base_uri": "https://localhost:8080/"
        },
        "id": "URBzKPPND0Kx",
        "outputId": "0651a921-7e5d-4adb-98b9-6fee901761dc"
      },
      "outputs": [
        {
          "name": "stdout",
          "output_type": "stream",
          "text": [
            "\n",
            "# Удаление строк с пропусками\n",
            "age                  0\n",
            "workclass         1836\n",
            "education            0\n",
            "education-num        0\n",
            "marital-status       0\n",
            "occupation        1843\n",
            "relationship         0\n",
            "race                 0\n",
            "sex                  0\n",
            "capital-gain         0\n",
            "capital-loss         0\n",
            "hours-per-week       0\n",
            "native-country     583\n",
            "income >50K          0\n",
            "dtype: int64\n"
          ]
        }
      ],
      "source": [
        "# Вариант 1: Удаление строк с пропусками\n",
        "df_drop = df_test_nan.dropna()\n",
        "print(\"\\n# Удаление строк с пропусками\")\n",
        "print(df.isnull().sum()) # пропусков нет"
      ]
    },
    {
      "cell_type": "code",
      "execution_count": 237,
      "metadata": {
        "colab": {
          "base_uri": "https://localhost:8080/"
        },
        "id": "L_Zu21yGEfrY",
        "outputId": "452b49ac-3697-4a1f-9d76-017aa4d572e4"
      },
      "outputs": [
        {
          "name": "stdout",
          "output_type": "stream",
          "text": [
            "\n",
            "# Заполнение пропусков медианой\n",
            "age                   0\n",
            "workclass          1836\n",
            "education             0\n",
            "education-num         0\n",
            "marital-status        0\n",
            "occupation         1843\n",
            "relationship          0\n",
            "race                  0\n",
            "sex                   0\n",
            "capital-gain          0\n",
            "capital-loss          0\n",
            "hours-per-week        0\n",
            "native-country      583\n",
            "income >50K           0\n",
            "alcohol           32561\n",
            "dtype: int64\n"
          ]
        },
        {
          "name": "stderr",
          "output_type": "stream",
          "text": [
            "/home/ilua/Desktop/staff/web-python/venv/lib/python3.12/site-packages/numpy/lib/_nanfunctions_impl.py:1241: RuntimeWarning: Mean of empty slice\n",
            "  return np.nanmean(a, axis, out=out, keepdims=keepdims)\n"
          ]
        }
      ],
      "source": [
        "# Вариант 2: Заполнение пропусков медианой\n",
        "df_median = df_test_nan.copy()\n",
        "df_median.alcohol = df_median.alcohol.fillna(df_median.alcohol.median())\n",
        "\n",
        "print(\"\\n# Заполнение пропусков медианой\")\n",
        "print(df_median.isnull().sum()) # пропусков нет"
      ]
    },
    {
      "cell_type": "code",
      "execution_count": 238,
      "metadata": {
        "colab": {
          "base_uri": "https://localhost:8080/"
        },
        "id": "PTPxvki-EzDG",
        "outputId": "6e6c5780-b77b-4d42-b482-48dc5be934ff"
      },
      "outputs": [
        {
          "name": "stdout",
          "output_type": "stream",
          "text": [
            "\n",
            "# Заполнение пропусков средним\n",
            "age                   0\n",
            "workclass          1836\n",
            "education             0\n",
            "education-num         0\n",
            "marital-status        0\n",
            "occupation         1843\n",
            "relationship          0\n",
            "race                  0\n",
            "sex                   0\n",
            "capital-gain          0\n",
            "capital-loss          0\n",
            "hours-per-week        0\n",
            "native-country      583\n",
            "income >50K           0\n",
            "alcohol           32561\n",
            "dtype: int64\n"
          ]
        }
      ],
      "source": [
        "# Вариант 3: Заполнение пропусков средним\n",
        "df_mean = df_test_nan.copy()\n",
        "df_mean.alcohol = df_mean.alcohol.fillna(df_median.alcohol.mean())\n",
        "\n",
        "print(\"\\n# Заполнение пропусков средним\")\n",
        "print(df_mean.isnull().sum()) # пропусков нет"
      ]
    },
    {
      "cell_type": "markdown",
      "metadata": {
        "id": "FZ9qKGxuu4QM"
      },
      "source": [
        "⏰ Заполнение категориальных признаков происходит с помощью ```df.category_variable.mode() (как один из вариантов, хотя и считается недостаточно хорошим).```\n",
        "\n",
        "Как вариант - можно использовать KNN (K-ближайших соедей)"
      ]
    },
    {
      "cell_type": "code",
      "execution_count": null,
      "metadata": {},
      "outputs": [],
      "source": []
    },
    {
      "cell_type": "markdown",
      "metadata": {
        "id": "sc3IAvF-DG91"
      },
      "source": [
        "4. **Выбираем целвую переменную**\n",
        "\n",
        "⏰ В качестве целевой выбираем категориальную переменную, либо превращаем числовую в категориальное\n",
        "\n",
        "```В моем датасете была выбрана целевая переменная is_best_wine -> которая была преобразована из Carat Weight (если карат >= 2, то вино считается лучшим, иначе не лучшее)```"
      ]
    },
    {
      "cell_type": "code",
      "execution_count": 239,
      "metadata": {
        "id": "n4borJ_DDN4d"
      },
      "outputs": [],
      "source": [
        "df['is_old'] = np.where(df['age'] >= 30, 1, 0).astype(int)"
      ]
    },
    {
      "cell_type": "code",
      "execution_count": 240,
      "metadata": {
        "colab": {
          "base_uri": "https://localhost:8080/"
        },
        "id": "Qv2hfqKQILE4",
        "outputId": "ef2df2a8-ec0b-4024-b41d-ee5dc7b72304"
      },
      "outputs": [
        {
          "data": {
            "text/plain": [
              "Index(['age', 'workclass', 'education', 'education-num', 'marital-status',\n",
              "       'occupation', 'relationship', 'race', 'sex', 'capital-gain',\n",
              "       'capital-loss', 'hours-per-week', 'native-country', 'income >50K',\n",
              "       'is_old'],\n",
              "      dtype='object')"
            ]
          },
          "execution_count": 240,
          "metadata": {},
          "output_type": "execute_result"
        }
      ],
      "source": [
        "df.columns"
      ]
    },
    {
      "cell_type": "code",
      "execution_count": 241,
      "metadata": {
        "id": "9OVe4b_GH2o1"
      },
      "outputs": [],
      "source": [
        "Y = df['is_old'] # выбираем целевую переменную (категориальную)\n",
        "X = df.drop('is_old', axis=1) # переменные для проверки влияния\n",
        "\n",
        "# В моем случае я дропаю базовую переменную, а не только. Y\n",
        "X = X.drop('age', axis=1)"
      ]
    },
    {
      "cell_type": "markdown",
      "metadata": {
        "id": "swUhFdbAH_Q5"
      },
      "source": [
        "5. **Графический анализ**"
      ]
    },
    {
      "cell_type": "code",
      "execution_count": 242,
      "metadata": {
        "colab": {
          "base_uri": "https://localhost:8080/",
          "height": 441
        },
        "id": "Bf4NXIG1It51",
        "outputId": "72b564c4-12af-4715-ff04-969c4a5acb41"
      },
      "outputs": [
        {
          "data": {
            "text/html": [
              "<div>\n",
              "<style scoped>\n",
              "    .dataframe tbody tr th:only-of-type {\n",
              "        vertical-align: middle;\n",
              "    }\n",
              "\n",
              "    .dataframe tbody tr th {\n",
              "        vertical-align: top;\n",
              "    }\n",
              "\n",
              "    .dataframe thead th {\n",
              "        text-align: right;\n",
              "    }\n",
              "</style>\n",
              "<table border=\"1\" class=\"dataframe\">\n",
              "  <thead>\n",
              "    <tr style=\"text-align: right;\">\n",
              "      <th></th>\n",
              "      <th>education-num</th>\n",
              "      <th>capital-gain</th>\n",
              "      <th>capital-loss</th>\n",
              "      <th>hours-per-week</th>\n",
              "      <th>income &gt;50K</th>\n",
              "    </tr>\n",
              "  </thead>\n",
              "  <tbody>\n",
              "    <tr>\n",
              "      <th>0</th>\n",
              "      <td>13</td>\n",
              "      <td>2174</td>\n",
              "      <td>0</td>\n",
              "      <td>40</td>\n",
              "      <td>0</td>\n",
              "    </tr>\n",
              "    <tr>\n",
              "      <th>1</th>\n",
              "      <td>13</td>\n",
              "      <td>0</td>\n",
              "      <td>0</td>\n",
              "      <td>13</td>\n",
              "      <td>0</td>\n",
              "    </tr>\n",
              "    <tr>\n",
              "      <th>2</th>\n",
              "      <td>9</td>\n",
              "      <td>0</td>\n",
              "      <td>0</td>\n",
              "      <td>40</td>\n",
              "      <td>0</td>\n",
              "    </tr>\n",
              "    <tr>\n",
              "      <th>3</th>\n",
              "      <td>7</td>\n",
              "      <td>0</td>\n",
              "      <td>0</td>\n",
              "      <td>40</td>\n",
              "      <td>0</td>\n",
              "    </tr>\n",
              "    <tr>\n",
              "      <th>4</th>\n",
              "      <td>13</td>\n",
              "      <td>0</td>\n",
              "      <td>0</td>\n",
              "      <td>40</td>\n",
              "      <td>0</td>\n",
              "    </tr>\n",
              "    <tr>\n",
              "      <th>...</th>\n",
              "      <td>...</td>\n",
              "      <td>...</td>\n",
              "      <td>...</td>\n",
              "      <td>...</td>\n",
              "      <td>...</td>\n",
              "    </tr>\n",
              "    <tr>\n",
              "      <th>32556</th>\n",
              "      <td>12</td>\n",
              "      <td>0</td>\n",
              "      <td>0</td>\n",
              "      <td>38</td>\n",
              "      <td>0</td>\n",
              "    </tr>\n",
              "    <tr>\n",
              "      <th>32557</th>\n",
              "      <td>9</td>\n",
              "      <td>0</td>\n",
              "      <td>0</td>\n",
              "      <td>40</td>\n",
              "      <td>1</td>\n",
              "    </tr>\n",
              "    <tr>\n",
              "      <th>32558</th>\n",
              "      <td>9</td>\n",
              "      <td>0</td>\n",
              "      <td>0</td>\n",
              "      <td>40</td>\n",
              "      <td>0</td>\n",
              "    </tr>\n",
              "    <tr>\n",
              "      <th>32559</th>\n",
              "      <td>9</td>\n",
              "      <td>0</td>\n",
              "      <td>0</td>\n",
              "      <td>20</td>\n",
              "      <td>0</td>\n",
              "    </tr>\n",
              "    <tr>\n",
              "      <th>32560</th>\n",
              "      <td>9</td>\n",
              "      <td>15024</td>\n",
              "      <td>0</td>\n",
              "      <td>40</td>\n",
              "      <td>1</td>\n",
              "    </tr>\n",
              "  </tbody>\n",
              "</table>\n",
              "<p>32561 rows × 5 columns</p>\n",
              "</div>"
            ],
            "text/plain": [
              "       education-num  capital-gain  capital-loss  hours-per-week  income >50K\n",
              "0                 13          2174             0              40            0\n",
              "1                 13             0             0              13            0\n",
              "2                  9             0             0              40            0\n",
              "3                  7             0             0              40            0\n",
              "4                 13             0             0              40            0\n",
              "...              ...           ...           ...             ...          ...\n",
              "32556             12             0             0              38            0\n",
              "32557              9             0             0              40            1\n",
              "32558              9             0             0              40            0\n",
              "32559              9             0             0              20            0\n",
              "32560              9         15024             0              40            1\n",
              "\n",
              "[32561 rows x 5 columns]"
            ]
          },
          "execution_count": 242,
          "metadata": {},
          "output_type": "execute_result"
        }
      ],
      "source": [
        "# Список числовых колонок для построения графиков\n",
        "numeric_cols = X.select_dtypes(include=['float64', 'int64'])\n",
        "numeric_cols"
      ]
    },
    {
      "cell_type": "code",
      "execution_count": 243,
      "metadata": {
        "colab": {
          "base_uri": "https://localhost:8080/",
          "height": 1000
        },
        "id": "eNse8fXjJkAC",
        "outputId": "13842e03-25d2-478a-c261-f44c0fdc9a3c"
      },
      "outputs": [
        {
          "data": {
            "image/png": "[encoded data removed]",
            "text/plain": [
              "<Figure size 800x600 with 1 Axes>"
            ]
          },
          "metadata": {},
          "output_type": "display_data"
        },
        {
          "data": {
            "image/png": "[encoded data removed]",
            "text/plain": [
              "<Figure size 800x600 with 1 Axes>"
            ]
          },
          "metadata": {},
          "output_type": "display_data"
        },
        {
          "data": {
            "image/png": "[encoded data removed]",
            "text/plain": [
              "<Figure size 800x600 with 1 Axes>"
            ]
          },
          "metadata": {},
          "output_type": "display_data"
        },
        {
          "data": {
            "image/png": "[encoded data removed]",
            "text/plain": [
              "<Figure size 800x600 with 1 Axes>"
            ]
          },
          "metadata": {},
          "output_type": "display_data"
        },
        {
          "data": {
            "image/png": "[encoded data removed]",
            "text/plain": [
              "<Figure size 800x600 with 1 Axes>"
            ]
          },
          "metadata": {},
          "output_type": "display_data"
        }
      ],
      "source": [
        "# Построение boxplot для каждой переменной\n",
        "for col in numeric_cols:\n",
        "    plt.figure(figsize=(8, 6))\n",
        "    sns.boxplot(x='is_old', y=col, data=df)\n",
        "    plt.title(f'Boxplot {col} относительно is_old')\n",
        "    plt.show()"
      ]
    },
    {
      "cell_type": "code",
      "execution_count": 244,
      "metadata": {
        "colab": {
          "base_uri": "https://localhost:8080/",
          "height": 1000
        },
        "id": "ZczeCnXDJrp4",
        "outputId": "8b1123f4-c530-45af-814a-7b3c0c024411"
      },
      "outputs": [
        {
          "data": {
            "image/png": "[encoded data removed]",
            "text/plain": [
              "<Figure size 800x600 with 1 Axes>"
            ]
          },
          "metadata": {},
          "output_type": "display_data"
        },
        {
          "data": {
            "image/png": "[encoded data removed]",
            "text/plain": [
              "<Figure size 800x600 with 1 Axes>"
            ]
          },
          "metadata": {},
          "output_type": "display_data"
        },
        {
          "data": {
            "image/png": "[encoded data removed]",
            "text/plain": [
              "<Figure size 800x600 with 1 Axes>"
            ]
          },
          "metadata": {},
          "output_type": "display_data"
        },
        {
          "data": {
            "image/png": "[encoded data removed]",
            "text/plain": [
              "<Figure size 800x600 with 1 Axes>"
            ]
          },
          "metadata": {},
          "output_type": "display_data"
        },
        {
          "data": {
            "image/png": "[encoded data removed]",
            "text/plain": [
              "<Figure size 800x600 with 1 Axes>"
            ]
          },
          "metadata": {},
          "output_type": "display_data"
        }
      ],
      "source": [
        "# Построение диаграмм распределения для каждой переменной\n",
        "for col in numeric_cols:\n",
        "    plt.figure(figsize=(8, 6))\n",
        "    sns.histplot(data=df, x=col, hue='is_old', element=\"step\", stat=\"density\", common_norm=False)\n",
        "    plt.title(f'Распределение {col} относительно is_old')\n",
        "    plt.show()"
      ]
    },
    {
      "cell_type": "markdown",
      "metadata": {
        "id": "VaRCEhhPthDQ"
      },
      "source": [
        "⏰ проанализировать график, выделить значимые признаки относительно Y"
      ]
    },
    {
      "cell_type": "code",
      "execution_count": 245,
      "metadata": {
        "id": "9lBY1IdeJ3Mb"
      },
      "outputs": [],
      "source": [
        "# Описательная статистика для числовых переменных, разделенная по целевой переменной\n",
        "desc_stats_numeric = df.groupby('is_old')[df.select_dtypes(include=[np.number]).columns].describe()\n",
        "\n",
        "# Описательная статистика для категориальных переменных, разделенная по целевой переменной\n",
        "desc_stats_categorical = df.groupby('is_old')[df.select_dtypes(include=['object']).columns].describe()"
      ]
    },
    {
      "cell_type": "markdown",
      "metadata": {
        "id": "gAkuvGAwLDP5"
      },
      "source": [
        "### Описание полученных результатов\n",
        "⏰ ```Необходимо сделать подобное описание для своих переменных```"
      ]
    },
    {
      "cell_type": "code",
      "execution_count": 246,
      "metadata": {
        "colab": {
          "base_uri": "https://localhost:8080/"
        },
        "id": "36FjYF_vLrYa",
        "outputId": "2adf379f-9756-4a4e-e22f-af19c5eff66c"
      },
      "outputs": [
        {
          "name": "stdout",
          "output_type": "stream",
          "text": [
            "Описательная статистика для education-num:\n",
            "\n",
            "          count       mean       std  min  25%   50%   75%   max\n",
            "is_old                                                          \n",
            "0        9711.0   9.689836  2.209282  1.0  9.0  10.0  10.0  16.0\n",
            "1       22850.0  10.246783  2.695410  1.0  9.0  10.0  13.0  16.0\n",
            "\n",
            "==================================================\n",
            "\n",
            "Описательная статистика для capital-gain:\n",
            "\n",
            "          count         mean          std  min  25%  50%  75%      max\n",
            "is_old                                                                \n",
            "0        9711.0   262.187828  3176.957073  0.0  0.0  0.0  0.0  99999.0\n",
            "1       22850.0  1424.210853  8545.854020  0.0  0.0  0.0  0.0  99999.0\n",
            "\n",
            "==================================================\n",
            "\n",
            "Описательная статистика для capital-loss:\n",
            "\n",
            "          count        mean         std  min  25%  50%  75%     max\n",
            "is_old                                                             \n",
            "0        9711.0   46.901452  288.392030  0.0  0.0  0.0  0.0  2824.0\n",
            "1       22850.0  104.474398  441.650931  0.0  0.0  0.0  0.0  4356.0\n",
            "\n",
            "==================================================\n",
            "\n",
            "Описательная статистика для hours-per-week:\n",
            "\n",
            "          count       mean        std  min   25%   50%   75%   max\n",
            "is_old                                                            \n",
            "0        9711.0  36.609412  12.476192  1.0  30.0  40.0  40.0  99.0\n",
            "1       22850.0  42.064333  11.926125  1.0  40.0  40.0  47.0  99.0\n",
            "\n",
            "==================================================\n",
            "\n",
            "Описательная статистика для income >50K:\n",
            "\n",
            "          count      mean       std  min  25%  50%  75%  max\n",
            "is_old                                                      \n",
            "0        9711.0  0.052621  0.223287  0.0  0.0  0.0  0.0  1.0\n",
            "1       22850.0  0.320788  0.466790  0.0  0.0  0.0  1.0  1.0\n",
            "\n",
            "==================================================\n",
            "\n"
          ]
        }
      ],
      "source": [
        "# Проходим по каждой числовой переменной и выводим статистику отдельно\n",
        "for col in numeric_cols:\n",
        "    print(f\"Описательная статистика для {col}:\\n\")\n",
        "    print(df.groupby('is_old')[col].describe())\n",
        "    print(\"\\n\" + \"=\"*50 + \"\\n\")\n"
      ]
    },
    {
      "cell_type": "code",
      "execution_count": 247,
      "metadata": {
        "colab": {
          "base_uri": "https://localhost:8080/",
          "height": 211
        },
        "id": "9jFLJ6qYKPbZ",
        "outputId": "be145b7d-ce35-42e7-b263-bf8bfbd871a6"
      },
      "outputs": [
        {
          "name": "stdout",
          "output_type": "stream",
          "text": [
            "\n",
            "Категориальные переменные:\n"
          ]
        },
        {
          "data": {
            "text/html": [
              "<div>\n",
              "<style scoped>\n",
              "    .dataframe tbody tr th:only-of-type {\n",
              "        vertical-align: middle;\n",
              "    }\n",
              "\n",
              "    .dataframe tbody tr th {\n",
              "        vertical-align: top;\n",
              "    }\n",
              "\n",
              "    .dataframe thead tr th {\n",
              "        text-align: left;\n",
              "    }\n",
              "\n",
              "    .dataframe thead tr:last-of-type th {\n",
              "        text-align: right;\n",
              "    }\n",
              "</style>\n",
              "<table border=\"1\" class=\"dataframe\">\n",
              "  <thead>\n",
              "    <tr>\n",
              "      <th></th>\n",
              "      <th colspan=\"4\" halign=\"left\">workclass</th>\n",
              "      <th colspan=\"4\" halign=\"left\">education</th>\n",
              "      <th colspan=\"2\" halign=\"left\">marital-status</th>\n",
              "      <th>...</th>\n",
              "      <th colspan=\"2\" halign=\"left\">race</th>\n",
              "      <th colspan=\"4\" halign=\"left\">sex</th>\n",
              "      <th colspan=\"4\" halign=\"left\">native-country</th>\n",
              "    </tr>\n",
              "    <tr>\n",
              "      <th></th>\n",
              "      <th>count</th>\n",
              "      <th>unique</th>\n",
              "      <th>top</th>\n",
              "      <th>freq</th>\n",
              "      <th>count</th>\n",
              "      <th>unique</th>\n",
              "      <th>top</th>\n",
              "      <th>freq</th>\n",
              "      <th>count</th>\n",
              "      <th>unique</th>\n",
              "      <th>...</th>\n",
              "      <th>top</th>\n",
              "      <th>freq</th>\n",
              "      <th>count</th>\n",
              "      <th>unique</th>\n",
              "      <th>top</th>\n",
              "      <th>freq</th>\n",
              "      <th>count</th>\n",
              "      <th>unique</th>\n",
              "      <th>top</th>\n",
              "      <th>freq</th>\n",
              "    </tr>\n",
              "    <tr>\n",
              "      <th>is_old</th>\n",
              "      <th></th>\n",
              "      <th></th>\n",
              "      <th></th>\n",
              "      <th></th>\n",
              "      <th></th>\n",
              "      <th></th>\n",
              "      <th></th>\n",
              "      <th></th>\n",
              "      <th></th>\n",
              "      <th></th>\n",
              "      <th></th>\n",
              "      <th></th>\n",
              "      <th></th>\n",
              "      <th></th>\n",
              "      <th></th>\n",
              "      <th></th>\n",
              "      <th></th>\n",
              "      <th></th>\n",
              "      <th></th>\n",
              "      <th></th>\n",
              "      <th></th>\n",
              "    </tr>\n",
              "  </thead>\n",
              "  <tbody>\n",
              "    <tr>\n",
              "      <th>0</th>\n",
              "      <td>8923</td>\n",
              "      <td>8</td>\n",
              "      <td>Private</td>\n",
              "      <td>7675</td>\n",
              "      <td>9711</td>\n",
              "      <td>16</td>\n",
              "      <td>HS-grad</td>\n",
              "      <td>2983</td>\n",
              "      <td>9711</td>\n",
              "      <td>7</td>\n",
              "      <td>...</td>\n",
              "      <td>White</td>\n",
              "      <td>8214</td>\n",
              "      <td>9711</td>\n",
              "      <td>2</td>\n",
              "      <td>Male</td>\n",
              "      <td>5725</td>\n",
              "      <td>9568</td>\n",
              "      <td>40</td>\n",
              "      <td>United-States</td>\n",
              "      <td>8668</td>\n",
              "    </tr>\n",
              "    <tr>\n",
              "      <th>1</th>\n",
              "      <td>21802</td>\n",
              "      <td>8</td>\n",
              "      <td>Private</td>\n",
              "      <td>15021</td>\n",
              "      <td>22850</td>\n",
              "      <td>16</td>\n",
              "      <td>HS-grad</td>\n",
              "      <td>7518</td>\n",
              "      <td>22850</td>\n",
              "      <td>7</td>\n",
              "      <td>...</td>\n",
              "      <td>White</td>\n",
              "      <td>19602</td>\n",
              "      <td>22850</td>\n",
              "      <td>2</td>\n",
              "      <td>Male</td>\n",
              "      <td>16065</td>\n",
              "      <td>22410</td>\n",
              "      <td>41</td>\n",
              "      <td>United-States</td>\n",
              "      <td>20502</td>\n",
              "    </tr>\n",
              "  </tbody>\n",
              "</table>\n",
              "<p>2 rows × 32 columns</p>\n",
              "</div>"
            ],
            "text/plain": [
              "       workclass                        education                        \\\n",
              "           count unique      top   freq     count unique      top  freq   \n",
              "is_old                                                                    \n",
              "0           8923      8  Private   7675      9711     16  HS-grad  2983   \n",
              "1          21802      8  Private  15021     22850     16  HS-grad  7518   \n",
              "\n",
              "       marital-status         ...   race           sex                      \\\n",
              "                count unique  ...    top   freq  count unique   top   freq   \n",
              "is_old                        ...                                            \n",
              "0                9711      7  ...  White   8214   9711      2  Male   5725   \n",
              "1               22850      7  ...  White  19602  22850      2  Male  16065   \n",
              "\n",
              "       native-country                               \n",
              "                count unique            top   freq  \n",
              "is_old                                              \n",
              "0                9568     40  United-States   8668  \n",
              "1               22410     41  United-States  20502  \n",
              "\n",
              "[2 rows x 32 columns]"
            ]
          },
          "execution_count": 247,
          "metadata": {},
          "output_type": "execute_result"
        }
      ],
      "source": [
        "print(\"\\nКатегориальные переменные:\")\n",
        "desc_stats_categorical"
      ]
    },
    {
      "cell_type": "markdown",
      "metadata": {
        "id": "uTjBhGD4Lhwx"
      },
      "source": [
        "#### 1. **education-num**:\n",
        "   - **Среднее значение** у людей возрастом больше 30 - 9.68, меньше - 10.2\n",
        "   - **Разброс (std)** в обеих группах примерно одинаковый (2.209282 и 2.695410), что говорит о схожей вариативности количества образований\n",
        "\n",
        "#### 2. **capital-gain**:\n",
        "   - **Среднее значение** у людей возрастом больше 30 - 1424.210853, меньше - 262.187828. Старики зарабатывают лучше\n",
        "   - **Разброс (std)** у стариков расброс больше\n",
        "\n",
        "#### 2. **capital-loss**:\n",
        "   - **Среднее значение** у людей возрастом больше 30 - 104.474398, меньше - 46.901452. Старики теряют больше, но не на столько как зарабатывают\n",
        "   - **Разброс (std)** у стариков расброс больше, чуть меньше чем в доходах\n",
        "\n",
        "### Вывод:\n",
        "На основе представленных данных можно сказать, что старики зарабатывают намного больше"
      ]
    },
    {
      "cell_type": "markdown",
      "metadata": {
        "id": "b34BwyK0MF0P"
      },
      "source": [
        "## 2. Расчет теста Пирсона"
      ]
    },
    {
      "cell_type": "markdown",
      "metadata": {
        "id": "ixhxJl6lMtNV"
      },
      "source": [
        "### **Описание:**\n",
        "Вы рассчитаете коэффициенты корреляции Пирсона между Y и каждым из признаков X, чтобы оценить значимость этих корреляций.\n",
        "\n",
        "### **Шаги:**\n",
        "\n",
        "1. **Рассчитайте коэффициенты корреляции Пирсона для каждого признака:**"
      ]
    },
    {
      "cell_type": "code",
      "execution_count": 251,
      "metadata": {
        "colab": {
          "base_uri": "https://localhost:8080/",
          "height": 581
        },
        "id": "A9e2_NoPMRfK",
        "outputId": "353fa631-78a2-43f5-dcdd-d463aeaaa800"
      },
      "outputs": [
        {
          "data": {
            "text/html": [
              "<div>\n",
              "<style scoped>\n",
              "    .dataframe tbody tr th:only-of-type {\n",
              "        vertical-align: middle;\n",
              "    }\n",
              "\n",
              "    .dataframe tbody tr th {\n",
              "        vertical-align: top;\n",
              "    }\n",
              "\n",
              "    .dataframe thead th {\n",
              "        text-align: right;\n",
              "    }\n",
              "</style>\n",
              "<table border=\"1\" class=\"dataframe\">\n",
              "  <thead>\n",
              "    <tr style=\"text-align: right;\">\n",
              "      <th></th>\n",
              "      <th>age</th>\n",
              "      <th>education-num</th>\n",
              "      <th>capital-gain</th>\n",
              "      <th>capital-loss</th>\n",
              "      <th>hours-per-week</th>\n",
              "      <th>income &gt;50K</th>\n",
              "      <th>is_old</th>\n",
              "    </tr>\n",
              "  </thead>\n",
              "  <tbody>\n",
              "    <tr>\n",
              "      <th>age</th>\n",
              "      <td>1.000000</td>\n",
              "      <td>0.036527</td>\n",
              "      <td>0.077674</td>\n",
              "      <td>0.057775</td>\n",
              "      <td>0.068756</td>\n",
              "      <td>0.234037</td>\n",
              "      <td>0.720308</td>\n",
              "    </tr>\n",
              "    <tr>\n",
              "      <th>education-num</th>\n",
              "      <td>0.036527</td>\n",
              "      <td>1.000000</td>\n",
              "      <td>0.122630</td>\n",
              "      <td>0.079923</td>\n",
              "      <td>0.148123</td>\n",
              "      <td>0.335154</td>\n",
              "      <td>0.099039</td>\n",
              "    </tr>\n",
              "    <tr>\n",
              "      <th>capital-gain</th>\n",
              "      <td>0.077674</td>\n",
              "      <td>0.122630</td>\n",
              "      <td>1.000000</td>\n",
              "      <td>-0.031615</td>\n",
              "      <td>0.078409</td>\n",
              "      <td>0.223329</td>\n",
              "      <td>0.071983</td>\n",
              "    </tr>\n",
              "    <tr>\n",
              "      <th>capital-loss</th>\n",
              "      <td>0.057775</td>\n",
              "      <td>0.079923</td>\n",
              "      <td>-0.031615</td>\n",
              "      <td>1.000000</td>\n",
              "      <td>0.054256</td>\n",
              "      <td>0.150526</td>\n",
              "      <td>0.065364</td>\n",
              "    </tr>\n",
              "    <tr>\n",
              "      <th>hours-per-week</th>\n",
              "      <td>0.068756</td>\n",
              "      <td>0.148123</td>\n",
              "      <td>0.078409</td>\n",
              "      <td>0.054256</td>\n",
              "      <td>1.000000</td>\n",
              "      <td>0.229689</td>\n",
              "      <td>0.202114</td>\n",
              "    </tr>\n",
              "    <tr>\n",
              "      <th>income &gt;50K</th>\n",
              "      <td>0.234037</td>\n",
              "      <td>0.335154</td>\n",
              "      <td>0.223329</td>\n",
              "      <td>0.150526</td>\n",
              "      <td>0.229689</td>\n",
              "      <td>1.000000</td>\n",
              "      <td>0.286926</td>\n",
              "    </tr>\n",
              "    <tr>\n",
              "      <th>is_old</th>\n",
              "      <td>0.720308</td>\n",
              "      <td>0.099039</td>\n",
              "      <td>0.071983</td>\n",
              "      <td>0.065364</td>\n",
              "      <td>0.202114</td>\n",
              "      <td>0.286926</td>\n",
              "      <td>1.000000</td>\n",
              "    </tr>\n",
              "  </tbody>\n",
              "</table>\n",
              "</div>"
            ],
            "text/plain": [
              "                     age  education-num  capital-gain  capital-loss  \\\n",
              "age             1.000000       0.036527      0.077674      0.057775   \n",
              "education-num   0.036527       1.000000      0.122630      0.079923   \n",
              "capital-gain    0.077674       0.122630      1.000000     -0.031615   \n",
              "capital-loss    0.057775       0.079923     -0.031615      1.000000   \n",
              "hours-per-week  0.068756       0.148123      0.078409      0.054256   \n",
              "income >50K     0.234037       0.335154      0.223329      0.150526   \n",
              "is_old          0.720308       0.099039      0.071983      0.065364   \n",
              "\n",
              "                hours-per-week  income >50K    is_old  \n",
              "age                   0.068756     0.234037  0.720308  \n",
              "education-num         0.148123     0.335154  0.099039  \n",
              "capital-gain          0.078409     0.223329  0.071983  \n",
              "capital-loss          0.054256     0.150526  0.065364  \n",
              "hours-per-week        1.000000     0.229689  0.202114  \n",
              "income >50K           0.229689     1.000000  0.286926  \n",
              "is_old                0.202114     0.286926  1.000000  "
            ]
          },
          "execution_count": 251,
          "metadata": {},
          "output_type": "execute_result"
        }
      ],
      "source": [
        "df[df.select_dtypes(include=[np.number]).columns].corr()"
      ]
    },
    {
      "cell_type": "markdown",
      "metadata": {
        "id": "v2KxpxnBMyDL"
      },
      "source": [
        "2. ⏰ **Интерпретируйте результаты:**\n",
        "\n",
        "\n",
        "### Интерпретация:\n",
        "- **Коэффициент корреляции Пирсона** показывает степень линейной связи между двумя переменными."
      ]
    },
    {
      "cell_type": "markdown",
      "metadata": {
        "id": "nSVkl345PZOK"
      },
      "source": [
        "### Описание корреляций для значимых признаков:\n"
      ]
    },
    {
      "cell_type": "markdown",
      "metadata": {
        "id": "Faea4u5mPd5B"
      },
      "source": [
        "\n",
        "1. **income >50K education-num (0.335154)**:\n",
        "   - Старики больше образований \n",
        "\n",
        "2. **income >50K и age (0.234037)**:\n",
        "   - Старики больше зарабатывают"
      ]
    },
    {
      "cell_type": "markdown",
      "metadata": {
        "id": "LUZs5O0zPp3h"
      },
      "source": [
        "### Почему мультиколлинеарность это плохо?"
      ]
    },
    {
      "cell_type": "markdown",
      "metadata": {
        "id": "iMQop79XPrbr"
      },
      "source": [
        "Мультиколлинеарность возникает, когда два или более независимых признака сильно коррелируют друг с другом. Это приводит к нескольким проблемам:\n",
        "\n",
        "1. **Переоценка значимости признаков**:\n",
        "   - Когда признаки сильно коррелированы, модель может \"перепутать\" влияние каждого из них на целевую переменную, что приведет к ненадежным коэффициентам. Это затрудняет интерпретацию модели, поскольку сложно понять, какой из признаков действительно важен.\n",
        "\n",
        "2. **Нестабильность модели**:\n",
        "   - При наличии мультиколлинеарности небольшие изменения в данных могут привести к большим изменениям в коэффициентах модели. Это делает модель нестабильной и менее устойчивой.\n",
        "\n",
        "3. **Затруднение выбора значимых признаков**:\n",
        "   - Модель может затрудняться при выделении важности отдельных признаков, если они сильно связаны друг с другом. Это может усложнить процесс отбора признаков и снизить точность модели.\n",
        "\n",
        "4. **Увеличение дисперсии коэффициентов**:\n",
        "   - Мультиколлинеарность увеличивает дисперсию оценок коэффициентов регрессии, что делает их менее надежными. В результате, некоторые признаки могут казаться незначимыми, хотя на самом деле они играют важную роль."
      ]
    },
    {
      "cell_type": "markdown",
      "metadata": {
        "id": "Jy_5Ydv0Q6pl"
      },
      "source": [
        "## 3. Немного машинного обучения"
      ]
    },
    {
      "cell_type": "markdown",
      "metadata": {
        "id": "pIQF0u7rQ9bE"
      },
      "source": [
        "- отберем признаки (числовые и категориальные отдельно)\n",
        "- обработаем числовые и категориальыне\n",
        "- обучим модель\n",
        "- узнаем что влияет на Y"
      ]
    },
    {
      "cell_type": "code",
      "execution_count": 249,
      "metadata": {
        "id": "EaXN0RZRRdeV"
      },
      "outputs": [],
      "source": [
        "from sklearn.model_selection import train_test_split\n",
        "from sklearn.preprocessing import MinMaxScaler, OneHotEncoder\n",
        "from sklearn.linear_model import LogisticRegression\n",
        "from sklearn.metrics import accuracy_score, classification_report"
      ]
    },
    {
      "cell_type": "code",
      "execution_count": 250,
      "metadata": {
        "id": "lTk0CBB0RGXN"
      },
      "outputs": [
        {
          "ename": "KeyError",
          "evalue": "\"None of [Index(['Cut', 'Color', 'Clarity', 'Polish', 'Symmetry', 'Report', 'Price'], dtype='object')] are in the [columns]\"",
          "output_type": "error",
          "traceback": [
            "\u001b[0;31m---------------------------------------------------------------------------\u001b[0m",
            "\u001b[0;31mKeyError\u001b[0m                                  Traceback (most recent call last)",
            "Cell \u001b[0;32mIn[250], line 4\u001b[0m\n\u001b[1;32m      2\u001b[0m X_processed \u001b[38;5;241m=\u001b[39m X\u001b[38;5;241m.\u001b[39mcopy()\n\u001b[1;32m      3\u001b[0m \u001b[38;5;66;03m# Применяем One-Hot Encoding\u001b[39;00m\n\u001b[0;32m----> 4\u001b[0m X_processed \u001b[38;5;241m=\u001b[39m \u001b[43mpd\u001b[49m\u001b[38;5;241;43m.\u001b[39;49m\u001b[43mget_dummies\u001b[49m\u001b[43m(\u001b[49m\u001b[43mX_processed\u001b[49m\u001b[43m,\u001b[49m\u001b[43m \u001b[49m\u001b[43mcolumns\u001b[49m\u001b[38;5;241;43m=\u001b[39;49m\u001b[43mcategorical_features\u001b[49m\u001b[43m,\u001b[49m\u001b[43m \u001b[49m\u001b[43mdrop_first\u001b[49m\u001b[38;5;241;43m=\u001b[39;49m\u001b[38;5;28;43;01mTrue\u001b[39;49;00m\u001b[43m)\u001b[49m \u001b[38;5;66;03m# drop_first=True позволяет избежать мультиколлинеарности, удаляя первый уровень категориальной переменной.\u001b[39;00m\n",
            "File \u001b[0;32m~/Desktop/staff/web-python/venv/lib/python3.12/site-packages/pandas/core/reshape/encoding.py:169\u001b[0m, in \u001b[0;36mget_dummies\u001b[0;34m(data, prefix, prefix_sep, dummy_na, columns, sparse, drop_first, dtype)\u001b[0m\n\u001b[1;32m    167\u001b[0m     \u001b[38;5;28;01mraise\u001b[39;00m \u001b[38;5;167;01mTypeError\u001b[39;00m(\u001b[38;5;124m\"\u001b[39m\u001b[38;5;124mInput must be a list-like for parameter `columns`\u001b[39m\u001b[38;5;124m\"\u001b[39m)\n\u001b[1;32m    168\u001b[0m \u001b[38;5;28;01melse\u001b[39;00m:\n\u001b[0;32m--> 169\u001b[0m     data_to_encode \u001b[38;5;241m=\u001b[39m \u001b[43mdata\u001b[49m\u001b[43m[\u001b[49m\u001b[43mcolumns\u001b[49m\u001b[43m]\u001b[49m\n\u001b[1;32m    171\u001b[0m \u001b[38;5;66;03m# validate prefixes and separator to avoid silently dropping cols\u001b[39;00m\n\u001b[1;32m    172\u001b[0m \u001b[38;5;28;01mdef\u001b[39;00m \u001b[38;5;21mcheck_len\u001b[39m(item, name: \u001b[38;5;28mstr\u001b[39m):\n",
            "File \u001b[0;32m~/Desktop/staff/web-python/venv/lib/python3.12/site-packages/pandas/core/frame.py:4108\u001b[0m, in \u001b[0;36mDataFrame.__getitem__\u001b[0;34m(self, key)\u001b[0m\n\u001b[1;32m   4106\u001b[0m     \u001b[38;5;28;01mif\u001b[39;00m is_iterator(key):\n\u001b[1;32m   4107\u001b[0m         key \u001b[38;5;241m=\u001b[39m \u001b[38;5;28mlist\u001b[39m(key)\n\u001b[0;32m-> 4108\u001b[0m     indexer \u001b[38;5;241m=\u001b[39m \u001b[38;5;28;43mself\u001b[39;49m\u001b[38;5;241;43m.\u001b[39;49m\u001b[43mcolumns\u001b[49m\u001b[38;5;241;43m.\u001b[39;49m\u001b[43m_get_indexer_strict\u001b[49m\u001b[43m(\u001b[49m\u001b[43mkey\u001b[49m\u001b[43m,\u001b[49m\u001b[43m \u001b[49m\u001b[38;5;124;43m\"\u001b[39;49m\u001b[38;5;124;43mcolumns\u001b[39;49m\u001b[38;5;124;43m\"\u001b[39;49m\u001b[43m)\u001b[49m[\u001b[38;5;241m1\u001b[39m]\n\u001b[1;32m   4110\u001b[0m \u001b[38;5;66;03m# take() does not accept boolean indexers\u001b[39;00m\n\u001b[1;32m   4111\u001b[0m \u001b[38;5;28;01mif\u001b[39;00m \u001b[38;5;28mgetattr\u001b[39m(indexer, \u001b[38;5;124m\"\u001b[39m\u001b[38;5;124mdtype\u001b[39m\u001b[38;5;124m\"\u001b[39m, \u001b[38;5;28;01mNone\u001b[39;00m) \u001b[38;5;241m==\u001b[39m \u001b[38;5;28mbool\u001b[39m:\n",
            "File \u001b[0;32m~/Desktop/staff/web-python/venv/lib/python3.12/site-packages/pandas/core/indexes/base.py:6200\u001b[0m, in \u001b[0;36mIndex._get_indexer_strict\u001b[0;34m(self, key, axis_name)\u001b[0m\n\u001b[1;32m   6197\u001b[0m \u001b[38;5;28;01melse\u001b[39;00m:\n\u001b[1;32m   6198\u001b[0m     keyarr, indexer, new_indexer \u001b[38;5;241m=\u001b[39m \u001b[38;5;28mself\u001b[39m\u001b[38;5;241m.\u001b[39m_reindex_non_unique(keyarr)\n\u001b[0;32m-> 6200\u001b[0m \u001b[38;5;28;43mself\u001b[39;49m\u001b[38;5;241;43m.\u001b[39;49m\u001b[43m_raise_if_missing\u001b[49m\u001b[43m(\u001b[49m\u001b[43mkeyarr\u001b[49m\u001b[43m,\u001b[49m\u001b[43m \u001b[49m\u001b[43mindexer\u001b[49m\u001b[43m,\u001b[49m\u001b[43m \u001b[49m\u001b[43maxis_name\u001b[49m\u001b[43m)\u001b[49m\n\u001b[1;32m   6202\u001b[0m keyarr \u001b[38;5;241m=\u001b[39m \u001b[38;5;28mself\u001b[39m\u001b[38;5;241m.\u001b[39mtake(indexer)\n\u001b[1;32m   6203\u001b[0m \u001b[38;5;28;01mif\u001b[39;00m \u001b[38;5;28misinstance\u001b[39m(key, Index):\n\u001b[1;32m   6204\u001b[0m     \u001b[38;5;66;03m# GH 42790 - Preserve name from an Index\u001b[39;00m\n",
            "File \u001b[0;32m~/Desktop/staff/web-python/venv/lib/python3.12/site-packages/pandas/core/indexes/base.py:6249\u001b[0m, in \u001b[0;36mIndex._raise_if_missing\u001b[0;34m(self, key, indexer, axis_name)\u001b[0m\n\u001b[1;32m   6247\u001b[0m \u001b[38;5;28;01mif\u001b[39;00m nmissing:\n\u001b[1;32m   6248\u001b[0m     \u001b[38;5;28;01mif\u001b[39;00m nmissing \u001b[38;5;241m==\u001b[39m \u001b[38;5;28mlen\u001b[39m(indexer):\n\u001b[0;32m-> 6249\u001b[0m         \u001b[38;5;28;01mraise\u001b[39;00m \u001b[38;5;167;01mKeyError\u001b[39;00m(\u001b[38;5;124mf\u001b[39m\u001b[38;5;124m\"\u001b[39m\u001b[38;5;124mNone of [\u001b[39m\u001b[38;5;132;01m{\u001b[39;00mkey\u001b[38;5;132;01m}\u001b[39;00m\u001b[38;5;124m] are in the [\u001b[39m\u001b[38;5;132;01m{\u001b[39;00maxis_name\u001b[38;5;132;01m}\u001b[39;00m\u001b[38;5;124m]\u001b[39m\u001b[38;5;124m\"\u001b[39m)\n\u001b[1;32m   6251\u001b[0m     not_found \u001b[38;5;241m=\u001b[39m \u001b[38;5;28mlist\u001b[39m(ensure_index(key)[missing_mask\u001b[38;5;241m.\u001b[39mnonzero()[\u001b[38;5;241m0\u001b[39m]]\u001b[38;5;241m.\u001b[39munique())\n\u001b[1;32m   6252\u001b[0m     \u001b[38;5;28;01mraise\u001b[39;00m \u001b[38;5;167;01mKeyError\u001b[39;00m(\u001b[38;5;124mf\u001b[39m\u001b[38;5;124m\"\u001b[39m\u001b[38;5;132;01m{\u001b[39;00mnot_found\u001b[38;5;132;01m}\u001b[39;00m\u001b[38;5;124m not in index\u001b[39m\u001b[38;5;124m\"\u001b[39m)\n",
            "\u001b[0;31mKeyError\u001b[0m: \"None of [Index(['Cut', 'Color', 'Clarity', 'Polish', 'Symmetry', 'Report', 'Price'], dtype='object')] are in the [columns]\""
          ]
        }
      ],
      "source": [
        "# Создаем копию данных\n",
        "X_processed = X.copy()\n",
        "# Применяем One-Hot Encoding\n",
        "X_processed = pd.get_dummies(X_processed, columns=categorical_features, drop_first=True) # drop_first=True позволяет избежать мультиколлинеарности, удаляя первый уровень категориальной переменной.\n"
      ]
    },
    {
      "cell_type": "code",
      "execution_count": 152,
      "metadata": {
        "colab": {
          "base_uri": "https://localhost:8080/"
        },
        "id": "DdR9yP9pQ9Ds",
        "outputId": "4e35f9e0-73c2-4d8a-8867-1c5d23d1dec2"
      },
      "outputs": [
        {
          "name": "stdout",
          "output_type": "stream",
          "text": [
            "Категориальные признаки: ['Cut', 'Color', 'Clarity', 'Polish', 'Symmetry', 'Report', 'Price']\n"
          ]
        }
      ],
      "source": [
        "# Выбираем категориальные признаки\n",
        "categorical_features = X.select_dtypes(include=['object', 'int64']).columns.tolist()\n",
        "\n",
        "print(\"Категориальные признаки:\", categorical_features)\n"
      ]
    },
    {
      "cell_type": "code",
      "execution_count": 160,
      "metadata": {
        "colab": {
          "base_uri": "https://localhost:8080/",
          "height": 478
        },
        "id": "eNMqQxUERKPG",
        "outputId": "052eff9c-b743-41ae-e6ef-89255cc50322"
      },
      "outputs": [
        {
          "data": {
            "text/html": [
              "<div>\n",
              "<style scoped>\n",
              "    .dataframe tbody tr th:only-of-type {\n",
              "        vertical-align: middle;\n",
              "    }\n",
              "\n",
              "    .dataframe tbody tr th {\n",
              "        vertical-align: top;\n",
              "    }\n",
              "\n",
              "    .dataframe thead th {\n",
              "        text-align: right;\n",
              "    }\n",
              "</style>\n",
              "<table border=\"1\" class=\"dataframe\">\n",
              "  <thead>\n",
              "    <tr style=\"text-align: right;\">\n",
              "      <th></th>\n",
              "      <th>Cut_Good</th>\n",
              "      <th>Cut_Ideal</th>\n",
              "      <th>Cut_Signature-Ideal</th>\n",
              "      <th>Cut_Very Good</th>\n",
              "      <th>Color_E</th>\n",
              "      <th>Color_F</th>\n",
              "      <th>Color_G</th>\n",
              "      <th>Color_H</th>\n",
              "      <th>Color_I</th>\n",
              "      <th>Clarity_IF</th>\n",
              "      <th>...</th>\n",
              "      <th>Price_70683</th>\n",
              "      <th>Price_72195</th>\n",
              "      <th>Price_73209</th>\n",
              "      <th>Price_75630</th>\n",
              "      <th>Price_77033</th>\n",
              "      <th>Price_81399</th>\n",
              "      <th>Price_83145</th>\n",
              "      <th>Price_93813</th>\n",
              "      <th>Price_96493</th>\n",
              "      <th>Price_101561</th>\n",
              "    </tr>\n",
              "  </thead>\n",
              "  <tbody>\n",
              "    <tr>\n",
              "      <th>0</th>\n",
              "      <td>False</td>\n",
              "      <td>True</td>\n",
              "      <td>False</td>\n",
              "      <td>False</td>\n",
              "      <td>False</td>\n",
              "      <td>False</td>\n",
              "      <td>False</td>\n",
              "      <td>True</td>\n",
              "      <td>False</td>\n",
              "      <td>False</td>\n",
              "      <td>...</td>\n",
              "      <td>False</td>\n",
              "      <td>False</td>\n",
              "      <td>False</td>\n",
              "      <td>False</td>\n",
              "      <td>False</td>\n",
              "      <td>False</td>\n",
              "      <td>False</td>\n",
              "      <td>False</td>\n",
              "      <td>False</td>\n",
              "      <td>False</td>\n",
              "    </tr>\n",
              "    <tr>\n",
              "      <th>1</th>\n",
              "      <td>False</td>\n",
              "      <td>True</td>\n",
              "      <td>False</td>\n",
              "      <td>False</td>\n",
              "      <td>False</td>\n",
              "      <td>False</td>\n",
              "      <td>False</td>\n",
              "      <td>True</td>\n",
              "      <td>False</td>\n",
              "      <td>False</td>\n",
              "      <td>...</td>\n",
              "      <td>False</td>\n",
              "      <td>False</td>\n",
              "      <td>False</td>\n",
              "      <td>False</td>\n",
              "      <td>False</td>\n",
              "      <td>False</td>\n",
              "      <td>False</td>\n",
              "      <td>False</td>\n",
              "      <td>False</td>\n",
              "      <td>False</td>\n",
              "    </tr>\n",
              "    <tr>\n",
              "      <th>2</th>\n",
              "      <td>False</td>\n",
              "      <td>True</td>\n",
              "      <td>False</td>\n",
              "      <td>False</td>\n",
              "      <td>False</td>\n",
              "      <td>False</td>\n",
              "      <td>False</td>\n",
              "      <td>True</td>\n",
              "      <td>False</td>\n",
              "      <td>False</td>\n",
              "      <td>...</td>\n",
              "      <td>False</td>\n",
              "      <td>False</td>\n",
              "      <td>False</td>\n",
              "      <td>False</td>\n",
              "      <td>False</td>\n",
              "      <td>False</td>\n",
              "      <td>False</td>\n",
              "      <td>False</td>\n",
              "      <td>False</td>\n",
              "      <td>False</td>\n",
              "    </tr>\n",
              "    <tr>\n",
              "      <th>3</th>\n",
              "      <td>False</td>\n",
              "      <td>True</td>\n",
              "      <td>False</td>\n",
              "      <td>False</td>\n",
              "      <td>True</td>\n",
              "      <td>False</td>\n",
              "      <td>False</td>\n",
              "      <td>False</td>\n",
              "      <td>False</td>\n",
              "      <td>False</td>\n",
              "      <td>...</td>\n",
              "      <td>False</td>\n",
              "      <td>False</td>\n",
              "      <td>False</td>\n",
              "      <td>False</td>\n",
              "      <td>False</td>\n",
              "      <td>False</td>\n",
              "      <td>False</td>\n",
              "      <td>False</td>\n",
              "      <td>False</td>\n",
              "      <td>False</td>\n",
              "    </tr>\n",
              "    <tr>\n",
              "      <th>4</th>\n",
              "      <td>False</td>\n",
              "      <td>True</td>\n",
              "      <td>False</td>\n",
              "      <td>False</td>\n",
              "      <td>False</td>\n",
              "      <td>False</td>\n",
              "      <td>True</td>\n",
              "      <td>False</td>\n",
              "      <td>False</td>\n",
              "      <td>False</td>\n",
              "      <td>...</td>\n",
              "      <td>False</td>\n",
              "      <td>False</td>\n",
              "      <td>False</td>\n",
              "      <td>False</td>\n",
              "      <td>False</td>\n",
              "      <td>False</td>\n",
              "      <td>False</td>\n",
              "      <td>False</td>\n",
              "      <td>False</td>\n",
              "      <td>False</td>\n",
              "    </tr>\n",
              "    <tr>\n",
              "      <th>...</th>\n",
              "      <td>...</td>\n",
              "      <td>...</td>\n",
              "      <td>...</td>\n",
              "      <td>...</td>\n",
              "      <td>...</td>\n",
              "      <td>...</td>\n",
              "      <td>...</td>\n",
              "      <td>...</td>\n",
              "      <td>...</td>\n",
              "      <td>...</td>\n",
              "      <td>...</td>\n",
              "      <td>...</td>\n",
              "      <td>...</td>\n",
              "      <td>...</td>\n",
              "      <td>...</td>\n",
              "      <td>...</td>\n",
              "      <td>...</td>\n",
              "      <td>...</td>\n",
              "      <td>...</td>\n",
              "      <td>...</td>\n",
              "      <td>...</td>\n",
              "    </tr>\n",
              "    <tr>\n",
              "      <th>5995</th>\n",
              "      <td>False</td>\n",
              "      <td>True</td>\n",
              "      <td>False</td>\n",
              "      <td>False</td>\n",
              "      <td>False</td>\n",
              "      <td>False</td>\n",
              "      <td>False</td>\n",
              "      <td>False</td>\n",
              "      <td>False</td>\n",
              "      <td>False</td>\n",
              "      <td>...</td>\n",
              "      <td>False</td>\n",
              "      <td>False</td>\n",
              "      <td>False</td>\n",
              "      <td>False</td>\n",
              "      <td>False</td>\n",
              "      <td>False</td>\n",
              "      <td>False</td>\n",
              "      <td>False</td>\n",
              "      <td>False</td>\n",
              "      <td>False</td>\n",
              "    </tr>\n",
              "    <tr>\n",
              "      <th>5996</th>\n",
              "      <td>False</td>\n",
              "      <td>False</td>\n",
              "      <td>False</td>\n",
              "      <td>True</td>\n",
              "      <td>False</td>\n",
              "      <td>False</td>\n",
              "      <td>False</td>\n",
              "      <td>False</td>\n",
              "      <td>False</td>\n",
              "      <td>False</td>\n",
              "      <td>...</td>\n",
              "      <td>False</td>\n",
              "      <td>False</td>\n",
              "      <td>False</td>\n",
              "      <td>False</td>\n",
              "      <td>False</td>\n",
              "      <td>False</td>\n",
              "      <td>False</td>\n",
              "      <td>False</td>\n",
              "      <td>False</td>\n",
              "      <td>False</td>\n",
              "    </tr>\n",
              "    <tr>\n",
              "      <th>5997</th>\n",
              "      <td>False</td>\n",
              "      <td>True</td>\n",
              "      <td>False</td>\n",
              "      <td>False</td>\n",
              "      <td>False</td>\n",
              "      <td>False</td>\n",
              "      <td>False</td>\n",
              "      <td>False</td>\n",
              "      <td>False</td>\n",
              "      <td>False</td>\n",
              "      <td>...</td>\n",
              "      <td>False</td>\n",
              "      <td>False</td>\n",
              "      <td>False</td>\n",
              "      <td>False</td>\n",
              "      <td>False</td>\n",
              "      <td>False</td>\n",
              "      <td>False</td>\n",
              "      <td>False</td>\n",
              "      <td>False</td>\n",
              "      <td>False</td>\n",
              "    </tr>\n",
              "    <tr>\n",
              "      <th>5998</th>\n",
              "      <td>False</td>\n",
              "      <td>False</td>\n",
              "      <td>True</td>\n",
              "      <td>False</td>\n",
              "      <td>False</td>\n",
              "      <td>False</td>\n",
              "      <td>True</td>\n",
              "      <td>False</td>\n",
              "      <td>False</td>\n",
              "      <td>False</td>\n",
              "      <td>...</td>\n",
              "      <td>False</td>\n",
              "      <td>False</td>\n",
              "      <td>False</td>\n",
              "      <td>False</td>\n",
              "      <td>False</td>\n",
              "      <td>False</td>\n",
              "      <td>False</td>\n",
              "      <td>False</td>\n",
              "      <td>False</td>\n",
              "      <td>False</td>\n",
              "    </tr>\n",
              "    <tr>\n",
              "      <th>5999</th>\n",
              "      <td>False</td>\n",
              "      <td>True</td>\n",
              "      <td>False</td>\n",
              "      <td>False</td>\n",
              "      <td>True</td>\n",
              "      <td>False</td>\n",
              "      <td>False</td>\n",
              "      <td>False</td>\n",
              "      <td>False</td>\n",
              "      <td>False</td>\n",
              "      <td>...</td>\n",
              "      <td>False</td>\n",
              "      <td>False</td>\n",
              "      <td>False</td>\n",
              "      <td>False</td>\n",
              "      <td>False</td>\n",
              "      <td>False</td>\n",
              "      <td>False</td>\n",
              "      <td>False</td>\n",
              "      <td>False</td>\n",
              "      <td>False</td>\n",
              "    </tr>\n",
              "  </tbody>\n",
              "</table>\n",
              "<p>6000 rows × 4842 columns</p>\n",
              "</div>"
            ],
            "text/plain": [
              "      Cut_Good  Cut_Ideal  Cut_Signature-Ideal  Cut_Very Good  Color_E  \\\n",
              "0        False       True                False          False    False   \n",
              "1        False       True                False          False    False   \n",
              "2        False       True                False          False    False   \n",
              "3        False       True                False          False     True   \n",
              "4        False       True                False          False    False   \n",
              "...        ...        ...                  ...            ...      ...   \n",
              "5995     False       True                False          False    False   \n",
              "5996     False      False                False           True    False   \n",
              "5997     False       True                False          False    False   \n",
              "5998     False      False                 True          False    False   \n",
              "5999     False       True                False          False     True   \n",
              "\n",
              "      Color_F  Color_G  Color_H  Color_I  Clarity_IF  ...  Price_70683  \\\n",
              "0       False    False     True    False       False  ...        False   \n",
              "1       False    False     True    False       False  ...        False   \n",
              "2       False    False     True    False       False  ...        False   \n",
              "3       False    False    False    False       False  ...        False   \n",
              "4       False     True    False    False       False  ...        False   \n",
              "...       ...      ...      ...      ...         ...  ...          ...   \n",
              "5995    False    False    False    False       False  ...        False   \n",
              "5996    False    False    False    False       False  ...        False   \n",
              "5997    False    False    False    False       False  ...        False   \n",
              "5998    False     True    False    False       False  ...        False   \n",
              "5999    False    False    False    False       False  ...        False   \n",
              "\n",
              "      Price_72195  Price_73209  Price_75630  Price_77033  Price_81399  \\\n",
              "0           False        False        False        False        False   \n",
              "1           False        False        False        False        False   \n",
              "2           False        False        False        False        False   \n",
              "3           False        False        False        False        False   \n",
              "4           False        False        False        False        False   \n",
              "...           ...          ...          ...          ...          ...   \n",
              "5995        False        False        False        False        False   \n",
              "5996        False        False        False        False        False   \n",
              "5997        False        False        False        False        False   \n",
              "5998        False        False        False        False        False   \n",
              "5999        False        False        False        False        False   \n",
              "\n",
              "      Price_83145  Price_93813  Price_96493  Price_101561  \n",
              "0           False        False        False         False  \n",
              "1           False        False        False         False  \n",
              "2           False        False        False         False  \n",
              "3           False        False        False         False  \n",
              "4           False        False        False         False  \n",
              "...           ...          ...          ...           ...  \n",
              "5995        False        False        False         False  \n",
              "5996        False        False        False         False  \n",
              "5997        False        False        False         False  \n",
              "5998        False        False        False         False  \n",
              "5999        False        False        False         False  \n",
              "\n",
              "[6000 rows x 4842 columns]"
            ]
          },
          "execution_count": 160,
          "metadata": {},
          "output_type": "execute_result"
        }
      ],
      "source": [
        "X_processed"
      ]
    },
    {
      "cell_type": "markdown",
      "metadata": {
        "id": "IhOZkrl-RUZP"
      },
      "source": []
    },
    {
      "cell_type": "code",
      "execution_count": 164,
      "metadata": {
        "colab": {
          "base_uri": "https://localhost:8080/"
        },
        "id": "UJP2t855RNIQ",
        "outputId": "1280e187-fbda-439e-97e1-752f11d24e3b"
      },
      "outputs": [
        {
          "name": "stdout",
          "output_type": "stream",
          "text": [
            "Числовые признаки: []\n"
          ]
        }
      ],
      "source": [
        "# Выбираем числовые признаки\n",
        "numeric_features = X_processed.select_dtypes(include=['float64']).columns.tolist()\n",
        "\n",
        "print(\"Числовые признаки:\", numeric_features)"
      ]
    },
    {
      "cell_type": "code",
      "execution_count": 128,
      "metadata": {
        "id": "I6T1wnUbRXMz"
      },
      "outputs": [
        {
          "ename": "ValueError",
          "evalue": "at least one array or dtype is required",
          "output_type": "error",
          "traceback": [
            "\u001b[0;31m---------------------------------------------------------------------------\u001b[0m",
            "\u001b[0;31mValueError\u001b[0m                                Traceback (most recent call last)",
            "Cell \u001b[0;32mIn[128], line 5\u001b[0m\n\u001b[1;32m      2\u001b[0m scaler \u001b[38;5;241m=\u001b[39m MinMaxScaler()\n\u001b[1;32m      4\u001b[0m \u001b[38;5;66;03m# Применяем нормализацию\u001b[39;00m\n\u001b[0;32m----> 5\u001b[0m X_processed[numeric_features] \u001b[38;5;241m=\u001b[39m \u001b[43mscaler\u001b[49m\u001b[38;5;241;43m.\u001b[39;49m\u001b[43mfit_transform\u001b[49m\u001b[43m(\u001b[49m\u001b[43mX_processed\u001b[49m\u001b[43m[\u001b[49m\u001b[43mnumeric_features\u001b[49m\u001b[43m]\u001b[49m\u001b[43m)\u001b[49m\n",
            "File \u001b[0;32m~/Desktop/staff/web-python/venv/lib/python3.12/site-packages/sklearn/utils/_set_output.py:316\u001b[0m, in \u001b[0;36m_wrap_method_output.<locals>.wrapped\u001b[0;34m(self, X, *args, **kwargs)\u001b[0m\n\u001b[1;32m    314\u001b[0m \u001b[38;5;129m@wraps\u001b[39m(f)\n\u001b[1;32m    315\u001b[0m \u001b[38;5;28;01mdef\u001b[39;00m \u001b[38;5;21mwrapped\u001b[39m(\u001b[38;5;28mself\u001b[39m, X, \u001b[38;5;241m*\u001b[39margs, \u001b[38;5;241m*\u001b[39m\u001b[38;5;241m*\u001b[39mkwargs):\n\u001b[0;32m--> 316\u001b[0m     data_to_wrap \u001b[38;5;241m=\u001b[39m \u001b[43mf\u001b[49m\u001b[43m(\u001b[49m\u001b[38;5;28;43mself\u001b[39;49m\u001b[43m,\u001b[49m\u001b[43m \u001b[49m\u001b[43mX\u001b[49m\u001b[43m,\u001b[49m\u001b[43m \u001b[49m\u001b[38;5;241;43m*\u001b[39;49m\u001b[43margs\u001b[49m\u001b[43m,\u001b[49m\u001b[43m \u001b[49m\u001b[38;5;241;43m*\u001b[39;49m\u001b[38;5;241;43m*\u001b[39;49m\u001b[43mkwargs\u001b[49m\u001b[43m)\u001b[49m\n\u001b[1;32m    317\u001b[0m     \u001b[38;5;28;01mif\u001b[39;00m \u001b[38;5;28misinstance\u001b[39m(data_to_wrap, \u001b[38;5;28mtuple\u001b[39m):\n\u001b[1;32m    318\u001b[0m         \u001b[38;5;66;03m# only wrap the first output for cross decomposition\u001b[39;00m\n\u001b[1;32m    319\u001b[0m         return_tuple \u001b[38;5;241m=\u001b[39m (\n\u001b[1;32m    320\u001b[0m             _wrap_data_with_container(method, data_to_wrap[\u001b[38;5;241m0\u001b[39m], X, \u001b[38;5;28mself\u001b[39m),\n\u001b[1;32m    321\u001b[0m             \u001b[38;5;241m*\u001b[39mdata_to_wrap[\u001b[38;5;241m1\u001b[39m:],\n\u001b[1;32m    322\u001b[0m         )\n",
            "File \u001b[0;32m~/Desktop/staff/web-python/venv/lib/python3.12/site-packages/sklearn/base.py:1098\u001b[0m, in \u001b[0;36mTransformerMixin.fit_transform\u001b[0;34m(self, X, y, **fit_params)\u001b[0m\n\u001b[1;32m   1083\u001b[0m         warnings\u001b[38;5;241m.\u001b[39mwarn(\n\u001b[1;32m   1084\u001b[0m             (\n\u001b[1;32m   1085\u001b[0m                 \u001b[38;5;124mf\u001b[39m\u001b[38;5;124m\"\u001b[39m\u001b[38;5;124mThis object (\u001b[39m\u001b[38;5;132;01m{\u001b[39;00m\u001b[38;5;28mself\u001b[39m\u001b[38;5;241m.\u001b[39m\u001b[38;5;18m__class__\u001b[39m\u001b[38;5;241m.\u001b[39m\u001b[38;5;18m__name__\u001b[39m\u001b[38;5;132;01m}\u001b[39;00m\u001b[38;5;124m) has a `transform`\u001b[39m\u001b[38;5;124m\"\u001b[39m\n\u001b[0;32m   (...)\u001b[0m\n\u001b[1;32m   1093\u001b[0m             \u001b[38;5;167;01mUserWarning\u001b[39;00m,\n\u001b[1;32m   1094\u001b[0m         )\n\u001b[1;32m   1096\u001b[0m \u001b[38;5;28;01mif\u001b[39;00m y \u001b[38;5;129;01mis\u001b[39;00m \u001b[38;5;28;01mNone\u001b[39;00m:\n\u001b[1;32m   1097\u001b[0m     \u001b[38;5;66;03m# fit method of arity 1 (unsupervised transformation)\u001b[39;00m\n\u001b[0;32m-> 1098\u001b[0m     \u001b[38;5;28;01mreturn\u001b[39;00m \u001b[38;5;28;43mself\u001b[39;49m\u001b[38;5;241;43m.\u001b[39;49m\u001b[43mfit\u001b[49m\u001b[43m(\u001b[49m\u001b[43mX\u001b[49m\u001b[43m,\u001b[49m\u001b[43m \u001b[49m\u001b[38;5;241;43m*\u001b[39;49m\u001b[38;5;241;43m*\u001b[39;49m\u001b[43mfit_params\u001b[49m\u001b[43m)\u001b[49m\u001b[38;5;241m.\u001b[39mtransform(X)\n\u001b[1;32m   1099\u001b[0m \u001b[38;5;28;01melse\u001b[39;00m:\n\u001b[1;32m   1100\u001b[0m     \u001b[38;5;66;03m# fit method of arity 2 (supervised transformation)\u001b[39;00m\n\u001b[1;32m   1101\u001b[0m     \u001b[38;5;28;01mreturn\u001b[39;00m \u001b[38;5;28mself\u001b[39m\u001b[38;5;241m.\u001b[39mfit(X, y, \u001b[38;5;241m*\u001b[39m\u001b[38;5;241m*\u001b[39mfit_params)\u001b[38;5;241m.\u001b[39mtransform(X)\n",
            "File \u001b[0;32m~/Desktop/staff/web-python/venv/lib/python3.12/site-packages/sklearn/preprocessing/_data.py:450\u001b[0m, in \u001b[0;36mMinMaxScaler.fit\u001b[0;34m(self, X, y)\u001b[0m\n\u001b[1;32m    448\u001b[0m \u001b[38;5;66;03m# Reset internal state before fitting\u001b[39;00m\n\u001b[1;32m    449\u001b[0m \u001b[38;5;28mself\u001b[39m\u001b[38;5;241m.\u001b[39m_reset()\n\u001b[0;32m--> 450\u001b[0m \u001b[38;5;28;01mreturn\u001b[39;00m \u001b[38;5;28;43mself\u001b[39;49m\u001b[38;5;241;43m.\u001b[39;49m\u001b[43mpartial_fit\u001b[49m\u001b[43m(\u001b[49m\u001b[43mX\u001b[49m\u001b[43m,\u001b[49m\u001b[43m \u001b[49m\u001b[43my\u001b[49m\u001b[43m)\u001b[49m\n",
            "File \u001b[0;32m~/Desktop/staff/web-python/venv/lib/python3.12/site-packages/sklearn/base.py:1473\u001b[0m, in \u001b[0;36m_fit_context.<locals>.decorator.<locals>.wrapper\u001b[0;34m(estimator, *args, **kwargs)\u001b[0m\n\u001b[1;32m   1466\u001b[0m     estimator\u001b[38;5;241m.\u001b[39m_validate_params()\n\u001b[1;32m   1468\u001b[0m \u001b[38;5;28;01mwith\u001b[39;00m config_context(\n\u001b[1;32m   1469\u001b[0m     skip_parameter_validation\u001b[38;5;241m=\u001b[39m(\n\u001b[1;32m   1470\u001b[0m         prefer_skip_nested_validation \u001b[38;5;129;01mor\u001b[39;00m global_skip_validation\n\u001b[1;32m   1471\u001b[0m     )\n\u001b[1;32m   1472\u001b[0m ):\n\u001b[0;32m-> 1473\u001b[0m     \u001b[38;5;28;01mreturn\u001b[39;00m \u001b[43mfit_method\u001b[49m\u001b[43m(\u001b[49m\u001b[43mestimator\u001b[49m\u001b[43m,\u001b[49m\u001b[43m \u001b[49m\u001b[38;5;241;43m*\u001b[39;49m\u001b[43margs\u001b[49m\u001b[43m,\u001b[49m\u001b[43m \u001b[49m\u001b[38;5;241;43m*\u001b[39;49m\u001b[38;5;241;43m*\u001b[39;49m\u001b[43mkwargs\u001b[49m\u001b[43m)\u001b[49m\n",
            "File \u001b[0;32m~/Desktop/staff/web-python/venv/lib/python3.12/site-packages/sklearn/preprocessing/_data.py:490\u001b[0m, in \u001b[0;36mMinMaxScaler.partial_fit\u001b[0;34m(self, X, y)\u001b[0m\n\u001b[1;32m    487\u001b[0m xp, _ \u001b[38;5;241m=\u001b[39m get_namespace(X)\n\u001b[1;32m    489\u001b[0m first_pass \u001b[38;5;241m=\u001b[39m \u001b[38;5;129;01mnot\u001b[39;00m \u001b[38;5;28mhasattr\u001b[39m(\u001b[38;5;28mself\u001b[39m, \u001b[38;5;124m\"\u001b[39m\u001b[38;5;124mn_samples_seen_\u001b[39m\u001b[38;5;124m\"\u001b[39m)\n\u001b[0;32m--> 490\u001b[0m X \u001b[38;5;241m=\u001b[39m \u001b[38;5;28;43mself\u001b[39;49m\u001b[38;5;241;43m.\u001b[39;49m\u001b[43m_validate_data\u001b[49m\u001b[43m(\u001b[49m\n\u001b[1;32m    491\u001b[0m \u001b[43m    \u001b[49m\u001b[43mX\u001b[49m\u001b[43m,\u001b[49m\n\u001b[1;32m    492\u001b[0m \u001b[43m    \u001b[49m\u001b[43mreset\u001b[49m\u001b[38;5;241;43m=\u001b[39;49m\u001b[43mfirst_pass\u001b[49m\u001b[43m,\u001b[49m\n\u001b[1;32m    493\u001b[0m \u001b[43m    \u001b[49m\u001b[43mdtype\u001b[49m\u001b[38;5;241;43m=\u001b[39;49m\u001b[43m_array_api\u001b[49m\u001b[38;5;241;43m.\u001b[39;49m\u001b[43msupported_float_dtypes\u001b[49m\u001b[43m(\u001b[49m\u001b[43mxp\u001b[49m\u001b[43m)\u001b[49m\u001b[43m,\u001b[49m\n\u001b[1;32m    494\u001b[0m \u001b[43m    \u001b[49m\u001b[43mforce_all_finite\u001b[49m\u001b[38;5;241;43m=\u001b[39;49m\u001b[38;5;124;43m\"\u001b[39;49m\u001b[38;5;124;43mallow-nan\u001b[39;49m\u001b[38;5;124;43m\"\u001b[39;49m\u001b[43m,\u001b[49m\n\u001b[1;32m    495\u001b[0m \u001b[43m\u001b[49m\u001b[43m)\u001b[49m\n\u001b[1;32m    497\u001b[0m data_min \u001b[38;5;241m=\u001b[39m _array_api\u001b[38;5;241m.\u001b[39m_nanmin(X, axis\u001b[38;5;241m=\u001b[39m\u001b[38;5;241m0\u001b[39m, xp\u001b[38;5;241m=\u001b[39mxp)\n\u001b[1;32m    498\u001b[0m data_max \u001b[38;5;241m=\u001b[39m _array_api\u001b[38;5;241m.\u001b[39m_nanmax(X, axis\u001b[38;5;241m=\u001b[39m\u001b[38;5;241m0\u001b[39m, xp\u001b[38;5;241m=\u001b[39mxp)\n",
            "File \u001b[0;32m~/Desktop/staff/web-python/venv/lib/python3.12/site-packages/sklearn/base.py:633\u001b[0m, in \u001b[0;36mBaseEstimator._validate_data\u001b[0;34m(self, X, y, reset, validate_separately, cast_to_ndarray, **check_params)\u001b[0m\n\u001b[1;32m    631\u001b[0m         out \u001b[38;5;241m=\u001b[39m X, y\n\u001b[1;32m    632\u001b[0m \u001b[38;5;28;01melif\u001b[39;00m \u001b[38;5;129;01mnot\u001b[39;00m no_val_X \u001b[38;5;129;01mand\u001b[39;00m no_val_y:\n\u001b[0;32m--> 633\u001b[0m     out \u001b[38;5;241m=\u001b[39m \u001b[43mcheck_array\u001b[49m\u001b[43m(\u001b[49m\u001b[43mX\u001b[49m\u001b[43m,\u001b[49m\u001b[43m \u001b[49m\u001b[43minput_name\u001b[49m\u001b[38;5;241;43m=\u001b[39;49m\u001b[38;5;124;43m\"\u001b[39;49m\u001b[38;5;124;43mX\u001b[39;49m\u001b[38;5;124;43m\"\u001b[39;49m\u001b[43m,\u001b[49m\u001b[43m \u001b[49m\u001b[38;5;241;43m*\u001b[39;49m\u001b[38;5;241;43m*\u001b[39;49m\u001b[43mcheck_params\u001b[49m\u001b[43m)\u001b[49m\n\u001b[1;32m    634\u001b[0m \u001b[38;5;28;01melif\u001b[39;00m no_val_X \u001b[38;5;129;01mand\u001b[39;00m \u001b[38;5;129;01mnot\u001b[39;00m no_val_y:\n\u001b[1;32m    635\u001b[0m     out \u001b[38;5;241m=\u001b[39m _check_y(y, \u001b[38;5;241m*\u001b[39m\u001b[38;5;241m*\u001b[39mcheck_params)\n",
            "File \u001b[0;32m~/Desktop/staff/web-python/venv/lib/python3.12/site-packages/sklearn/utils/validation.py:887\u001b[0m, in \u001b[0;36mcheck_array\u001b[0;34m(array, accept_sparse, accept_large_sparse, dtype, order, copy, force_writeable, force_all_finite, ensure_2d, allow_nd, ensure_min_samples, ensure_min_features, estimator, input_name)\u001b[0m\n\u001b[1;32m    883\u001b[0m pandas_requires_conversion \u001b[38;5;241m=\u001b[39m \u001b[38;5;28many\u001b[39m(\n\u001b[1;32m    884\u001b[0m     _pandas_dtype_needs_early_conversion(i) \u001b[38;5;28;01mfor\u001b[39;00m i \u001b[38;5;129;01min\u001b[39;00m dtypes_orig\n\u001b[1;32m    885\u001b[0m )\n\u001b[1;32m    886\u001b[0m \u001b[38;5;28;01mif\u001b[39;00m \u001b[38;5;28mall\u001b[39m(\u001b[38;5;28misinstance\u001b[39m(dtype_iter, np\u001b[38;5;241m.\u001b[39mdtype) \u001b[38;5;28;01mfor\u001b[39;00m dtype_iter \u001b[38;5;129;01min\u001b[39;00m dtypes_orig):\n\u001b[0;32m--> 887\u001b[0m     dtype_orig \u001b[38;5;241m=\u001b[39m \u001b[43mnp\u001b[49m\u001b[38;5;241;43m.\u001b[39;49m\u001b[43mresult_type\u001b[49m\u001b[43m(\u001b[49m\u001b[38;5;241;43m*\u001b[39;49m\u001b[43mdtypes_orig\u001b[49m\u001b[43m)\u001b[49m\n\u001b[1;32m    888\u001b[0m \u001b[38;5;28;01melif\u001b[39;00m pandas_requires_conversion \u001b[38;5;129;01mand\u001b[39;00m \u001b[38;5;28many\u001b[39m(d \u001b[38;5;241m==\u001b[39m \u001b[38;5;28mobject\u001b[39m \u001b[38;5;28;01mfor\u001b[39;00m d \u001b[38;5;129;01min\u001b[39;00m dtypes_orig):\n\u001b[1;32m    889\u001b[0m     \u001b[38;5;66;03m# Force object if any of the dtypes is an object\u001b[39;00m\n\u001b[1;32m    890\u001b[0m     dtype_orig \u001b[38;5;241m=\u001b[39m \u001b[38;5;28mobject\u001b[39m\n",
            "\u001b[0;31mValueError\u001b[0m: at least one array or dtype is required"
          ]
        }
      ],
      "source": [
        "# Инициализируем scaler\n",
        "scaler = MinMaxScaler()\n",
        "\n",
        "# Применяем нормализацию\n",
        "X_processed[numeric_features] = scaler.fit_transform(X_processed[numeric_features])\n"
      ]
    },
    {
      "cell_type": "code",
      "execution_count": 113,
      "metadata": {
        "colab": {
          "base_uri": "https://localhost:8080/",
          "height": 458
        },
        "id": "pZ7BfPUbRfUL",
        "outputId": "f6f99d6c-54b4-44f3-ca85-9adeee51bfec"
      },
      "outputs": [
        {
          "data": {
            "application/vnd.google.colaboratory.intrinsic+json": {
              "summary": "{\n  \"name\": \"X_processed\",\n  \"rows\": 6497,\n  \"fields\": [\n    {\n      \"column\": \"fixed acidity\",\n      \"properties\": {\n        \"dtype\": \"number\",\n        \"std\": 0.10714328576857976,\n        \"min\": 0.0,\n        \"max\": 0.9999999999999999,\n        \"num_unique_values\": 106,\n        \"samples\": [\n          0.27685950413223137,\n          0.3553719008264462,\n          0.28925619834710736\n        ],\n        \"semantic_type\": \"\",\n        \"description\": \"\"\n      }\n    },\n    {\n      \"column\": \"volatile acidity\",\n      \"properties\": {\n        \"dtype\": \"number\",\n        \"std\": 0.10975764938978583,\n        \"min\": 0.0,\n        \"max\": 0.9999999999999999,\n        \"num_unique_values\": 187,\n        \"samples\": [\n          0.21666666666666667,\n          0.08666666666666666,\n          0.4099999999999999\n        ],\n        \"semantic_type\": \"\",\n        \"description\": \"\"\n      }\n    },\n    {\n      \"column\": \"citric acid\",\n      \"properties\": {\n        \"dtype\": \"number\",\n        \"std\": 0.08754088246842864,\n        \"min\": 0.0,\n        \"max\": 1.0,\n        \"num_unique_values\": 89,\n        \"samples\": [\n          0.06024096385542169,\n          0.3614457831325301,\n          0.22289156626506026\n        ],\n        \"semantic_type\": \"\",\n        \"description\": \"\"\n      }\n    },\n    {\n      \"column\": \"residual sugar\",\n      \"properties\": {\n        \"dtype\": \"number\",\n        \"std\": 0.07297245004827328,\n        \"min\": 0.0,\n        \"max\": 1.0,\n        \"num_unique_values\": 316,\n        \"samples\": [\n          0.28144171779141103,\n          0.03987730061349694,\n          0.1334355828220859\n        ],\n        \"semantic_type\": \"\",\n        \"description\": \"\"\n      }\n    },\n    {\n      \"column\": \"chlorides\",\n      \"properties\": {\n        \"dtype\": \"number\",\n        \"std\": 0.05819535111704165,\n        \"min\": 0.0,\n        \"max\": 0.9999999999999999,\n        \"num_unique_values\": 214,\n        \"samples\": [\n          0.132890365448505,\n          0.34551495016611294,\n          0.15116279069767444\n        ],\n        \"semantic_type\": \"\",\n        \"description\": \"\"\n      }\n    },\n    {\n      \"column\": \"free sulfur dioxide\",\n      \"properties\": {\n        \"dtype\": \"number\",\n        \"std\": 0.06162986031945313,\n        \"min\": 0.0,\n        \"max\": 0.9999999999999999,\n        \"num_unique_values\": 135,\n        \"samples\": [\n          0.265625,\n          0.2222222222222222,\n          0.4409722222222222\n        ],\n        \"semantic_type\": \"\",\n        \"description\": \"\"\n      }\n    },\n    {\n      \"column\": \"total sulfur dioxide\",\n      \"properties\": {\n        \"dtype\": \"number\",\n        \"std\": 0.13023468784016193,\n        \"min\": 0.0,\n        \"max\": 1.0,\n        \"num_unique_values\": 276,\n        \"samples\": [\n          0.018433179723502304,\n          0.3294930875576037,\n          0.5092165898617511\n        ],\n        \"semantic_type\": \"\",\n        \"description\": \"\"\n      }\n    },\n    {\n      \"column\": \"density\",\n      \"properties\": {\n        \"dtype\": \"number\",\n        \"std\": 0.057811316825121216,\n        \"min\": 0.0,\n        \"max\": 1.0,\n        \"num_unique_values\": 998,\n        \"samples\": [\n          0.09041835357625061,\n          0.13514555619818935,\n          0.14902641218430546\n        ],\n        \"semantic_type\": \"\",\n        \"description\": \"\"\n      }\n    },\n    {\n      \"column\": \"pH\",\n      \"properties\": {\n        \"dtype\": \"number\",\n        \"std\": 0.12464124194107574,\n        \"min\": 0.0,\n        \"max\": 1.0,\n        \"num_unique_values\": 108,\n        \"samples\": [\n          0.7906976744186047,\n          0.3488372093023253,\n          0.44961240310077466\n        ],\n        \"semantic_type\": \"\",\n        \"description\": \"\"\n      }\n    },\n    {\n      \"column\": \"sulphates\",\n      \"properties\": {\n        \"dtype\": \"number\",\n        \"std\": 0.08359880540139904,\n        \"min\": 0.0,\n        \"max\": 1.0,\n        \"num_unique_values\": 111,\n        \"samples\": [\n          0.5000000000000001,\n          0.7528089887640451,\n          0.1348314606741573\n        ],\n        \"semantic_type\": \"\",\n        \"description\": \"\"\n      }\n    },\n    {\n      \"column\": \"alcohol\",\n      \"properties\": {\n        \"dtype\": \"number\",\n        \"std\": 0.172856775198403,\n        \"min\": 0.0,\n        \"max\": 1.0000000000000002,\n        \"num_unique_values\": 111,\n        \"samples\": [\n          0.4251207724637682,\n          0.24637681159420288,\n          0.3623188405797102\n        ],\n        \"semantic_type\": \"\",\n        \"description\": \"\"\n      }\n    },\n    {\n      \"column\": \"type_white\",\n      \"properties\": {\n        \"dtype\": \"boolean\",\n        \"num_unique_values\": 2,\n        \"samples\": [\n          true,\n          false\n        ],\n        \"semantic_type\": \"\",\n        \"description\": \"\"\n      }\n    }\n  ]\n}",
              "type": "dataframe",
              "variable_name": "X_processed"
            },
            "text/html": [
              "\n",
              "  <div id=\"df-d896ae49-e280-4ccb-aa92-a1c699b2d73b\" class=\"colab-df-container\">\n",
              "    <div>\n",
              "<style scoped>\n",
              "    .dataframe tbody tr th:only-of-type {\n",
              "        vertical-align: middle;\n",
              "    }\n",
              "\n",
              "    .dataframe tbody tr th {\n",
              "        vertical-align: top;\n",
              "    }\n",
              "\n",
              "    .dataframe thead th {\n",
              "        text-align: right;\n",
              "    }\n",
              "</style>\n",
              "<table border=\"1\" class=\"dataframe\">\n",
              "  <thead>\n",
              "    <tr style=\"text-align: right;\">\n",
              "      <th></th>\n",
              "      <th>fixed acidity</th>\n",
              "      <th>volatile acidity</th>\n",
              "      <th>citric acid</th>\n",
              "      <th>residual sugar</th>\n",
              "      <th>chlorides</th>\n",
              "      <th>free sulfur dioxide</th>\n",
              "      <th>total sulfur dioxide</th>\n",
              "      <th>density</th>\n",
              "      <th>pH</th>\n",
              "      <th>sulphates</th>\n",
              "      <th>alcohol</th>\n",
              "      <th>type_white</th>\n",
              "    </tr>\n",
              "  </thead>\n",
              "  <tbody>\n",
              "    <tr>\n",
              "      <th>0</th>\n",
              "      <td>0.297521</td>\n",
              "      <td>0.413333</td>\n",
              "      <td>0.000000</td>\n",
              "      <td>0.019939</td>\n",
              "      <td>0.111296</td>\n",
              "      <td>0.034722</td>\n",
              "      <td>0.064516</td>\n",
              "      <td>0.206092</td>\n",
              "      <td>0.612403</td>\n",
              "      <td>0.191011</td>\n",
              "      <td>0.202899</td>\n",
              "      <td>False</td>\n",
              "    </tr>\n",
              "    <tr>\n",
              "      <th>1</th>\n",
              "      <td>0.330579</td>\n",
              "      <td>0.533333</td>\n",
              "      <td>0.000000</td>\n",
              "      <td>0.030675</td>\n",
              "      <td>0.147841</td>\n",
              "      <td>0.083333</td>\n",
              "      <td>0.140553</td>\n",
              "      <td>0.186813</td>\n",
              "      <td>0.372093</td>\n",
              "      <td>0.258427</td>\n",
              "      <td>0.260870</td>\n",
              "      <td>False</td>\n",
              "    </tr>\n",
              "    <tr>\n",
              "      <th>2</th>\n",
              "      <td>0.330579</td>\n",
              "      <td>0.453333</td>\n",
              "      <td>0.024096</td>\n",
              "      <td>0.026074</td>\n",
              "      <td>0.137874</td>\n",
              "      <td>0.048611</td>\n",
              "      <td>0.110599</td>\n",
              "      <td>0.190669</td>\n",
              "      <td>0.418605</td>\n",
              "      <td>0.241573</td>\n",
              "      <td>0.260870</td>\n",
              "      <td>False</td>\n",
              "    </tr>\n",
              "    <tr>\n",
              "      <th>3</th>\n",
              "      <td>0.611570</td>\n",
              "      <td>0.133333</td>\n",
              "      <td>0.337349</td>\n",
              "      <td>0.019939</td>\n",
              "      <td>0.109635</td>\n",
              "      <td>0.055556</td>\n",
              "      <td>0.124424</td>\n",
              "      <td>0.209948</td>\n",
              "      <td>0.341085</td>\n",
              "      <td>0.202247</td>\n",
              "      <td>0.260870</td>\n",
              "      <td>False</td>\n",
              "    </tr>\n",
              "    <tr>\n",
              "      <th>4</th>\n",
              "      <td>0.297521</td>\n",
              "      <td>0.413333</td>\n",
              "      <td>0.000000</td>\n",
              "      <td>0.019939</td>\n",
              "      <td>0.111296</td>\n",
              "      <td>0.034722</td>\n",
              "      <td>0.064516</td>\n",
              "      <td>0.206092</td>\n",
              "      <td>0.612403</td>\n",
              "      <td>0.191011</td>\n",
              "      <td>0.202899</td>\n",
              "      <td>False</td>\n",
              "    </tr>\n",
              "    <tr>\n",
              "      <th>...</th>\n",
              "      <td>...</td>\n",
              "      <td>...</td>\n",
              "      <td>...</td>\n",
              "      <td>...</td>\n",
              "      <td>...</td>\n",
              "      <td>...</td>\n",
              "      <td>...</td>\n",
              "      <td>...</td>\n",
              "      <td>...</td>\n",
              "      <td>...</td>\n",
              "      <td>...</td>\n",
              "      <td>...</td>\n",
              "    </tr>\n",
              "    <tr>\n",
              "      <th>6492</th>\n",
              "      <td>0.198347</td>\n",
              "      <td>0.086667</td>\n",
              "      <td>0.174699</td>\n",
              "      <td>0.015337</td>\n",
              "      <td>0.049834</td>\n",
              "      <td>0.079861</td>\n",
              "      <td>0.198157</td>\n",
              "      <td>0.077694</td>\n",
              "      <td>0.426357</td>\n",
              "      <td>0.157303</td>\n",
              "      <td>0.463768</td>\n",
              "      <td>True</td>\n",
              "    </tr>\n",
              "    <tr>\n",
              "      <th>6493</th>\n",
              "      <td>0.231405</td>\n",
              "      <td>0.160000</td>\n",
              "      <td>0.216867</td>\n",
              "      <td>0.113497</td>\n",
              "      <td>0.063123</td>\n",
              "      <td>0.194444</td>\n",
              "      <td>0.373272</td>\n",
              "      <td>0.150183</td>\n",
              "      <td>0.333333</td>\n",
              "      <td>0.134831</td>\n",
              "      <td>0.231884</td>\n",
              "      <td>True</td>\n",
              "    </tr>\n",
              "    <tr>\n",
              "      <th>6494</th>\n",
              "      <td>0.223140</td>\n",
              "      <td>0.106667</td>\n",
              "      <td>0.114458</td>\n",
              "      <td>0.009202</td>\n",
              "      <td>0.053156</td>\n",
              "      <td>0.100694</td>\n",
              "      <td>0.241935</td>\n",
              "      <td>0.104685</td>\n",
              "      <td>0.209302</td>\n",
              "      <td>0.134831</td>\n",
              "      <td>0.202899</td>\n",
              "      <td>True</td>\n",
              "    </tr>\n",
              "    <tr>\n",
              "      <th>6495</th>\n",
              "      <td>0.140496</td>\n",
              "      <td>0.140000</td>\n",
              "      <td>0.180723</td>\n",
              "      <td>0.007669</td>\n",
              "      <td>0.021595</td>\n",
              "      <td>0.065972</td>\n",
              "      <td>0.239631</td>\n",
              "      <td>0.030461</td>\n",
              "      <td>0.480620</td>\n",
              "      <td>0.089888</td>\n",
              "      <td>0.695652</td>\n",
              "      <td>True</td>\n",
              "    </tr>\n",
              "    <tr>\n",
              "      <th>6496</th>\n",
              "      <td>0.181818</td>\n",
              "      <td>0.086667</td>\n",
              "      <td>0.228916</td>\n",
              "      <td>0.003067</td>\n",
              "      <td>0.018272</td>\n",
              "      <td>0.072917</td>\n",
              "      <td>0.211982</td>\n",
              "      <td>0.044342</td>\n",
              "      <td>0.418605</td>\n",
              "      <td>0.056180</td>\n",
              "      <td>0.550725</td>\n",
              "      <td>True</td>\n",
              "    </tr>\n",
              "  </tbody>\n",
              "</table>\n",
              "<p>6497 rows × 12 columns</p>\n",
              "</div>\n",
              "    <div class=\"colab-df-buttons\">\n",
              "\n",
              "  <div class=\"colab-df-container\">\n",
              "    <button class=\"colab-df-convert\" onclick=\"convertToInteractive('df-d896ae49-e280-4ccb-aa92-a1c699b2d73b')\"\n",
              "            title=\"Convert this dataframe to an interactive table.\"\n",
              "            style=\"display:none;\">\n",
              "\n",
              "  <svg xmlns=\"http://www.w3.org/2000/svg\" height=\"24px\" viewBox=\"0 -960 960 960\">\n",
              "    <path d=\"M120-120v-720h720v720H120Zm60-500h600v-160H180v160Zm220 220h160v-160H400v160Zm0 220h160v-160H400v160ZM180-400h160v-160H180v160Zm440 0h160v-160H620v160ZM180-180h160v-160H180v160Zm440 0h160v-160H620v160Z\"/>\n",
              "  </svg>\n",
              "    </button>\n",
              "\n",
              "  <style>\n",
              "    .colab-df-container {\n",
              "      display:flex;\n",
              "      gap: 12px;\n",
              "    }\n",
              "\n",
              "    .colab-df-convert {\n",
              "      background-color: #E8F0FE;\n",
              "      border: none;\n",
              "      border-radius: 50%;\n",
              "      cursor: pointer;\n",
              "      display: none;\n",
              "      fill: #1967D2;\n",
              "      height: 32px;\n",
              "      padding: 0 0 0 0;\n",
              "      width: 32px;\n",
              "    }\n",
              "\n",
              "    .colab-df-convert:hover {\n",
              "      background-color: #E2EBFA;\n",
              "      box-shadow: 0px 1px 2px rgba(60, 64, 67, 0.3), 0px 1px 3px 1px rgba(60, 64, 67, 0.15);\n",
              "      fill: #174EA6;\n",
              "    }\n",
              "\n",
              "    .colab-df-buttons div {\n",
              "      margin-bottom: 4px;\n",
              "    }\n",
              "\n",
              "    [theme=dark] .colab-df-convert {\n",
              "      background-color: #3B4455;\n",
              "      fill: #D2E3FC;\n",
              "    }\n",
              "\n",
              "    [theme=dark] .colab-df-convert:hover {\n",
              "      background-color: #434B5C;\n",
              "      box-shadow: 0px 1px 3px 1px rgba(0, 0, 0, 0.15);\n",
              "      filter: drop-shadow(0px 1px 2px rgba(0, 0, 0, 0.3));\n",
              "      fill: #FFFFFF;\n",
              "    }\n",
              "  </style>\n",
              "\n",
              "    <script>\n",
              "      const buttonEl =\n",
              "        document.querySelector('#df-d896ae49-e280-4ccb-aa92-a1c699b2d73b button.colab-df-convert');\n",
              "      buttonEl.style.display =\n",
              "        google.colab.kernel.accessAllowed ? 'block' : 'none';\n",
              "\n",
              "      async function convertToInteractive(key) {\n",
              "        const element = document.querySelector('#df-d896ae49-e280-4ccb-aa92-a1c699b2d73b');\n",
              "        const dataTable =\n",
              "          await google.colab.kernel.invokeFunction('convertToInteractive',\n",
              "                                                    [key], {});\n",
              "        if (!dataTable) return;\n",
              "\n",
              "        const docLinkHtml = 'Like what you see? Visit the ' +\n",
              "          '<a target=\"_blank\" href=https://colab.research.google.com/notebooks/data_table.ipynb>data table notebook</a>'\n",
              "          + ' to learn more about interactive tables.';\n",
              "        element.innerHTML = '';\n",
              "        dataTable['output_type'] = 'display_data';\n",
              "        await google.colab.output.renderOutput(dataTable, element);\n",
              "        const docLink = document.createElement('div');\n",
              "        docLink.innerHTML = docLinkHtml;\n",
              "        element.appendChild(docLink);\n",
              "      }\n",
              "    </script>\n",
              "  </div>\n",
              "\n",
              "\n",
              "<div id=\"df-43bb3a0f-cc22-47bd-a157-3c03f8ae5fbf\">\n",
              "  <button class=\"colab-df-quickchart\" onclick=\"quickchart('df-43bb3a0f-cc22-47bd-a157-3c03f8ae5fbf')\"\n",
              "            title=\"Suggest charts\"\n",
              "            style=\"display:none;\">\n",
              "\n",
              "<svg xmlns=\"http://www.w3.org/2000/svg\" height=\"24px\"viewBox=\"0 0 24 24\"\n",
              "     width=\"24px\">\n",
              "    <g>\n",
              "        <path d=\"M19 3H5c-1.1 0-2 .9-2 2v14c0 1.1.9 2 2 2h14c1.1 0 2-.9 2-2V5c0-1.1-.9-2-2-2zM9 17H7v-7h2v7zm4 0h-2V7h2v10zm4 0h-2v-4h2v4z\"/>\n",
              "    </g>\n",
              "</svg>\n",
              "  </button>\n",
              "\n",
              "<style>\n",
              "  .colab-df-quickchart {\n",
              "      --bg-color: #E8F0FE;\n",
              "      --fill-color: #1967D2;\n",
              "      --hover-bg-color: #E2EBFA;\n",
              "      --hover-fill-color: #174EA6;\n",
              "      --disabled-fill-color: #AAA;\n",
              "      --disabled-bg-color: #DDD;\n",
              "  }\n",
              "\n",
              "  [theme=dark] .colab-df-quickchart {\n",
              "      --bg-color: #3B4455;\n",
              "      --fill-color: #D2E3FC;\n",
              "      --hover-bg-color: #434B5C;\n",
              "      --hover-fill-color: #FFFFFF;\n",
              "      --disabled-bg-color: #3B4455;\n",
              "      --disabled-fill-color: #666;\n",
              "  }\n",
              "\n",
              "  .colab-df-quickchart {\n",
              "    background-color: var(--bg-color);\n",
              "    border: none;\n",
              "    border-radius: 50%;\n",
              "    cursor: pointer;\n",
              "    display: none;\n",
              "    fill: var(--fill-color);\n",
              "    height: 32px;\n",
              "    padding: 0;\n",
              "    width: 32px;\n",
              "  }\n",
              "\n",
              "  .colab-df-quickchart:hover {\n",
              "    background-color: var(--hover-bg-color);\n",
              "    box-shadow: 0 1px 2px rgba(60, 64, 67, 0.3), 0 1px 3px 1px rgba(60, 64, 67, 0.15);\n",
              "    fill: var(--button-hover-fill-color);\n",
              "  }\n",
              "\n",
              "  .colab-df-quickchart-complete:disabled,\n",
              "  .colab-df-quickchart-complete:disabled:hover {\n",
              "    background-color: var(--disabled-bg-color);\n",
              "    fill: var(--disabled-fill-color);\n",
              "    box-shadow: none;\n",
              "  }\n",
              "\n",
              "  .colab-df-spinner {\n",
              "    border: 2px solid var(--fill-color);\n",
              "    border-color: transparent;\n",
              "    border-bottom-color: var(--fill-color);\n",
              "    animation:\n",
              "      spin 1s steps(1) infinite;\n",
              "  }\n",
              "\n",
              "  @keyframes spin {\n",
              "    0% {\n",
              "      border-color: transparent;\n",
              "      border-bottom-color: var(--fill-color);\n",
              "      border-left-color: var(--fill-color);\n",
              "    }\n",
              "    20% {\n",
              "      border-color: transparent;\n",
              "      border-left-color: var(--fill-color);\n",
              "      border-top-color: var(--fill-color);\n",
              "    }\n",
              "    30% {\n",
              "      border-color: transparent;\n",
              "      border-left-color: var(--fill-color);\n",
              "      border-top-color: var(--fill-color);\n",
              "      border-right-color: var(--fill-color);\n",
              "    }\n",
              "    40% {\n",
              "      border-color: transparent;\n",
              "      border-right-color: var(--fill-color);\n",
              "      border-top-color: var(--fill-color);\n",
              "    }\n",
              "    60% {\n",
              "      border-color: transparent;\n",
              "      border-right-color: var(--fill-color);\n",
              "    }\n",
              "    80% {\n",
              "      border-color: transparent;\n",
              "      border-right-color: var(--fill-color);\n",
              "      border-bottom-color: var(--fill-color);\n",
              "    }\n",
              "    90% {\n",
              "      border-color: transparent;\n",
              "      border-bottom-color: var(--fill-color);\n",
              "    }\n",
              "  }\n",
              "</style>\n",
              "\n",
              "  <script>\n",
              "    async function quickchart(key) {\n",
              "      const quickchartButtonEl =\n",
              "        document.querySelector('#' + key + ' button');\n",
              "      quickchartButtonEl.disabled = true;  // To prevent multiple clicks.\n",
              "      quickchartButtonEl.classList.add('colab-df-spinner');\n",
              "      try {\n",
              "        const charts = await google.colab.kernel.invokeFunction(\n",
              "            'suggestCharts', [key], {});\n",
              "      } catch (error) {\n",
              "        console.error('Error during call to suggestCharts:', error);\n",
              "      }\n",
              "      quickchartButtonEl.classList.remove('colab-df-spinner');\n",
              "      quickchartButtonEl.classList.add('colab-df-quickchart-complete');\n",
              "    }\n",
              "    (() => {\n",
              "      let quickchartButtonEl =\n",
              "        document.querySelector('#df-43bb3a0f-cc22-47bd-a157-3c03f8ae5fbf button');\n",
              "      quickchartButtonEl.style.display =\n",
              "        google.colab.kernel.accessAllowed ? 'block' : 'none';\n",
              "    })();\n",
              "  </script>\n",
              "</div>\n",
              "    </div>\n",
              "  </div>\n"
            ],
            "text/plain": [
              "      fixed acidity  volatile acidity  citric acid  residual sugar  chlorides  \\\n",
              "0          0.297521          0.413333     0.000000        0.019939   0.111296   \n",
              "1          0.330579          0.533333     0.000000        0.030675   0.147841   \n",
              "2          0.330579          0.453333     0.024096        0.026074   0.137874   \n",
              "3          0.611570          0.133333     0.337349        0.019939   0.109635   \n",
              "4          0.297521          0.413333     0.000000        0.019939   0.111296   \n",
              "...             ...               ...          ...             ...        ...   \n",
              "6492       0.198347          0.086667     0.174699        0.015337   0.049834   \n",
              "6493       0.231405          0.160000     0.216867        0.113497   0.063123   \n",
              "6494       0.223140          0.106667     0.114458        0.009202   0.053156   \n",
              "6495       0.140496          0.140000     0.180723        0.007669   0.021595   \n",
              "6496       0.181818          0.086667     0.228916        0.003067   0.018272   \n",
              "\n",
              "      free sulfur dioxide  total sulfur dioxide   density        pH  \\\n",
              "0                0.034722              0.064516  0.206092  0.612403   \n",
              "1                0.083333              0.140553  0.186813  0.372093   \n",
              "2                0.048611              0.110599  0.190669  0.418605   \n",
              "3                0.055556              0.124424  0.209948  0.341085   \n",
              "4                0.034722              0.064516  0.206092  0.612403   \n",
              "...                   ...                   ...       ...       ...   \n",
              "6492             0.079861              0.198157  0.077694  0.426357   \n",
              "6493             0.194444              0.373272  0.150183  0.333333   \n",
              "6494             0.100694              0.241935  0.104685  0.209302   \n",
              "6495             0.065972              0.239631  0.030461  0.480620   \n",
              "6496             0.072917              0.211982  0.044342  0.418605   \n",
              "\n",
              "      sulphates   alcohol  type_white  \n",
              "0      0.191011  0.202899       False  \n",
              "1      0.258427  0.260870       False  \n",
              "2      0.241573  0.260870       False  \n",
              "3      0.202247  0.260870       False  \n",
              "4      0.191011  0.202899       False  \n",
              "...         ...       ...         ...  \n",
              "6492   0.157303  0.463768        True  \n",
              "6493   0.134831  0.231884        True  \n",
              "6494   0.134831  0.202899        True  \n",
              "6495   0.089888  0.695652        True  \n",
              "6496   0.056180  0.550725        True  \n",
              "\n",
              "[6497 rows x 12 columns]"
            ]
          },
          "execution_count": 113,
          "metadata": {},
          "output_type": "execute_result"
        }
      ],
      "source": [
        "X_processed"
      ]
    },
    {
      "cell_type": "markdown",
      "metadata": {
        "id": "4fCIa6HtRmjw"
      },
      "source": [
        "### Шаг 3: Объяснение логистической регрессии\n"
      ]
    },
    {
      "cell_type": "markdown",
      "metadata": {
        "id": "7iMew3iZRoq4"
      },
      "source": [
        "Логистическая регрессия — это статистический метод для анализа набора данных, в котором одна или более независимых переменных определяют исход (зависимую переменную), которая является бинарной (т.е. принимает только два возможных значения, например, 0 и 1). Целью логистической регрессии является нахождение наилучшей модели, описывающей связь между независимыми переменными и вероятностью определенного исхода.\n",
        "\n",
        "Основные характеристики:\n",
        "\n",
        "Функция логита (логистическая функция): Используется для моделирования вероятности принадлежности наблюдения к определенному классу.\n",
        "Выводы о влиянии признаков: Коэффициенты модели показывают, как изменение признака влияет на логарифм отношения шансов."
      ]
    },
    {
      "cell_type": "markdown",
      "metadata": {
        "id": "-3f-a3jkRsDf"
      },
      "source": [
        "**Функция для обучения и оценки модели**"
      ]
    },
    {
      "cell_type": "code",
      "execution_count": 114,
      "metadata": {
        "id": "ISOh8FAUR6C8"
      },
      "outputs": [],
      "source": [
        "def train_and_evaluate(X, Y):\n",
        "    # Разделение данных на обучающую и тестовую выборки\n",
        "    X_train, X_test, Y_train, Y_test = train_test_split(\n",
        "        X, Y, test_size=0.2, random_state=42, stratify=Y)\n",
        "\n",
        "    # Инициализация модели\n",
        "    model = LogisticRegression(max_iter=1000)\n",
        "\n",
        "    # Обучение модели\n",
        "    model.fit(X_train, Y_train)\n",
        "\n",
        "    # Предсказания на обучающей выборке\n",
        "    Y_train_pred = model.predict(X_train)\n",
        "    train_accuracy = accuracy_score(Y_train, Y_train_pred)\n",
        "\n",
        "    # Предсказания на тестовой выборке\n",
        "    Y_test_pred = model.predict(X_test)\n",
        "    test_accuracy = accuracy_score(Y_test, Y_test_pred)\n",
        "\n",
        "    # Вывод результатов\n",
        "    print(f\"Точность на обучающей выборке: {train_accuracy:.4f}\")\n",
        "    print(f\"Точность на тестовой выборке: {test_accuracy:.4f}\")\n",
        "\n",
        "    # Классификационный отчет\n",
        "    print(\"\\nКлассификационный отчет на тестовой выборке:\")\n",
        "    print(classification_report(Y_test, Y_test_pred))\n",
        "\n",
        "    return model\n"
      ]
    },
    {
      "cell_type": "code",
      "execution_count": 115,
      "metadata": {
        "colab": {
          "base_uri": "https://localhost:8080/"
        },
        "id": "zY3_h4I8R9hI",
        "outputId": "0d62b680-d4bb-4e53-cd7f-d85db1d03d00"
      },
      "outputs": [
        {
          "name": "stdout",
          "output_type": "stream",
          "text": [
            "Точность на обучающей выборке: 0.8187\n",
            "Точность на тестовой выборке: 0.8254\n",
            "\n",
            "Классификационный отчет на тестовой выборке:\n",
            "              precision    recall  f1-score   support\n",
            "\n",
            "           0       0.84      0.97      0.90      1044\n",
            "           1       0.67      0.22      0.33       256\n",
            "\n",
            "    accuracy                           0.83      1300\n",
            "   macro avg       0.76      0.60      0.61      1300\n",
            "weighted avg       0.80      0.83      0.79      1300\n",
            "\n"
          ]
        }
      ],
      "source": [
        "# Обучение модели\n",
        "model = train_and_evaluate(X_processed, Y)"
      ]
    },
    {
      "cell_type": "markdown",
      "metadata": {
        "id": "dN1PqgwRSB2M"
      },
      "source": [
        "**Пояснение:**\n",
        "\n",
        "- Точность (Accuracy): Доля правильных предсказаний от общего числа предсказаний.\n",
        "- Precision (Точность): Доля правильных положительных предсказаний среди всех положительных предсказаний.\n",
        "- Recall (Полнота): Доля правильно предсказанных положительных случаев среди всех реальных положительных случаев.\n",
        "- F1-score: Гармоническое среднее между точностью и полнотой."
      ]
    },
    {
      "cell_type": "code",
      "execution_count": 116,
      "metadata": {
        "colab": {
          "base_uri": "https://localhost:8080/"
        },
        "id": "6KwHGCQZR_iP",
        "outputId": "bd0c18ea-6fc3-4a24-87b5-8d589a1f757a"
      },
      "outputs": [
        {
          "name": "stdout",
          "output_type": "stream",
          "text": [
            "                 Feature  Coefficient\n",
            "10               alcohol     5.683547\n",
            "1       volatile acidity    -4.316148\n",
            "3         residual sugar     2.822608\n",
            "9              sulphates     2.459910\n",
            "5    free sulfur dioxide     2.160035\n",
            "4              chlorides    -2.092775\n",
            "6   total sulfur dioxide    -1.321306\n",
            "0          fixed acidity     1.138116\n",
            "8                     pH     0.896175\n",
            "7                density    -0.784141\n",
            "11            type_white     0.286346\n",
            "2            citric acid     0.142521\n"
          ]
        }
      ],
      "source": [
        "# Получение коэффициентов модели\n",
        "coefficients = pd.DataFrame({\n",
        "    'Feature': X_processed.columns,\n",
        "    'Coefficient': model.coef_[0]\n",
        "})\n",
        "\n",
        "# Сортировка по абсолютному значению коэффициента\n",
        "coefficients['Abs_Coefficient'] = coefficients['Coefficient'].abs()\n",
        "coefficients = coefficients.sort_values(by='Abs_Coefficient', ascending=False)\n",
        "\n",
        "print(coefficients[['Feature', 'Coefficient']])\n"
      ]
    },
    {
      "cell_type": "markdown",
      "metadata": {
        "id": "OrC2hDwySNdE"
      },
      "source": [
        "**Пояснение:**\n",
        "\n",
        "- Коэффициенты показывают влияние признака на вероятность принадлежности к классу 1 (лучшие вина).\n",
        "- Положительный коэффициент: Увеличение признака повышает вероятность принадлежности к классу 1.\n",
        "- Отрицательный коэффициент: Увеличение признака снижает вероятность принадлежности к классу 1."
      ]
    },
    {
      "cell_type": "markdown",
      "metadata": {
        "id": "_T6lnsZXVLSY"
      },
      "source": [
        "## 4. Построение модели логистической регрессии для предсказания качества вина\n",
        "\n",
        "- **Модель логистической регрессии успешно обучена для предсказания лучших вин.**\n",
        "- **Точность на обучающей и тестовой выборках высока, что указывает на хорошую способность модели обобщать данные.**\n",
        "- **Анализ коэффициентов показал, какие признаки наиболее влияют на качество вина:**\n",
        "  - **Содержание алкоголя и сульфатов положительно влияют на качество.**\n",
        "  - **Плотность и летучая кислотность отрицательно влияют на качество.**\n",
        "- **Преобразование категориальных признаков и нормализация числовых признаков улучшили качество модели и упростили интерпретацию результатов.**\n"
      ]
    },
    {
      "cell_type": "markdown",
      "metadata": {
        "id": "jUgvVuJpVP_d"
      },
      "source": [
        "### 4.1 Кросс-валидация модели"
      ]
    },
    {
      "cell_type": "code",
      "execution_count": 117,
      "metadata": {
        "colab": {
          "base_uri": "https://localhost:8080/"
        },
        "id": "fZKKWlv5VSj5",
        "outputId": "77bf6264-b075-4d60-a913-3572a2416569"
      },
      "outputs": [
        {
          "name": "stdout",
          "output_type": "stream",
          "text": [
            "Средняя точность при кросс-валидации: 0.8088\n",
            "Отклонение точности: 0.0135\n"
          ]
        }
      ],
      "source": [
        "from sklearn.model_selection import cross_val_score\n",
        "\n",
        "# Кросс-валидация с 5 фолдами\n",
        "scores = cross_val_score(model, X_processed, Y, cv=5, scoring='accuracy')\n",
        "\n",
        "print(f\"Средняя точность при кросс-валидации: {scores.mean():.4f}\")\n",
        "print(f\"Отклонение точности: {scores.std():.4f}\")"
      ]
    },
    {
      "cell_type": "code",
      "execution_count": 118,
      "metadata": {
        "id": "ym4BKDocVbhN"
      },
      "outputs": [],
      "source": [
        "X_train, X_test, Y_train, Y_test = train_test_split(X_processed, Y, test_size=0.2, random_state=42, stratify=Y)"
      ]
    },
    {
      "cell_type": "markdown",
      "metadata": {
        "id": "_xZekN3yVler"
      },
      "source": [
        "### 4.2 Построение ROC-кривой"
      ]
    },
    {
      "cell_type": "code",
      "execution_count": 119,
      "metadata": {
        "colab": {
          "base_uri": "https://localhost:8080/",
          "height": 564
        },
        "id": "lpzY-X-0VVTb",
        "outputId": "df8febe9-9b67-44f8-a1ff-14506a6f72dd"
      },
      "outputs": [
        {
          "data": {
            "image/png": "[encoded data removed]",
            "text/plain": [
              "<Figure size 800x600 with 1 Axes>"
            ]
          },
          "metadata": {},
          "output_type": "display_data"
        }
      ],
      "source": [
        "from sklearn.metrics import roc_curve, auc\n",
        "\n",
        "# Предсказания вероятностей для тестовой выборки\n",
        "Y_test_prob = model.predict_proba(X_test)[:, 1]\n",
        "\n",
        "# Расчет ROC-кривой\n",
        "fpr, tpr, thresholds = roc_curve(Y_test, Y_test_prob)\n",
        "roc_auc = auc(fpr, tpr)\n",
        "\n",
        "# Построение графика\n",
        "plt.figure(figsize=(8,6))\n",
        "plt.plot(fpr, tpr, label=f'ROC curve (area = {roc_auc:.2f})')\n",
        "plt.plot([0,1], [0,1], 'k--')\n",
        "plt.xlabel('False Positive Rate')\n",
        "plt.ylabel('True Positive Rate')\n",
        "plt.title('ROC-кривая')\n",
        "plt.legend(loc='lower right')\n",
        "plt.show()"
      ]
    },
    {
      "cell_type": "markdown",
      "metadata": {
        "id": "BcmdZJVKt8k-"
      },
      "source": []
    },
    {
      "cell_type": "markdown",
      "metadata": {
        "id": "iqVTUBAXt-8q"
      },
      "source": [
        "## ⏰ Доп задание"
      ]
    },
    {
      "cell_type": "markdown",
      "metadata": {
        "id": "2goKgvPOuCKc"
      },
      "source": [
        "Изучить различные метрики качества классификационных моделей и понять, в каких ситуациях они наиболее информативны.\n",
        "\n",
        "**Метрики для исследования:**\n",
        "- Accuracy (Точность)\n",
        "- Precision (Точность)\n",
        "- Recall (Полнота)\n",
        "- F1 Score\n",
        "- ROC-AUC\n",
        "- Log Loss\n",
        "\n",
        "**Попробовать другие модели и сравнить результат метрик**\n",
        "\n",
        "**Попробовать другие методы отбора признаков**\n",
        "\n",
        "**Использовать параметры модели и исследовать влияние на предсказание**"
      ]
    },
    {
      "cell_type": "markdown",
      "metadata": {
        "id": "FcSAAnQWVqHP"
      },
      "source": [
        "## Заключение\n",
        "\n",
        "Мы успешно построили модель логистической регрессии для предсказания лучших вин на основе химических характеристик. Преобразование данных и анализ коэффициентов модели позволили нам понять влияние различных признаков на качество вина."
      ]
    },
    {
      "cell_type": "markdown",
      "metadata": {
        "id": "x3j0CQnhVE7B"
      },
      "source": [
        "\n",
        "---\n",
        "\n",
        "# Примечания\n",
        "\n",
        "- **Логистическая регрессия** является мощным инструментом для бинарной классификации и позволяет интерпретировать результаты через коэффициенты модели.\n",
        "- **Преобразование категориальных признаков** (One-Hot Encoding) и **нормализация числовых признаков** являются стандартными шагами предобработки данных для многих алгоритмов машинного обучения.\n",
        "- **Анализ коэффициентов модели** помогает понять, какие признаки наиболее значимы и как они влияют на предсказания.\n",
        "\n",
        "---\n",
        "\n",
        "# Дополнительная литература\n",
        "\n",
        "- **Логистическая регрессия:**\n",
        "  - [Документация scikit-learn](https://scikit-learn.org/stable/modules/generated/sklearn.linear_model.LogisticRegression.html)\n",
        "- **Предобработка данных:**\n",
        "  - [One-Hot Encoding](https://scikit-learn.org/stable/modules/generated/sklearn.preprocessing.OneHotEncoder.html)\n",
        "  - [Min-Max Scaling](https://scikit-learn.org/stable/modules/generated/sklearn.preprocessing.MinMaxScaler.html)\n",
        "- **Метрики качества модели:**\n",
        "  - [Classification Report](https://scikit-learn.org/stable/modules/generated/sklearn.metrics.classification_report.html)\n",
        "  - [ROC-кривая и AUC](https://scikit-learn.org/stable/modules/generated/sklearn.metrics.roc_curve.html)\n",
        "\n",
        "---"
      ]
    }
  ],
  "metadata": {
    "colab": {
      "authorship_tag": "ABX9TyMDCgFxx35TfDs+mGtNZIQ2",
      "collapsed_sections": [
        "nSVkl345PZOK"
      ],
      "include_colab_link": true,
      "provenance": []
    },
    "kernelspec": {
      "display_name": "Python 3",
      "name": "python3"
    },
    "language_info": {
      "codemirror_mode": {
        "name": "ipython",
        "version": 3
      },
      "file_extension": ".py",
      "mimetype": "text/x-python",
      "name": "python",
      "nbconvert_exporter": "python",
      "pygments_lexer": "ipython3",
      "version": "3.12.5"
    }
  },
  "nbformat": 4,
  "nbformat_minor": 0
}
