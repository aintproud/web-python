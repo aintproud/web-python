{
  "cells": [
    {
      "cell_type": "markdown",
      "metadata": {
        "colab_type": "text",
        "id": "view-in-github"
      },
      "source": [
        "<a href=\"https://colab.research.google.com/github/Letch49/ML-vvsu-2025/blob/feature/%D0%9F%D1%80%D0%B0%D0%BA%D1%82%D0%B8%D0%BA%D0%B0_1.ipynb\" target=\"_parent\"><img src=\"https://colab.research.google.com/assets/colab-badge.svg\" alt=\"Open In Colab\"/></a>"
      ]
    },
    {
      "cell_type": "markdown",
      "metadata": {
        "id": "tcYorCKH80fp"
      },
      "source": [
        "# МЛ Практика 1\n",
        "## Обзор занятий: Чем предстоит заниматься\n",
        "Цели сессии:\n",
        "\n",
        "1. Ознакомление с основными понятиями машинного обучения и структурой практических занятий.\n",
        "2. Представление доступных наборов данных для последующих упражнений.\n",
        "3. Формирование списка участников и распределение ролей (при необходимости).\n",
        "4. Практическое освоение методов описательного анализа данных.\n",
        "5. Понимание типов данных и их важности в контексте машинного обучения.\n",
        "План занятий:\n",
        "\n",
        "1. Введение и обзор целей курса.\n",
        "2. Представление наборов данных.\n",
        "3. Формирование списка студентов.\n",
        "4. Совместный разбор выбранного набора данных с обсуждением вопросов.\n",
        "5. Задача 1: Описание набора данных и определение типов данных.\n",
        "6. Пример статистического разбора на основе wine.csv.\n",
        "7. Обсуждение типов переменных и их определения по статистике.\n",
        "8. Вопросы и ответы, обсуждение домашних заданий."
      ]
    },
    {
      "cell_type": "markdown",
      "metadata": {
        "id": "rudyRMMW-U2i"
      },
      "source": [
        "# Наборы данных по вариантам\n",
        "\n",
        "https://disk.yandex.ru/i/nY93FrjzthRO2Q"
      ]
    },
    {
      "cell_type": "markdown",
      "metadata": {
        "id": "NdlLoSu8EhPc"
      },
      "source": [
        "[github](https://github.com/Letch49/ML-vvsu-2025)"
      ]
    },
    {
      "cell_type": "markdown",
      "metadata": {
        "id": "sHEOFvmzH6nn"
      },
      "source": []
    },
    {
      "cell_type": "markdown",
      "metadata": {
        "id": "Cg4B0bp8_BNQ"
      },
      "source": [
        "# Наборы данных по вариантам\n",
        "\n",
        "| №  | Название файла      | Уровень сложности (1-5) | Обоснование                                                                                         | Ссылка                                                              |\n",
        "|----|---------------------|-------------------------|-----------------------------------------------------------------------------------------------------|---------------------------------------------------------------------|\n",
        "| 1  | wine.csv            | 1                       | Базовый набор данных из scikit-learn с небольшим количеством признаков и простой структурой.          | [wine.csv](https://disk.yandex.ru/d/OELXhKkfsWTJuw)                 |\n",
        "| 2  | diamond.csv         | 2                       | Набор данных со средним количеством признаков (например, караты, цвет, огранка) и четкими целями.     | [diamond.csv](https://disk.yandex.ru/d/7u9rI1RqWPQD7Q)              |\n",
        "| 3  | employee.csv        | 2                       | Типичные данные о сотрудниках с сочетанием числовых и категориальных признаков.                      | [employee.csv](https://disk.yandex.ru/d/b9kxHcJ8vviXWg)             |\n",
        "| 4  | heart.csv           | 2                       | Стандартный медицинский набор данных для задач классификации, хорошо изучен и документирован.         | [heart.csv](https://disk.yandex.ru/d/QNT6pUh6G3Eeqw)                |\n",
        "| 5  | heart_disease.csv   | 3                       | Более специализированный медицинский набор данных, возможно с большим количеством признаков.          | [heart_disease.csv](https://disk.yandex.ru/d/jHLFkdLICQIilQ)        |\n",
        "| 6  | hepatitis.csv       | 3                       | Медицинский набор данных с потенциально сложными признаками и необходимостью продвинутой обработки.   | [hepatitis.csv](https://disk.yandex.ru/d/0fuKz_gWwMJGqg)            |\n",
        "| 7  | income.csv          | 3                       | Набор данных для прогнозирования дохода, может содержать разнообразные и сложные признаки.            | [income.csv](https://disk.yandex.ru/d/pjFb9JhG7AZ3Jg)               |\n",
        "| 8  | insurance.csv       | 3                       | Страховые данные с множеством признаков, включая категориальные и числовые, возможны сложности в обработке. | [insurance.csv](https://disk.yandex.ru/d/WNdgMUGvgsPKgA)           |\n",
        "| 9  | france.csv          | 3                       | Данные, связанные с Францией, вероятно, экономические или демографические, требующие комплексного анализа. | [france.csv](https://disk.yandex.ru/d/ts48WLo7TazEvg)             |\n",
        "| 10 | germany.csv         | 3                       | Аналогично france.csv, данные о Германии могут быть комплексными и многогранными.                     | [germany.csv](https://disk.yandex.ru/d/UDxaNz46HwcFsw)              |\n",
        "| 11 | jucy.csv            | 3                       | Предполагается, что это специализированный или менее известный набор данных, возможны неопределенности в структуре и сложности. |  [jucy.csv](https://disk.yandex.ru/d/omBOncVnzElRoA)                                                                 |\n"
      ]
    },
    {
      "cell_type": "markdown",
      "metadata": {
        "id": "CYwJ2QAPEzpq"
      },
      "source": [
        "**p.s. wine датасет не берем**, это будет читерство, такого не одобряем"
      ]
    },
    {
      "cell_type": "markdown",
      "metadata": {
        "id": "Eho9OVlR_mar"
      },
      "source": [
        "## Описание:\n",
        "В этом разделе вы загрузите набор данных wine.csv, ознакомитесь с его структурой и проведёте первичный обзор."
      ]
    },
    {
      "cell_type": "code",
      "execution_count": 1,
      "metadata": {
        "id": "cAklc2-4_hag"
      },
      "outputs": [],
      "source": [
        "# импортируем библиотеки\n",
        "import pandas as pd\n",
        "import matplotlib.pyplot as plt\n",
        "import seaborn as sns"
      ]
    },
    {
      "cell_type": "markdown",
      "metadata": {
        "id": "nB8lKsq8FTCt"
      },
      "source": [
        "```p.s. а если либы нет, делаем (ошибка импорта например) ```"
      ]
    },
    {
      "cell_type": "markdown",
      "metadata": {
        "id": "gkrZd1Sf_j-4"
      },
      "source": [
        "Описание:\n",
        "В этом разделе вы загрузите набор данных wine.csv, ознакомитесь с его структурой и проведёте первичный обзор."
      ]
    },
    {
      "cell_type": "code",
      "execution_count": 2,
      "metadata": {
        "id": "_AxEco9xAAvN"
      },
      "outputs": [],
      "source": [
        "PATH_TO_FILE: str = 'france.csv' # Загрузка набора данных\n",
        "## p.s. в левой панеле нажать на папку и перетащить туда файл,\n",
        "## а wince.csv заменить на свой вариант (ПКМ -> копировать путь)\n",
        "\n",
        "df = pd.read_csv(PATH_TO_FILE) # функция превращение данных из CSV в DataFrame"
      ]
    },
    {
      "cell_type": "code",
      "execution_count": 3,
      "metadata": {
        "colab": {
          "base_uri": "https://localhost:8080/",
          "height": 261
        },
        "id": "BY0SAfx6AWXB",
        "outputId": "acb26ca9-aec6-43b4-e2b7-9197438364a6"
      },
      "outputs": [
        {
          "data": {
            "text/html": [
              "<div>\n",
              "<style scoped>\n",
              "    .dataframe tbody tr th:only-of-type {\n",
              "        vertical-align: middle;\n",
              "    }\n",
              "\n",
              "    .dataframe tbody tr th {\n",
              "        vertical-align: top;\n",
              "    }\n",
              "\n",
              "    .dataframe thead th {\n",
              "        text-align: right;\n",
              "    }\n",
              "</style>\n",
              "<table border=\"1\" class=\"dataframe\">\n",
              "  <thead>\n",
              "    <tr style=\"text-align: right;\">\n",
              "      <th></th>\n",
              "      <th>InvoiceNo</th>\n",
              "      <th>StockCode</th>\n",
              "      <th>Description</th>\n",
              "      <th>Quantity</th>\n",
              "      <th>InvoiceDate</th>\n",
              "      <th>UnitPrice</th>\n",
              "      <th>CustomerID</th>\n",
              "      <th>Country</th>\n",
              "    </tr>\n",
              "  </thead>\n",
              "  <tbody>\n",
              "    <tr>\n",
              "      <th>0</th>\n",
              "      <td>536370</td>\n",
              "      <td>22728</td>\n",
              "      <td>ALARM CLOCK BAKELIKE PINK</td>\n",
              "      <td>24</td>\n",
              "      <td>12/1/2010 8:45</td>\n",
              "      <td>3.75</td>\n",
              "      <td>12583.0</td>\n",
              "      <td>France</td>\n",
              "    </tr>\n",
              "    <tr>\n",
              "      <th>1</th>\n",
              "      <td>536370</td>\n",
              "      <td>22727</td>\n",
              "      <td>ALARM CLOCK BAKELIKE RED</td>\n",
              "      <td>24</td>\n",
              "      <td>12/1/2010 8:45</td>\n",
              "      <td>3.75</td>\n",
              "      <td>12583.0</td>\n",
              "      <td>France</td>\n",
              "    </tr>\n",
              "    <tr>\n",
              "      <th>2</th>\n",
              "      <td>536370</td>\n",
              "      <td>22726</td>\n",
              "      <td>ALARM CLOCK BAKELIKE GREEN</td>\n",
              "      <td>12</td>\n",
              "      <td>12/1/2010 8:45</td>\n",
              "      <td>3.75</td>\n",
              "      <td>12583.0</td>\n",
              "      <td>France</td>\n",
              "    </tr>\n",
              "    <tr>\n",
              "      <th>3</th>\n",
              "      <td>536370</td>\n",
              "      <td>21724</td>\n",
              "      <td>PANDA AND BUNNIES STICKER SHEET</td>\n",
              "      <td>12</td>\n",
              "      <td>12/1/2010 8:45</td>\n",
              "      <td>0.85</td>\n",
              "      <td>12583.0</td>\n",
              "      <td>France</td>\n",
              "    </tr>\n",
              "    <tr>\n",
              "      <th>4</th>\n",
              "      <td>536370</td>\n",
              "      <td>21883</td>\n",
              "      <td>STARS GIFT TAPE</td>\n",
              "      <td>24</td>\n",
              "      <td>12/1/2010 8:45</td>\n",
              "      <td>0.65</td>\n",
              "      <td>12583.0</td>\n",
              "      <td>France</td>\n",
              "    </tr>\n",
              "  </tbody>\n",
              "</table>\n",
              "</div>"
            ],
            "text/plain": [
              "  InvoiceNo StockCode                      Description  Quantity  \\\n",
              "0    536370     22728        ALARM CLOCK BAKELIKE PINK        24   \n",
              "1    536370     22727        ALARM CLOCK BAKELIKE RED         24   \n",
              "2    536370     22726       ALARM CLOCK BAKELIKE GREEN        12   \n",
              "3    536370     21724  PANDA AND BUNNIES STICKER SHEET        12   \n",
              "4    536370     21883                 STARS GIFT TAPE         24   \n",
              "\n",
              "      InvoiceDate  UnitPrice  CustomerID Country  \n",
              "0  12/1/2010 8:45       3.75     12583.0  France  \n",
              "1  12/1/2010 8:45       3.75     12583.0  France  \n",
              "2  12/1/2010 8:45       3.75     12583.0  France  \n",
              "3  12/1/2010 8:45       0.85     12583.0  France  \n",
              "4  12/1/2010 8:45       0.65     12583.0  France  "
            ]
          },
          "execution_count": 3,
          "metadata": {},
          "output_type": "execute_result"
        }
      ],
      "source": [
        "# Вывод первых 5 строк\n",
        "df.head()"
      ]
    },
    {
      "cell_type": "markdown",
      "metadata": {
        "id": "08E8yFAcFkgQ"
      },
      "source": []
    },
    {
      "cell_type": "code",
      "execution_count": 4,
      "metadata": {
        "colab": {
          "base_uri": "https://localhost:8080/"
        },
        "id": "FXF-l0y1AXNU",
        "outputId": "8f32d942-f7ee-46e7-9aea-63fe7778354d"
      },
      "outputs": [
        {
          "name": "stdout",
          "output_type": "stream",
          "text": [
            "<class 'pandas.core.frame.DataFrame'>\n",
            "RangeIndex: 8557 entries, 0 to 8556\n",
            "Data columns (total 8 columns):\n",
            " #   Column       Non-Null Count  Dtype  \n",
            "---  ------       --------------  -----  \n",
            " 0   InvoiceNo    8557 non-null   object \n",
            " 1   StockCode    8557 non-null   object \n",
            " 2   Description  8557 non-null   object \n",
            " 3   Quantity     8557 non-null   int64  \n",
            " 4   InvoiceDate  8557 non-null   object \n",
            " 5   UnitPrice    8557 non-null   float64\n",
            " 6   CustomerID   8491 non-null   float64\n",
            " 7   Country      8557 non-null   object \n",
            "dtypes: float64(2), int64(1), object(5)\n",
            "memory usage: 534.9+ KB\n"
          ]
        }
      ],
      "source": [
        "# Информация о наборе данных\n",
        "df.info()"
      ]
    },
    {
      "cell_type": "code",
      "execution_count": 5,
      "metadata": {
        "colab": {
          "base_uri": "https://localhost:8080/",
          "height": 355
        },
        "id": "1eP4wqv1_tqN",
        "outputId": "4477860b-8f54-4fdc-947f-0846bfffb9e8"
      },
      "outputs": [
        {
          "data": {
            "text/html": [
              "<div>\n",
              "<style scoped>\n",
              "    .dataframe tbody tr th:only-of-type {\n",
              "        vertical-align: middle;\n",
              "    }\n",
              "\n",
              "    .dataframe tbody tr th {\n",
              "        vertical-align: top;\n",
              "    }\n",
              "\n",
              "    .dataframe thead th {\n",
              "        text-align: right;\n",
              "    }\n",
              "</style>\n",
              "<table border=\"1\" class=\"dataframe\">\n",
              "  <thead>\n",
              "    <tr style=\"text-align: right;\">\n",
              "      <th></th>\n",
              "      <th>Quantity</th>\n",
              "      <th>UnitPrice</th>\n",
              "      <th>CustomerID</th>\n",
              "    </tr>\n",
              "  </thead>\n",
              "  <tbody>\n",
              "    <tr>\n",
              "      <th>count</th>\n",
              "      <td>8557.000000</td>\n",
              "      <td>8557.000000</td>\n",
              "      <td>8491.000000</td>\n",
              "    </tr>\n",
              "    <tr>\n",
              "      <th>mean</th>\n",
              "      <td>12.911067</td>\n",
              "      <td>5.028864</td>\n",
              "      <td>12677.995996</td>\n",
              "    </tr>\n",
              "    <tr>\n",
              "      <th>std</th>\n",
              "      <td>21.425031</td>\n",
              "      <td>79.909126</td>\n",
              "      <td>276.742088</td>\n",
              "    </tr>\n",
              "    <tr>\n",
              "      <th>min</th>\n",
              "      <td>-250.000000</td>\n",
              "      <td>0.000000</td>\n",
              "      <td>12413.000000</td>\n",
              "    </tr>\n",
              "    <tr>\n",
              "      <th>25%</th>\n",
              "      <td>5.000000</td>\n",
              "      <td>1.250000</td>\n",
              "      <td>12571.000000</td>\n",
              "    </tr>\n",
              "    <tr>\n",
              "      <th>50%</th>\n",
              "      <td>10.000000</td>\n",
              "      <td>1.790000</td>\n",
              "      <td>12674.000000</td>\n",
              "    </tr>\n",
              "    <tr>\n",
              "      <th>75%</th>\n",
              "      <td>12.000000</td>\n",
              "      <td>3.750000</td>\n",
              "      <td>12689.000000</td>\n",
              "    </tr>\n",
              "    <tr>\n",
              "      <th>max</th>\n",
              "      <td>912.000000</td>\n",
              "      <td>4161.060000</td>\n",
              "      <td>14277.000000</td>\n",
              "    </tr>\n",
              "  </tbody>\n",
              "</table>\n",
              "</div>"
            ],
            "text/plain": [
              "          Quantity    UnitPrice    CustomerID\n",
              "count  8557.000000  8557.000000   8491.000000\n",
              "mean     12.911067     5.028864  12677.995996\n",
              "std      21.425031    79.909126    276.742088\n",
              "min    -250.000000     0.000000  12413.000000\n",
              "25%       5.000000     1.250000  12571.000000\n",
              "50%      10.000000     1.790000  12674.000000\n",
              "75%      12.000000     3.750000  12689.000000\n",
              "max     912.000000  4161.060000  14277.000000"
            ]
          },
          "execution_count": 5,
          "metadata": {},
          "output_type": "execute_result"
        }
      ],
      "source": [
        "# Статистический разбор\n",
        "df.describe()"
      ]
    },
    {
      "cell_type": "code",
      "execution_count": 6,
      "metadata": {
        "colab": {
          "base_uri": "https://localhost:8080/"
        },
        "id": "157IXtxKAjbv",
        "outputId": "81a7e50a-b671-4e6c-ecce-9a8275bef551"
      },
      "outputs": [
        {
          "data": {
            "text/plain": [
              "Index(['InvoiceNo', 'StockCode', 'Description', 'Quantity', 'InvoiceDate',\n",
              "       'UnitPrice', 'CustomerID', 'Country'],\n",
              "      dtype='object')"
            ]
          },
          "execution_count": 6,
          "metadata": {},
          "output_type": "execute_result"
        }
      ],
      "source": [
        "# Вывод колонок в наборе данных\n",
        "df.columns"
      ]
    },
    {
      "cell_type": "code",
      "execution_count": 7,
      "metadata": {
        "colab": {
          "base_uri": "https://localhost:8080/",
          "height": 478
        },
        "id": "rnL3akt2Ao81",
        "outputId": "a0c11e18-da52-4ce4-ab51-b396afdc62dd"
      },
      "outputs": [
        {
          "data": {
            "text/html": [
              "<div>\n",
              "<style scoped>\n",
              "    .dataframe tbody tr th:only-of-type {\n",
              "        vertical-align: middle;\n",
              "    }\n",
              "\n",
              "    .dataframe tbody tr th {\n",
              "        vertical-align: top;\n",
              "    }\n",
              "\n",
              "    .dataframe thead th {\n",
              "        text-align: right;\n",
              "    }\n",
              "</style>\n",
              "<table border=\"1\" class=\"dataframe\">\n",
              "  <thead>\n",
              "    <tr style=\"text-align: right;\">\n",
              "      <th></th>\n",
              "      <th>InvoiceNo</th>\n",
              "      <th>StockCode</th>\n",
              "      <th>Description</th>\n",
              "      <th>Quantity</th>\n",
              "      <th>InvoiceDate</th>\n",
              "      <th>UnitPrice</th>\n",
              "      <th>CustomerID</th>\n",
              "      <th>Country</th>\n",
              "    </tr>\n",
              "  </thead>\n",
              "  <tbody>\n",
              "    <tr>\n",
              "      <th>0</th>\n",
              "      <td>536370</td>\n",
              "      <td>22728</td>\n",
              "      <td>ALARM CLOCK BAKELIKE PINK</td>\n",
              "      <td>24</td>\n",
              "      <td>12/1/2010 8:45</td>\n",
              "      <td>3.75</td>\n",
              "      <td>12583.0</td>\n",
              "      <td>France</td>\n",
              "    </tr>\n",
              "    <tr>\n",
              "      <th>1</th>\n",
              "      <td>536370</td>\n",
              "      <td>22727</td>\n",
              "      <td>ALARM CLOCK BAKELIKE RED</td>\n",
              "      <td>24</td>\n",
              "      <td>12/1/2010 8:45</td>\n",
              "      <td>3.75</td>\n",
              "      <td>12583.0</td>\n",
              "      <td>France</td>\n",
              "    </tr>\n",
              "    <tr>\n",
              "      <th>2</th>\n",
              "      <td>536370</td>\n",
              "      <td>22726</td>\n",
              "      <td>ALARM CLOCK BAKELIKE GREEN</td>\n",
              "      <td>12</td>\n",
              "      <td>12/1/2010 8:45</td>\n",
              "      <td>3.75</td>\n",
              "      <td>12583.0</td>\n",
              "      <td>France</td>\n",
              "    </tr>\n",
              "    <tr>\n",
              "      <th>3</th>\n",
              "      <td>536370</td>\n",
              "      <td>21724</td>\n",
              "      <td>PANDA AND BUNNIES STICKER SHEET</td>\n",
              "      <td>12</td>\n",
              "      <td>12/1/2010 8:45</td>\n",
              "      <td>0.85</td>\n",
              "      <td>12583.0</td>\n",
              "      <td>France</td>\n",
              "    </tr>\n",
              "    <tr>\n",
              "      <th>4</th>\n",
              "      <td>536370</td>\n",
              "      <td>21883</td>\n",
              "      <td>STARS GIFT TAPE</td>\n",
              "      <td>24</td>\n",
              "      <td>12/1/2010 8:45</td>\n",
              "      <td>0.65</td>\n",
              "      <td>12583.0</td>\n",
              "      <td>France</td>\n",
              "    </tr>\n",
              "    <tr>\n",
              "      <th>...</th>\n",
              "      <td>...</td>\n",
              "      <td>...</td>\n",
              "      <td>...</td>\n",
              "      <td>...</td>\n",
              "      <td>...</td>\n",
              "      <td>...</td>\n",
              "      <td>...</td>\n",
              "      <td>...</td>\n",
              "    </tr>\n",
              "    <tr>\n",
              "      <th>8552</th>\n",
              "      <td>581587</td>\n",
              "      <td>22613</td>\n",
              "      <td>PACK OF 20 SPACEBOY NAPKINS</td>\n",
              "      <td>12</td>\n",
              "      <td>12/9/2011 12:50</td>\n",
              "      <td>0.85</td>\n",
              "      <td>12680.0</td>\n",
              "      <td>France</td>\n",
              "    </tr>\n",
              "    <tr>\n",
              "      <th>8553</th>\n",
              "      <td>581587</td>\n",
              "      <td>22899</td>\n",
              "      <td>CHILDREN'S APRON DOLLY GIRL</td>\n",
              "      <td>6</td>\n",
              "      <td>12/9/2011 12:50</td>\n",
              "      <td>2.10</td>\n",
              "      <td>12680.0</td>\n",
              "      <td>France</td>\n",
              "    </tr>\n",
              "    <tr>\n",
              "      <th>8554</th>\n",
              "      <td>581587</td>\n",
              "      <td>23254</td>\n",
              "      <td>CHILDRENS CUTLERY DOLLY GIRL</td>\n",
              "      <td>4</td>\n",
              "      <td>12/9/2011 12:50</td>\n",
              "      <td>4.15</td>\n",
              "      <td>12680.0</td>\n",
              "      <td>France</td>\n",
              "    </tr>\n",
              "    <tr>\n",
              "      <th>8555</th>\n",
              "      <td>581587</td>\n",
              "      <td>23255</td>\n",
              "      <td>CHILDRENS CUTLERY CIRCUS PARADE</td>\n",
              "      <td>4</td>\n",
              "      <td>12/9/2011 12:50</td>\n",
              "      <td>4.15</td>\n",
              "      <td>12680.0</td>\n",
              "      <td>France</td>\n",
              "    </tr>\n",
              "    <tr>\n",
              "      <th>8556</th>\n",
              "      <td>581587</td>\n",
              "      <td>22138</td>\n",
              "      <td>BAKING SET 9 PIECE RETROSPOT</td>\n",
              "      <td>3</td>\n",
              "      <td>12/9/2011 12:50</td>\n",
              "      <td>4.95</td>\n",
              "      <td>12680.0</td>\n",
              "      <td>France</td>\n",
              "    </tr>\n",
              "  </tbody>\n",
              "</table>\n",
              "<p>8557 rows × 8 columns</p>\n",
              "</div>"
            ],
            "text/plain": [
              "     InvoiceNo StockCode                      Description  Quantity  \\\n",
              "0       536370     22728        ALARM CLOCK BAKELIKE PINK        24   \n",
              "1       536370     22727        ALARM CLOCK BAKELIKE RED         24   \n",
              "2       536370     22726       ALARM CLOCK BAKELIKE GREEN        12   \n",
              "3       536370     21724  PANDA AND BUNNIES STICKER SHEET        12   \n",
              "4       536370     21883                 STARS GIFT TAPE         24   \n",
              "...        ...       ...                              ...       ...   \n",
              "8552    581587     22613      PACK OF 20 SPACEBOY NAPKINS        12   \n",
              "8553    581587     22899     CHILDREN'S APRON DOLLY GIRL          6   \n",
              "8554    581587     23254    CHILDRENS CUTLERY DOLLY GIRL          4   \n",
              "8555    581587     23255  CHILDRENS CUTLERY CIRCUS PARADE         4   \n",
              "8556    581587     22138    BAKING SET 9 PIECE RETROSPOT          3   \n",
              "\n",
              "          InvoiceDate  UnitPrice  CustomerID Country  \n",
              "0      12/1/2010 8:45       3.75     12583.0  France  \n",
              "1      12/1/2010 8:45       3.75     12583.0  France  \n",
              "2      12/1/2010 8:45       3.75     12583.0  France  \n",
              "3      12/1/2010 8:45       0.85     12583.0  France  \n",
              "4      12/1/2010 8:45       0.65     12583.0  France  \n",
              "...               ...        ...         ...     ...  \n",
              "8552  12/9/2011 12:50       0.85     12680.0  France  \n",
              "8553  12/9/2011 12:50       2.10     12680.0  France  \n",
              "8554  12/9/2011 12:50       4.15     12680.0  France  \n",
              "8555  12/9/2011 12:50       4.15     12680.0  France  \n",
              "8556  12/9/2011 12:50       4.95     12680.0  France  \n",
              "\n",
              "[8557 rows x 8 columns]"
            ]
          },
          "execution_count": 7,
          "metadata": {},
          "output_type": "execute_result"
        }
      ],
      "source": [
        "# вывод датафрейма\n",
        "df # p.s. обычно переменную с набором данных называют df, придерживайтесь этого наименования в дальнейшем"
      ]
    },
    {
      "cell_type": "markdown",
      "metadata": {
        "id": "tm8i1hZ4A5lu"
      },
      "source": [
        "## Определение типов переменных"
      ]
    },
    {
      "cell_type": "markdown",
      "metadata": {
        "id": "0XVXA7LmA7fM"
      },
      "source": []
    },
    {
      "cell_type": "code",
      "execution_count": 8,
      "metadata": {
        "colab": {
          "base_uri": "https://localhost:8080/"
        },
        "id": "OOIfnW3OAbZ-",
        "outputId": "c445db69-34ae-4ace-c38f-358f845d5850"
      },
      "outputs": [
        {
          "name": "stdout",
          "output_type": "stream",
          "text": [
            "InvoiceNo       object\n",
            "StockCode       object\n",
            "Description     object\n",
            "Quantity         int64\n",
            "InvoiceDate     object\n",
            "UnitPrice      float64\n",
            "CustomerID     float64\n",
            "Country         object\n",
            "dtype: object\n"
          ]
        }
      ],
      "source": [
        "# Список столбцов и их типов данных\n",
        "print(df.dtypes)"
      ]
    },
    {
      "cell_type": "markdown",
      "metadata": {
        "id": "D6K8rKQkBBTx"
      },
      "source": [
        "- Числовые переменные обычно имеют тип int64 или float64.\n",
        "- Категориальные переменные могут иметь тип object или category, но иногда целочисленные переменные также могут быть категориальными (например, метки классов)."
      ]
    },
    {
      "cell_type": "markdown",
      "metadata": {
        "id": "6ePNxVMIBNAX"
      },
      "source": [
        "**Почему целые числа могут быть категориальными**?"
      ]
    },
    {
      "cell_type": "markdown",
      "metadata": {
        "id": "pud5HW85BK4u"
      },
      "source": [
        "\n",
        "   ### Объяснение:\n",
        "   ```\n",
        "   Целочисленные переменные, такие как `Class`, могут представлять категории\n",
        "   (например, тип вина) вместо количественных значений.\n",
        "   В таких случаях они используются как метки классов, а не как числовые данные.\n",
        "   ```"
      ]
    },
    {
      "cell_type": "markdown",
      "metadata": {
        "id": "eiFQUgHECLP_"
      },
      "source": [
        "## Статистический разбор данных"
      ]
    },
    {
      "cell_type": "markdown",
      "metadata": {
        "id": "WF5o933BCNUt"
      },
      "source": [
        "2. **Определите, какие переменные являются непрерывными, а какие дискретными:**\n",
        "\n",
        "   - **Непрерывные переменные:** могут принимать любое значение в диапазоне.\n",
        "   - **Дискретные переменные:** принимают только определенные значения (обычно целые числа).\n",
        "\n",
        "   **Ваши ответы:**\n",
        "\n",
        "   - **Непрерывные переменные:**\n",
        "     - Quantity\n",
        "   \n",
        "   - **Дискретные переменные:**\n",
        "     - InvoiceNo UnitPrice CustomerId InvoceDate Country"
      ]
    },
    {
      "cell_type": "markdown",
      "metadata": {
        "id": "MbYwHh_gCseY"
      },
      "source": [
        "1. **Посчитайте количество уникальных значений для каждой переменной:**"
      ]
    },
    {
      "cell_type": "code",
      "execution_count": 9,
      "metadata": {
        "colab": {
          "base_uri": "https://localhost:8080/"
        },
        "id": "U7YqAEKUBmhf",
        "outputId": "ac1ae888-a595-4260-958e-4d04da2e04a2"
      },
      "outputs": [
        {
          "name": "stdout",
          "output_type": "stream",
          "text": [
            "InvoiceNo: 461 уникальных значений\n",
            "StockCode: 1543 уникальных значений\n",
            "Description: 1565 уникальных значений\n",
            "Quantity: 77 уникальных значений\n",
            "InvoiceDate: 461 уникальных значений\n",
            "UnitPrice: 97 уникальных значений\n",
            "CustomerID: 87 уникальных значений\n",
            "Country: 1 уникальных значений\n"
          ]
        }
      ],
      "source": [
        "# Количество уникальных значений\n",
        "for column in df.columns:\n",
        "    print(f'{column}: {df[column].nunique()} уникальных значений')"
      ]
    },
    {
      "cell_type": "markdown",
      "metadata": {
        "id": "qxTEAKDYCvkX"
      },
      "source": [
        "2. **Определите, какие переменные являются непрерывными, а какие дискретными:**\n",
        "\n",
        "   - **Непрерывные переменные:** могут принимать любое значение в диапазоне.\n",
        "   - **Дискретные переменные:** принимают только определенные значения (обычно целые числа).\n",
        "\n",
        "   **Ваши ответы:**\n",
        "\n",
        "   - **Непрерывные переменные:**\n",
        "     - `___` ⏰\n",
        "   \n",
        "   - **Дискретные переменные:**\n",
        "     - `___` ⏰"
      ]
    },
    {
      "cell_type": "markdown",
      "metadata": {
        "id": "UyZC2Uc1C0Zf"
      },
      "source": [
        "3. **Посмотрите на статистические показатели и сделайте выводы о распределении переменных:**"
      ]
    },
    {
      "cell_type": "code",
      "execution_count": 10,
      "metadata": {
        "colab": {
          "base_uri": "https://localhost:8080/",
          "height": 828
        },
        "id": "KavTuUGxC28e",
        "outputId": "bd92c423-64aa-4184-c87e-394446a8934d"
      },
      "outputs": [
        {
          "data": {
            "text/html": [
              "<div>\n",
              "<style scoped>\n",
              "    .dataframe tbody tr th:only-of-type {\n",
              "        vertical-align: middle;\n",
              "    }\n",
              "\n",
              "    .dataframe tbody tr th {\n",
              "        vertical-align: top;\n",
              "    }\n",
              "\n",
              "    .dataframe thead th {\n",
              "        text-align: right;\n",
              "    }\n",
              "</style>\n",
              "<table border=\"1\" class=\"dataframe\">\n",
              "  <thead>\n",
              "    <tr style=\"text-align: right;\">\n",
              "      <th></th>\n",
              "      <th>Quantity</th>\n",
              "      <th>UnitPrice</th>\n",
              "      <th>CustomerID</th>\n",
              "    </tr>\n",
              "  </thead>\n",
              "  <tbody>\n",
              "    <tr>\n",
              "      <th>count</th>\n",
              "      <td>8557.000000</td>\n",
              "      <td>8557.000000</td>\n",
              "      <td>8491.000000</td>\n",
              "    </tr>\n",
              "    <tr>\n",
              "      <th>mean</th>\n",
              "      <td>12.911067</td>\n",
              "      <td>5.028864</td>\n",
              "      <td>12677.995996</td>\n",
              "    </tr>\n",
              "    <tr>\n",
              "      <th>std</th>\n",
              "      <td>21.425031</td>\n",
              "      <td>79.909126</td>\n",
              "      <td>276.742088</td>\n",
              "    </tr>\n",
              "    <tr>\n",
              "      <th>min</th>\n",
              "      <td>-250.000000</td>\n",
              "      <td>0.000000</td>\n",
              "      <td>12413.000000</td>\n",
              "    </tr>\n",
              "    <tr>\n",
              "      <th>25%</th>\n",
              "      <td>5.000000</td>\n",
              "      <td>1.250000</td>\n",
              "      <td>12571.000000</td>\n",
              "    </tr>\n",
              "    <tr>\n",
              "      <th>50%</th>\n",
              "      <td>10.000000</td>\n",
              "      <td>1.790000</td>\n",
              "      <td>12674.000000</td>\n",
              "    </tr>\n",
              "    <tr>\n",
              "      <th>75%</th>\n",
              "      <td>12.000000</td>\n",
              "      <td>3.750000</td>\n",
              "      <td>12689.000000</td>\n",
              "    </tr>\n",
              "    <tr>\n",
              "      <th>max</th>\n",
              "      <td>912.000000</td>\n",
              "      <td>4161.060000</td>\n",
              "      <td>14277.000000</td>\n",
              "    </tr>\n",
              "  </tbody>\n",
              "</table>\n",
              "</div>"
            ],
            "text/plain": [
              "          Quantity    UnitPrice    CustomerID\n",
              "count  8557.000000  8557.000000   8491.000000\n",
              "mean     12.911067     5.028864  12677.995996\n",
              "std      21.425031    79.909126    276.742088\n",
              "min    -250.000000     0.000000  12413.000000\n",
              "25%       5.000000     1.250000  12571.000000\n",
              "50%      10.000000     1.790000  12674.000000\n",
              "75%      12.000000     3.750000  12689.000000\n",
              "max     912.000000  4161.060000  14277.000000"
            ]
          },
          "execution_count": 10,
          "metadata": {},
          "output_type": "execute_result"
        }
      ],
      "source": [
        "   # Статистический разбор\n",
        "df.describe()"
      ]
    },
    {
      "cell_type": "markdown",
      "metadata": {
        "id": "pu48XMD9C5bo"
      },
      "source": [
        "   **Ваши наблюдения:**\n",
        "1. InvoiceNo: Этот столбец представляет уникальный идентификатор для каждого инвойса. В датасете присутствуют 461 уникальных номера инвойсов.\n",
        "2. StockCode: Этот столбец содержит коды товаров, включенных в инвойс. В датасете присутствуют 1543 уникальных кода товаров.\n",
        "3. Description: Этот столбец предоставляет описание товаров, включенных в инвойс. В датасете присутствуют 1565 уникальных описаний.\n",
        "4. Quantity: Этот столбец указывает количество каждого товара, включенного в инвойс. В датасете присутствуют 77 уникальных количеств.\n",
        "5. InvoiceDate: Этот столбец представляет дату создания инвойса. В датасете присутствуют 461 уникальных дат создания инвойсов.\n",
        "6. UnitPrice: Этот столбец показывает цену каждого товара, включенного в инвойс. В датасете присутствуют 97 уникальных цен.\n",
        "7. CustomerID: Этот столбец идентифицирует клиента, связанного с каждым инвойсом. В датасете присутствуют 87 уникальных идентификаторов клиентов.\n",
        "8. Country: Этот столбец указывает страну клиента. В датасете присутствует только одно уникальное значение страны."
      ]
    },
    {
      "cell_type": "markdown",
      "metadata": {
        "id": "YmWlNDdjDh7G"
      },
      "source": [
        "## **4. Визуализация распределения переменных**\n",
        "\n",
        "### **Описание:**\n",
        "Создайте визуализации для понимания распределения числовых и категориальных переменных.\n",
        "\n",
        "### **Шаги:**\n"
      ]
    },
    {
      "cell_type": "markdown",
      "metadata": {
        "id": "7U-U04OFDlLr"
      },
      "source": [
        "1. **Гистограмма для числовой переменной `Quantity`:**"
      ]
    },
    {
      "cell_type": "code",
      "execution_count": 35,
      "metadata": {
        "colab": {
          "base_uri": "https://localhost:8080/",
          "height": 472
        },
        "id": "MyuMx_RlDl1y",
        "outputId": "16fb83fd-84b2-444c-9d56-c3a9731ffcf3"
      },
      "outputs": [
        {
          "data": {
            "image/png": "[encoded data removed]",
            "text/plain": [
              "<Figure size 640x480 with 1 Axes>"
            ]
          },
          "metadata": {},
          "output_type": "display_data"
        }
      ],
      "source": [
        "   sns.histplot(df['Quantity'], kde=True)\n",
        "   plt.title('Распределение Quantity')\n",
        "   plt.xlabel('Quantity')\n",
        "   plt.ylabel('Частота')\n",
        "   plt.xlim((-10, 75))\n",
        "   plt.show()"
      ]
    },
    {
      "cell_type": "markdown",
      "metadata": {
        "id": "xl44MN9qDnv9"
      },
      "source": [
        "2. **Столбчатая диаграмма для категориальной переменной `Quantity`:**"
      ]
    },
    {
      "cell_type": "code",
      "execution_count": 37,
      "metadata": {
        "colab": {
          "base_uri": "https://localhost:8080/",
          "height": 472
        },
        "id": "S4PxrTMQDoyZ",
        "outputId": "6d037799-0fde-444f-ecd4-426632bc6f6a"
      },
      "outputs": [
        {
          "data": {
            "image/png": "[encoded data removed]",
            "text/plain": [
              "<Figure size 640x480 with 1 Axes>"
            ]
          },
          "metadata": {},
          "output_type": "display_data"
        }
      ],
      "source": [
        "   sns.countplot(x='Quantity', data=df)\n",
        "   plt.title('Распределение Quantity')\n",
        "   plt.xlabel('Quantity')\n",
        "   plt.ylabel('Количество')\n",
        "   plt.show()"
      ]
    },
    {
      "cell_type": "markdown",
      "metadata": {
        "id": "A_u0EaAxDpdY"
      },
      "source": [
        "**Боксплот для числовой переменной `Malic_Acid`:**"
      ]
    },
    {
      "cell_type": "code",
      "execution_count": 38,
      "metadata": {
        "colab": {
          "base_uri": "https://localhost:8080/",
          "height": 472
        },
        "id": "Au59-9x8DsYS",
        "outputId": "cae1523f-20eb-4e77-c4dc-242a5a204427"
      },
      "outputs": [
        {
          "data": {
            "image/png": "[encoded data removed]",
            "text/plain": [
              "<Figure size 640x480 with 1 Axes>"
            ]
          },
          "metadata": {},
          "output_type": "display_data"
        }
      ],
      "source": [
        "   sns.boxplot(x=df['Quantity'])\n",
        "   plt.title('Boxplot Quantity')\n",
        "   plt.xlabel('Quantity')\n",
        "   plt.show()"
      ]
    },
    {
      "cell_type": "markdown",
      "metadata": {
        "id": "YkkhU8qNQiNu"
      },
      "source": [
        "   **Ваши наблюдения:**\n",
        "   \n",
        "   ВАЖНО! ⏰\n",
        "   **```тут пишем много текста почему мы так считаем, пойдет даже (Распределение по алкоголю сосредоточено не как нормальное распределение (alcohol), в среднем большинство значений в районе 6 (quality) ) ИЛИ на box plot chlorides видно много выбросов и медиана сосредоточена между 0 и 1``` **\n",
        "   \n",
        "   p.s. если знаете контекст, то можете описать\n",
        "   Касательно первого графика: видим большинство вин обладают "
      ]
    },
    {
      "cell_type": "markdown",
      "metadata": {
        "id": "IBi2LsQbWvCI"
      },
      "source": [
        "```# тут```"
      ]
    },
    {
      "cell_type": "markdown",
      "metadata": {
        "id": "B1bbdRrWD7iZ"
      },
      "source": [
        "## **5. Дополнительное задание** ⏰ (не обязательное, но полезное)\n",
        "\n",
        "### **Описание:**\n",
        "Для тех, кто хочет углубить свои знания и навыки, выполните дополнительное задание ниже.\n",
        "\n",
        "### **Задание:**"
      ]
    },
    {
      "cell_type": "markdown",
      "metadata": {
        "id": "f59wNH9vEBCj"
      },
      "source": [
        "**Постройте корреляционную матрицу для всех числовых переменных и визуализируйте её с помощью тепловой карты:**"
      ]
    },
    {
      "cell_type": "code",
      "execution_count": 30,
      "metadata": {
        "colab": {
          "base_uri": "https://localhost:8080/",
          "height": 569
        },
        "id": "hjoJf7vbEDtY",
        "outputId": "0d4e5d78-b1b5-496e-ab09-0d5b62768c20"
      },
      "outputs": [
        {
          "data": {
            "image/png": "[encoded data removed]",
            "text/plain": [
              "<Figure size 640x480 with 2 Axes>"
            ]
          },
          "metadata": {},
          "output_type": "display_data"
        }
      ],
      "source": [
        "   # Корреляционная матрица\n",
        "   correlation_matrix = df[['Quantity', 'UnitPrice', 'CustomerID']].corr()\n",
        "\n",
        "   # Визуализация тепловой карты\n",
        "   sns.heatmap(correlation_matrix, annot=True, cmap='coolwarm')\n",
        "   plt.title('Корреляционная матрица')\n",
        "   plt.show()"
      ]
    },
    {
      "cell_type": "code",
      "execution_count": null,
      "metadata": {
        "id": "6tI82fozG1wk"
      },
      "outputs": [],
      "source": [
        "# Если будут ошибки ValueError из-за could not conver string to float\n",
        "df = df.drop('type', axis=1)\n",
        "# найти колонку, из-за которой ничего не получается,\n",
        "# можно найти по object из df.info()"
      ]
    },
    {
      "cell_type": "markdown",
      "metadata": {
        "id": "Fv0XQxXrEGFb"
      },
      "source": [
        "2. **Интерпретируйте полученную корреляционную матрицу:**\n",
        "   \n",
        "   - Какие переменные имеют сильную положительную корреляцию?\n",
        "   - Какие переменные имеют сильную отрицательную корреляцию?\n",
        "   - Какие переменные практически некоррелированы?\n",
        "\n",
        "   **Ваши ответы:**\n",
        "   \n",
        "   - **Сильная положительная корреляция:**\n",
        "     - нет\n",
        "   \n",
        "   - **Сильная отрицательная корреляция:**\n",
        "     - все\n",
        "   \n",
        "   - **Практически некоррелированные переменные:**\n",
        "     - нет"
      ]
    },
    {
      "cell_type": "markdown",
      "metadata": {
        "id": "9ks1q6K_EInx"
      },
      "source": [
        "**Определите, какие переменные можно потенциально исключить из дальнейшего анализа из-за высокой корреляции:**\n",
        "   \n",
        "   **Ваши ответы:**\n",
        "   \n",
        "   - все"
      ]
    },
    {
      "cell_type": "markdown",
      "metadata": {
        "id": "6hG7m031IMN_"
      },
      "source": [
        "## **Заключение**\n",
        "\n",
        "В этом задании вы научились загружать и исследовать набор данных, определять типы переменных, проводить статистический разбор и визуализировать распределение данных. Эти навыки являются фундаментальными для дальнейшего анализа данных и построения моделей машинного обучения."
      ]
    },
    {
      "cell_type": "markdown",
      "metadata": {
        "id": "rpwjPg2gIPGa"
      },
      "source": [
        "## По желанию\n",
        "#### Опишите, что вы поняли из практики, и на чем стоит сфокусироваться, или общие впечатления\n",
        "\n",
        "## https://forms.yandex.ru/u/66e83a1ef47e73e9432f7e4f/"
      ]
    },
    {
      "cell_type": "markdown",
      "metadata": {
        "id": "sVbfh3JeEUhA"
      },
      "source": [
        "\n",
        "\n",
        "## **Рекомендации по выполнению задания:**\n",
        "\n",
        "- **Убедитесь, что все необходимые библиотеки установлены и импортированы.**\n",
        "- **Проверяйте правильность путей к файлам при загрузке данных.**\n",
        "- **Используйте комментарии для объяснения своих действий в коде.**\n",
        "- **Документируйте свои выводы и наблюдения в текстовых ячейках.**\n",
        "- **У вас могут быть ошибки, с которыми вы не сталкивались, в таком случае можете кинуть в чат и кто-нибудь из коллег (включая меня) могут помочь**\n",
        "\n",
        "---"
      ]
    },
    {
      "cell_type": "markdown",
      "metadata": {
        "id": "NP_Sym3cQE3M"
      },
      "source": [
        "# Требования\n",
        "\n",
        "1. Не забываем про ⏰\n",
        "2. Итоговая тетрадка jupyter должна быть на вашем github (нет тетрадки, нет проверки)"
      ]
    }
  ],
  "metadata": {
    "colab": {
      "authorship_tag": "ABX9TyN/e4OGDK3weJns8/SDX1Hx",
      "collapsed_sections": [
        "tm8i1hZ4A5lu",
        "eiFQUgHECLP_",
        "YmWlNDdjDh7G",
        "B1bbdRrWD7iZ"
      ],
      "include_colab_link": true,
      "provenance": []
    },
    "kernelspec": {
      "display_name": "Python 3",
      "name": "python3"
    },
    "language_info": {
      "codemirror_mode": {
        "name": "ipython",
        "version": 3
      },
      "file_extension": ".py",
      "mimetype": "text/x-python",
      "name": "python",
      "nbconvert_exporter": "python",
      "pygments_lexer": "ipython3",
      "version": "3.12.5"
    }
  },
  "nbformat": 4,
  "nbformat_minor": 0
}
