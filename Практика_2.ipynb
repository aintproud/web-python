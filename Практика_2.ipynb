{
  "cells": [
    {
      "cell_type": "markdown",
      "metadata": {
        "colab_type": "text",
        "id": "view-in-github"
      },
      "source": [
        "<a href=\"https://colab.research.google.com/github/Letch49/ML-vvsu-2025/blob/feature/%D0%9F%D1%80%D0%B0%D0%BA%D1%82%D0%B8%D0%BA%D0%B0_2.ipynb\" target=\"_parent\"><img src=\"https://colab.research.google.com/assets/colab-badge.svg\" alt=\"Open In Colab\"/></a>"
      ]
    },
    {
      "cell_type": "markdown",
      "metadata": {
        "id": "vDOnPyEUCBNT"
      },
      "source": [
        "# МЛ Практика 2: Статистика в действии и её влияние на модель"
      ]
    },
    {
      "cell_type": "markdown",
      "metadata": {
        "id": "TiIX2NzyCKV3"
      },
      "source": [
        "## **Цель занятия:**\n",
        "Изучить, как статистические метрики (среднее, медиана, квантили, размер выборки, стандартное отклонение) влияют на анализ данных и построение моделей машинного обучения. На практике мы проведем анализ целевой переменной **Y**, обучим модель линейной регрессии и исследуем влияние статистических характеристик на метрики модели."
      ]
    },
    {
      "cell_type": "markdown",
      "metadata": {
        "id": "gXXq0W21COeO"
      },
      "source": [
        "## **Задание состоит из следующих частей:**\n",
        "1. Анализ целевой переменной **Y** с точки зрения статистики. (в нашем случае - бинарная классификация)\n",
        "2. Анализ пропусков\n",
        "2. Изучение влияния статистических метрик на данные.\n",
        "3. Обучение модели линейной регрессии и оценка ее точности.\n",
        "4. Проведение теста Пирсона.\n",
        "5. Визуализация результатов и анализ влияния статистики на метрики модели.\n",
        "6. Валидация модели\n",
        "---"
      ]
    },
    {
      "cell_type": "markdown",
      "metadata": {
        "id": "M8QATjCVCQ9V"
      },
      "source": [
        "## 1. Анализ целевой переменной Y с точки зрения статистики"
      ]
    },
    {
      "cell_type": "markdown",
      "metadata": {
        "id": "_dmndy3OCTMn"
      },
      "source": [
        "### **Описание:**\n",
        "В этом разделе вы проведете статистический анализ целевой переменной **Y**, изучите ее распределение и основные статистические характеристики."
      ]
    },
    {
      "cell_type": "markdown",
      "metadata": {
        "id": "Kl2lHWkZCU0y"
      },
      "source": [
        "1. **Импортируйте необходимые библиотеки:**"
      ]
    },
    {
      "cell_type": "code",
      "execution_count": 240,
      "metadata": {
        "colab": {
          "base_uri": "https://localhost:8080/"
        },
        "id": "flQiMFG7CZMI",
        "outputId": "eb3827b9-482f-4613-d041-53e8e5022cc7"
      },
      "outputs": [],
      "source": [
        "# !pip install pandas scikit-learn seaborn scipy"
      ]
    },
    {
      "cell_type": "code",
      "execution_count": 241,
      "metadata": {
        "id": "oNiUcN03CAbk"
      },
      "outputs": [],
      "source": [
        "   import pandas as pd\n",
        "   import numpy as np\n",
        "   import matplotlib.pyplot as plt\n",
        "   import seaborn as sns\n",
        "   from scipy import stats"
      ]
    },
    {
      "cell_type": "markdown",
      "metadata": {
        "id": "rjoWxcqECvS-"
      },
      "source": [
        "2. **Загружаем набор данных:**"
      ]
    },
    {
      "cell_type": "code",
      "execution_count": 242,
      "metadata": {
        "id": "zLUqWAIhCc4Z"
      },
      "outputs": [],
      "source": [
        "# Загрузка набора данных\n",
        "df = pd.read_csv('income.csv')"
      ]
    },
    {
      "cell_type": "code",
      "execution_count": 243,
      "metadata": {
        "colab": {
          "base_uri": "https://localhost:8080/",
          "height": 458
        },
        "id": "0SMUCtdvCear",
        "outputId": "a8f6ff81-09a2-4b99-9e5c-b1dbed210c23"
      },
      "outputs": [
        {
          "data": {
            "text/html": [
              "<div>\n",
              "<style scoped>\n",
              "    .dataframe tbody tr th:only-of-type {\n",
              "        vertical-align: middle;\n",
              "    }\n",
              "\n",
              "    .dataframe tbody tr th {\n",
              "        vertical-align: top;\n",
              "    }\n",
              "\n",
              "    .dataframe thead th {\n",
              "        text-align: right;\n",
              "    }\n",
              "</style>\n",
              "<table border=\"1\" class=\"dataframe\">\n",
              "  <thead>\n",
              "    <tr style=\"text-align: right;\">\n",
              "      <th></th>\n",
              "      <th>age</th>\n",
              "      <th>workclass</th>\n",
              "      <th>education</th>\n",
              "      <th>education-num</th>\n",
              "      <th>marital-status</th>\n",
              "      <th>occupation</th>\n",
              "      <th>relationship</th>\n",
              "      <th>race</th>\n",
              "      <th>sex</th>\n",
              "      <th>capital-gain</th>\n",
              "      <th>capital-loss</th>\n",
              "      <th>hours-per-week</th>\n",
              "      <th>native-country</th>\n",
              "      <th>income &gt;50K</th>\n",
              "    </tr>\n",
              "  </thead>\n",
              "  <tbody>\n",
              "    <tr>\n",
              "      <th>0</th>\n",
              "      <td>39</td>\n",
              "      <td>State-gov</td>\n",
              "      <td>Bachelors</td>\n",
              "      <td>13</td>\n",
              "      <td>Never-married</td>\n",
              "      <td>Adm-clerical</td>\n",
              "      <td>Not-in-family</td>\n",
              "      <td>White</td>\n",
              "      <td>Male</td>\n",
              "      <td>2174</td>\n",
              "      <td>0</td>\n",
              "      <td>40</td>\n",
              "      <td>United-States</td>\n",
              "      <td>0</td>\n",
              "    </tr>\n",
              "    <tr>\n",
              "      <th>1</th>\n",
              "      <td>50</td>\n",
              "      <td>Self-emp-not-inc</td>\n",
              "      <td>Bachelors</td>\n",
              "      <td>13</td>\n",
              "      <td>Married-civ-spouse</td>\n",
              "      <td>Exec-managerial</td>\n",
              "      <td>Husband</td>\n",
              "      <td>White</td>\n",
              "      <td>Male</td>\n",
              "      <td>0</td>\n",
              "      <td>0</td>\n",
              "      <td>13</td>\n",
              "      <td>United-States</td>\n",
              "      <td>0</td>\n",
              "    </tr>\n",
              "    <tr>\n",
              "      <th>2</th>\n",
              "      <td>38</td>\n",
              "      <td>Private</td>\n",
              "      <td>HS-grad</td>\n",
              "      <td>9</td>\n",
              "      <td>Divorced</td>\n",
              "      <td>Handlers-cleaners</td>\n",
              "      <td>Not-in-family</td>\n",
              "      <td>White</td>\n",
              "      <td>Male</td>\n",
              "      <td>0</td>\n",
              "      <td>0</td>\n",
              "      <td>40</td>\n",
              "      <td>United-States</td>\n",
              "      <td>0</td>\n",
              "    </tr>\n",
              "    <tr>\n",
              "      <th>3</th>\n",
              "      <td>53</td>\n",
              "      <td>Private</td>\n",
              "      <td>11th</td>\n",
              "      <td>7</td>\n",
              "      <td>Married-civ-spouse</td>\n",
              "      <td>Handlers-cleaners</td>\n",
              "      <td>Husband</td>\n",
              "      <td>Black</td>\n",
              "      <td>Male</td>\n",
              "      <td>0</td>\n",
              "      <td>0</td>\n",
              "      <td>40</td>\n",
              "      <td>United-States</td>\n",
              "      <td>0</td>\n",
              "    </tr>\n",
              "    <tr>\n",
              "      <th>4</th>\n",
              "      <td>28</td>\n",
              "      <td>Private</td>\n",
              "      <td>Bachelors</td>\n",
              "      <td>13</td>\n",
              "      <td>Married-civ-spouse</td>\n",
              "      <td>Prof-specialty</td>\n",
              "      <td>Wife</td>\n",
              "      <td>Black</td>\n",
              "      <td>Female</td>\n",
              "      <td>0</td>\n",
              "      <td>0</td>\n",
              "      <td>40</td>\n",
              "      <td>Cuba</td>\n",
              "      <td>0</td>\n",
              "    </tr>\n",
              "    <tr>\n",
              "      <th>...</th>\n",
              "      <td>...</td>\n",
              "      <td>...</td>\n",
              "      <td>...</td>\n",
              "      <td>...</td>\n",
              "      <td>...</td>\n",
              "      <td>...</td>\n",
              "      <td>...</td>\n",
              "      <td>...</td>\n",
              "      <td>...</td>\n",
              "      <td>...</td>\n",
              "      <td>...</td>\n",
              "      <td>...</td>\n",
              "      <td>...</td>\n",
              "      <td>...</td>\n",
              "    </tr>\n",
              "    <tr>\n",
              "      <th>32556</th>\n",
              "      <td>27</td>\n",
              "      <td>Private</td>\n",
              "      <td>Assoc-acdm</td>\n",
              "      <td>12</td>\n",
              "      <td>Married-civ-spouse</td>\n",
              "      <td>Tech-support</td>\n",
              "      <td>Wife</td>\n",
              "      <td>White</td>\n",
              "      <td>Female</td>\n",
              "      <td>0</td>\n",
              "      <td>0</td>\n",
              "      <td>38</td>\n",
              "      <td>United-States</td>\n",
              "      <td>0</td>\n",
              "    </tr>\n",
              "    <tr>\n",
              "      <th>32557</th>\n",
              "      <td>40</td>\n",
              "      <td>Private</td>\n",
              "      <td>HS-grad</td>\n",
              "      <td>9</td>\n",
              "      <td>Married-civ-spouse</td>\n",
              "      <td>Machine-op-inspct</td>\n",
              "      <td>Husband</td>\n",
              "      <td>White</td>\n",
              "      <td>Male</td>\n",
              "      <td>0</td>\n",
              "      <td>0</td>\n",
              "      <td>40</td>\n",
              "      <td>United-States</td>\n",
              "      <td>1</td>\n",
              "    </tr>\n",
              "    <tr>\n",
              "      <th>32558</th>\n",
              "      <td>58</td>\n",
              "      <td>Private</td>\n",
              "      <td>HS-grad</td>\n",
              "      <td>9</td>\n",
              "      <td>Widowed</td>\n",
              "      <td>Adm-clerical</td>\n",
              "      <td>Unmarried</td>\n",
              "      <td>White</td>\n",
              "      <td>Female</td>\n",
              "      <td>0</td>\n",
              "      <td>0</td>\n",
              "      <td>40</td>\n",
              "      <td>United-States</td>\n",
              "      <td>0</td>\n",
              "    </tr>\n",
              "    <tr>\n",
              "      <th>32559</th>\n",
              "      <td>22</td>\n",
              "      <td>Private</td>\n",
              "      <td>HS-grad</td>\n",
              "      <td>9</td>\n",
              "      <td>Never-married</td>\n",
              "      <td>Adm-clerical</td>\n",
              "      <td>Own-child</td>\n",
              "      <td>White</td>\n",
              "      <td>Male</td>\n",
              "      <td>0</td>\n",
              "      <td>0</td>\n",
              "      <td>20</td>\n",
              "      <td>United-States</td>\n",
              "      <td>0</td>\n",
              "    </tr>\n",
              "    <tr>\n",
              "      <th>32560</th>\n",
              "      <td>52</td>\n",
              "      <td>Self-emp-inc</td>\n",
              "      <td>HS-grad</td>\n",
              "      <td>9</td>\n",
              "      <td>Married-civ-spouse</td>\n",
              "      <td>Exec-managerial</td>\n",
              "      <td>Wife</td>\n",
              "      <td>White</td>\n",
              "      <td>Female</td>\n",
              "      <td>15024</td>\n",
              "      <td>0</td>\n",
              "      <td>40</td>\n",
              "      <td>United-States</td>\n",
              "      <td>1</td>\n",
              "    </tr>\n",
              "  </tbody>\n",
              "</table>\n",
              "<p>32561 rows × 14 columns</p>\n",
              "</div>"
            ],
            "text/plain": [
              "       age         workclass   education  education-num      marital-status  \\\n",
              "0       39         State-gov   Bachelors             13       Never-married   \n",
              "1       50  Self-emp-not-inc   Bachelors             13  Married-civ-spouse   \n",
              "2       38           Private     HS-grad              9            Divorced   \n",
              "3       53           Private        11th              7  Married-civ-spouse   \n",
              "4       28           Private   Bachelors             13  Married-civ-spouse   \n",
              "...    ...               ...         ...            ...                 ...   \n",
              "32556   27           Private  Assoc-acdm             12  Married-civ-spouse   \n",
              "32557   40           Private     HS-grad              9  Married-civ-spouse   \n",
              "32558   58           Private     HS-grad              9             Widowed   \n",
              "32559   22           Private     HS-grad              9       Never-married   \n",
              "32560   52      Self-emp-inc     HS-grad              9  Married-civ-spouse   \n",
              "\n",
              "              occupation   relationship   race     sex  capital-gain  \\\n",
              "0           Adm-clerical  Not-in-family  White    Male          2174   \n",
              "1        Exec-managerial        Husband  White    Male             0   \n",
              "2      Handlers-cleaners  Not-in-family  White    Male             0   \n",
              "3      Handlers-cleaners        Husband  Black    Male             0   \n",
              "4         Prof-specialty           Wife  Black  Female             0   \n",
              "...                  ...            ...    ...     ...           ...   \n",
              "32556       Tech-support           Wife  White  Female             0   \n",
              "32557  Machine-op-inspct        Husband  White    Male             0   \n",
              "32558       Adm-clerical      Unmarried  White  Female             0   \n",
              "32559       Adm-clerical      Own-child  White    Male             0   \n",
              "32560    Exec-managerial           Wife  White  Female         15024   \n",
              "\n",
              "       capital-loss  hours-per-week native-country  income >50K  \n",
              "0                 0              40  United-States            0  \n",
              "1                 0              13  United-States            0  \n",
              "2                 0              40  United-States            0  \n",
              "3                 0              40  United-States            0  \n",
              "4                 0              40           Cuba            0  \n",
              "...             ...             ...            ...          ...  \n",
              "32556             0              38  United-States            0  \n",
              "32557             0              40  United-States            1  \n",
              "32558             0              40  United-States            0  \n",
              "32559             0              20  United-States            0  \n",
              "32560             0              40  United-States            1  \n",
              "\n",
              "[32561 rows x 14 columns]"
            ]
          },
          "execution_count": 243,
          "metadata": {},
          "output_type": "execute_result"
        }
      ],
      "source": [
        "df"
      ]
    },
    {
      "cell_type": "code",
      "execution_count": 244,
      "metadata": {
        "colab": {
          "base_uri": "https://localhost:8080/"
        },
        "id": "P_Am0RHMCkF1",
        "outputId": "8ea0c644-336a-4e9f-9c96-40c59d1fae43"
      },
      "outputs": [
        {
          "name": "stdout",
          "output_type": "stream",
          "text": [
            "колонка: age\n",
            "колонка: workclass\n",
            "колонка: education\n",
            "колонка: education-num\n",
            "колонка: marital-status\n",
            "колонка: occupation\n",
            "колонка: relationship\n",
            "колонка: race\n",
            "колонка: sex\n",
            "колонка: capital-gain\n",
            "колонка: capital-loss\n",
            "колонка: hours-per-week\n",
            "колонка: native-country\n",
            "колонка: income >50K\n"
          ]
        }
      ],
      "source": [
        "# для удобства распечатаем все колонки\n",
        "for column in df.columns:\n",
        "  print(f'колонка: {column}')"
      ]
    },
    {
      "cell_type": "code",
      "execution_count": 245,
      "metadata": {
        "colab": {
          "base_uri": "https://localhost:8080/"
        },
        "id": "e7ynbI9AC2AX",
        "outputId": "2b6e7217-9e1a-4c00-cfaf-07eaa055e916"
      },
      "outputs": [
        {
          "name": "stdout",
          "output_type": "stream",
          "text": [
            "<class 'pandas.core.frame.DataFrame'>\n",
            "RangeIndex: 32561 entries, 0 to 32560\n",
            "Data columns (total 14 columns):\n",
            " #   Column          Non-Null Count  Dtype \n",
            "---  ------          --------------  ----- \n",
            " 0   age             32561 non-null  int64 \n",
            " 1   workclass       30725 non-null  object\n",
            " 2   education       32561 non-null  object\n",
            " 3   education-num   32561 non-null  int64 \n",
            " 4   marital-status  32561 non-null  object\n",
            " 5   occupation      30718 non-null  object\n",
            " 6   relationship    32561 non-null  object\n",
            " 7   race            32561 non-null  object\n",
            " 8   sex             32561 non-null  object\n",
            " 9   capital-gain    32561 non-null  int64 \n",
            " 10  capital-loss    32561 non-null  int64 \n",
            " 11  hours-per-week  32561 non-null  int64 \n",
            " 12  native-country  31978 non-null  object\n",
            " 13  income >50K     32561 non-null  int64 \n",
            "dtypes: int64(6), object(8)\n",
            "memory usage: 3.5+ MB\n"
          ]
        }
      ],
      "source": [
        "df.info()"
      ]
    },
    {
      "cell_type": "markdown",
      "metadata": {
        "id": "I-Umxm3KC1K6"
      },
      "source": [
        "3. **Проверьте наличие пропущенных значений и работа с пропусками для числовых:**"
      ]
    },
    {
      "cell_type": "code",
      "execution_count": 246,
      "metadata": {
        "colab": {
          "base_uri": "https://localhost:8080/"
        },
        "id": "9lSxhSMcC9RN",
        "outputId": "36d8a0b8-c7d2-437b-ffbc-bd5b9c063d28"
      },
      "outputs": [
        {
          "name": "stdout",
          "output_type": "stream",
          "text": [
            "age                  0\n",
            "workclass         1836\n",
            "education            0\n",
            "education-num        0\n",
            "marital-status       0\n",
            "occupation        1843\n",
            "relationship         0\n",
            "race                 0\n",
            "sex                  0\n",
            "capital-gain         0\n",
            "capital-loss         0\n",
            "hours-per-week       0\n",
            "native-country     583\n",
            "income >50K          0\n",
            "dtype: int64\n"
          ]
        }
      ],
      "source": [
        "# Проверка на пропущенные значения\n",
        "print(df.isnull().sum()) # пропусков нет"
      ]
    },
    {
      "cell_type": "code",
      "execution_count": 247,
      "metadata": {
        "id": "7fp-OSKxDgN1"
      },
      "outputs": [],
      "source": [
        "# генерируем случайную последовательность\n",
        "np.random.seed(42)\n",
        "df_test_nan = df.copy()\n",
        "df_test_nan.loc[np.random.choice(df_test_nan.index, size=5, replace=True), 'alcohol'] = np.nan"
      ]
    },
    {
      "cell_type": "code",
      "execution_count": 248,
      "metadata": {
        "colab": {
          "base_uri": "https://localhost:8080/"
        },
        "id": "rQDlrELvDxHy",
        "outputId": "65df5bdc-3a45-4bec-c615-ca603dc03158"
      },
      "outputs": [
        {
          "name": "stdout",
          "output_type": "stream",
          "text": [
            "age                   0\n",
            "workclass          1836\n",
            "education             0\n",
            "education-num         0\n",
            "marital-status        0\n",
            "occupation         1843\n",
            "relationship          0\n",
            "race                  0\n",
            "sex                   0\n",
            "capital-gain          0\n",
            "capital-loss          0\n",
            "hours-per-week        0\n",
            "native-country      583\n",
            "income >50K           0\n",
            "alcohol           32561\n",
            "dtype: int64\n"
          ]
        }
      ],
      "source": [
        "# Проверка на пропущенные значения\n",
        "print(df_test_nan.isnull().sum()) # пропусков нет"
      ]
    },
    {
      "cell_type": "code",
      "execution_count": 249,
      "metadata": {
        "colab": {
          "base_uri": "https://localhost:8080/"
        },
        "id": "URBzKPPND0Kx",
        "outputId": "0651a921-7e5d-4adb-98b9-6fee901761dc"
      },
      "outputs": [
        {
          "name": "stdout",
          "output_type": "stream",
          "text": [
            "\n",
            "# Удаление строк с пропусками\n",
            "age                  0\n",
            "workclass         1836\n",
            "education            0\n",
            "education-num        0\n",
            "marital-status       0\n",
            "occupation        1843\n",
            "relationship         0\n",
            "race                 0\n",
            "sex                  0\n",
            "capital-gain         0\n",
            "capital-loss         0\n",
            "hours-per-week       0\n",
            "native-country     583\n",
            "income >50K          0\n",
            "dtype: int64\n"
          ]
        }
      ],
      "source": [
        "# Вариант 1: Удаление строк с пропусками\n",
        "df_drop = df_test_nan.dropna()\n",
        "print(\"\\n# Удаление строк с пропусками\")\n",
        "print(df.isnull().sum()) # пропусков нет"
      ]
    },
    {
      "cell_type": "code",
      "execution_count": 250,
      "metadata": {
        "colab": {
          "base_uri": "https://localhost:8080/"
        },
        "id": "L_Zu21yGEfrY",
        "outputId": "452b49ac-3697-4a1f-9d76-017aa4d572e4"
      },
      "outputs": [
        {
          "name": "stdout",
          "output_type": "stream",
          "text": [
            "\n",
            "# Заполнение пропусков медианой\n",
            "age                   0\n",
            "workclass          1836\n",
            "education             0\n",
            "education-num         0\n",
            "marital-status        0\n",
            "occupation         1843\n",
            "relationship          0\n",
            "race                  0\n",
            "sex                   0\n",
            "capital-gain          0\n",
            "capital-loss          0\n",
            "hours-per-week        0\n",
            "native-country      583\n",
            "income >50K           0\n",
            "alcohol           32561\n",
            "dtype: int64\n"
          ]
        },
        {
          "name": "stderr",
          "output_type": "stream",
          "text": [
            "/home/ilua/Desktop/staff/web-python/venv/lib/python3.12/site-packages/numpy/lib/_nanfunctions_impl.py:1241: RuntimeWarning: Mean of empty slice\n",
            "  return np.nanmean(a, axis, out=out, keepdims=keepdims)\n"
          ]
        }
      ],
      "source": [
        "# Вариант 2: Заполнение пропусков медианой\n",
        "df_median = df_test_nan.copy()\n",
        "df_median.alcohol = df_median.alcohol.fillna(df_median.alcohol.median())\n",
        "\n",
        "print(\"\\n# Заполнение пропусков медианой\")\n",
        "print(df_median.isnull().sum()) # пропусков нет"
      ]
    },
    {
      "cell_type": "code",
      "execution_count": 251,
      "metadata": {
        "colab": {
          "base_uri": "https://localhost:8080/"
        },
        "id": "PTPxvki-EzDG",
        "outputId": "6e6c5780-b77b-4d42-b482-48dc5be934ff"
      },
      "outputs": [
        {
          "name": "stdout",
          "output_type": "stream",
          "text": [
            "\n",
            "# Заполнение пропусков средним\n",
            "age                   0\n",
            "workclass          1836\n",
            "education             0\n",
            "education-num         0\n",
            "marital-status        0\n",
            "occupation         1843\n",
            "relationship          0\n",
            "race                  0\n",
            "sex                   0\n",
            "capital-gain          0\n",
            "capital-loss          0\n",
            "hours-per-week        0\n",
            "native-country      583\n",
            "income >50K           0\n",
            "alcohol           32561\n",
            "dtype: int64\n"
          ]
        }
      ],
      "source": [
        "# Вариант 3: Заполнение пропусков средним\n",
        "df_mean = df_test_nan.copy()\n",
        "df_mean.alcohol = df_mean.alcohol.fillna(df_median.alcohol.mean())\n",
        "\n",
        "print(\"\\n# Заполнение пропусков средним\")\n",
        "print(df_mean.isnull().sum()) # пропусков нет"
      ]
    },
    {
      "cell_type": "markdown",
      "metadata": {
        "id": "FZ9qKGxuu4QM"
      },
      "source": [
        "⏰ Заполнение категориальных признаков происходит с помощью ```df.category_variable.mode() (как один из вариантов, хотя и считается недостаточно хорошим).```\n",
        "\n",
        "Как вариант - можно использовать KNN (K-ближайших соедей)"
      ]
    },
    {
      "cell_type": "markdown",
      "metadata": {
        "id": "sc3IAvF-DG91"
      },
      "source": [
        "4. **Выбираем целвую переменную**\n",
        "\n",
        "⏰ В качестве целевой выбираем категориальную переменную, либо превращаем числовую в категориальное\n",
        "\n",
        "```В моем датасете была выбрана целевая переменная is_old -> все после 30 - старики```"
      ]
    },
    {
      "cell_type": "code",
      "execution_count": 252,
      "metadata": {
        "id": "n4borJ_DDN4d"
      },
      "outputs": [],
      "source": [
        "df['is_old'] = np.where(df['age'] >= 30, 1, 0).astype(int)"
      ]
    },
    {
      "cell_type": "code",
      "execution_count": 253,
      "metadata": {
        "colab": {
          "base_uri": "https://localhost:8080/"
        },
        "id": "Qv2hfqKQILE4",
        "outputId": "ef2df2a8-ec0b-4024-b41d-ee5dc7b72304"
      },
      "outputs": [
        {
          "data": {
            "text/plain": [
              "Index(['age', 'workclass', 'education', 'education-num', 'marital-status',\n",
              "       'occupation', 'relationship', 'race', 'sex', 'capital-gain',\n",
              "       'capital-loss', 'hours-per-week', 'native-country', 'income >50K',\n",
              "       'is_old'],\n",
              "      dtype='object')"
            ]
          },
          "execution_count": 253,
          "metadata": {},
          "output_type": "execute_result"
        }
      ],
      "source": [
        "df.columns"
      ]
    },
    {
      "cell_type": "code",
      "execution_count": 254,
      "metadata": {
        "id": "9OVe4b_GH2o1"
      },
      "outputs": [],
      "source": [
        "Y = df['is_old'] # выбираем целевую переменную (категориальную)\n",
        "X = df.drop('is_old', axis=1) # переменные для проверки влияния\n",
        "\n",
        "# В моем случае я дропаю базовую переменную, а не только. Y\n",
        "X = X.drop('age', axis=1)"
      ]
    },
    {
      "cell_type": "markdown",
      "metadata": {
        "id": "swUhFdbAH_Q5"
      },
      "source": [
        "5. **Графический анализ**"
      ]
    },
    {
      "cell_type": "code",
      "execution_count": 255,
      "metadata": {
        "colab": {
          "base_uri": "https://localhost:8080/",
          "height": 441
        },
        "id": "Bf4NXIG1It51",
        "outputId": "72b564c4-12af-4715-ff04-969c4a5acb41"
      },
      "outputs": [
        {
          "data": {
            "text/html": [
              "<div>\n",
              "<style scoped>\n",
              "    .dataframe tbody tr th:only-of-type {\n",
              "        vertical-align: middle;\n",
              "    }\n",
              "\n",
              "    .dataframe tbody tr th {\n",
              "        vertical-align: top;\n",
              "    }\n",
              "\n",
              "    .dataframe thead th {\n",
              "        text-align: right;\n",
              "    }\n",
              "</style>\n",
              "<table border=\"1\" class=\"dataframe\">\n",
              "  <thead>\n",
              "    <tr style=\"text-align: right;\">\n",
              "      <th></th>\n",
              "      <th>education-num</th>\n",
              "      <th>capital-gain</th>\n",
              "      <th>capital-loss</th>\n",
              "      <th>hours-per-week</th>\n",
              "      <th>income &gt;50K</th>\n",
              "    </tr>\n",
              "  </thead>\n",
              "  <tbody>\n",
              "    <tr>\n",
              "      <th>0</th>\n",
              "      <td>13</td>\n",
              "      <td>2174</td>\n",
              "      <td>0</td>\n",
              "      <td>40</td>\n",
              "      <td>0</td>\n",
              "    </tr>\n",
              "    <tr>\n",
              "      <th>1</th>\n",
              "      <td>13</td>\n",
              "      <td>0</td>\n",
              "      <td>0</td>\n",
              "      <td>13</td>\n",
              "      <td>0</td>\n",
              "    </tr>\n",
              "    <tr>\n",
              "      <th>2</th>\n",
              "      <td>9</td>\n",
              "      <td>0</td>\n",
              "      <td>0</td>\n",
              "      <td>40</td>\n",
              "      <td>0</td>\n",
              "    </tr>\n",
              "    <tr>\n",
              "      <th>3</th>\n",
              "      <td>7</td>\n",
              "      <td>0</td>\n",
              "      <td>0</td>\n",
              "      <td>40</td>\n",
              "      <td>0</td>\n",
              "    </tr>\n",
              "    <tr>\n",
              "      <th>4</th>\n",
              "      <td>13</td>\n",
              "      <td>0</td>\n",
              "      <td>0</td>\n",
              "      <td>40</td>\n",
              "      <td>0</td>\n",
              "    </tr>\n",
              "    <tr>\n",
              "      <th>...</th>\n",
              "      <td>...</td>\n",
              "      <td>...</td>\n",
              "      <td>...</td>\n",
              "      <td>...</td>\n",
              "      <td>...</td>\n",
              "    </tr>\n",
              "    <tr>\n",
              "      <th>32556</th>\n",
              "      <td>12</td>\n",
              "      <td>0</td>\n",
              "      <td>0</td>\n",
              "      <td>38</td>\n",
              "      <td>0</td>\n",
              "    </tr>\n",
              "    <tr>\n",
              "      <th>32557</th>\n",
              "      <td>9</td>\n",
              "      <td>0</td>\n",
              "      <td>0</td>\n",
              "      <td>40</td>\n",
              "      <td>1</td>\n",
              "    </tr>\n",
              "    <tr>\n",
              "      <th>32558</th>\n",
              "      <td>9</td>\n",
              "      <td>0</td>\n",
              "      <td>0</td>\n",
              "      <td>40</td>\n",
              "      <td>0</td>\n",
              "    </tr>\n",
              "    <tr>\n",
              "      <th>32559</th>\n",
              "      <td>9</td>\n",
              "      <td>0</td>\n",
              "      <td>0</td>\n",
              "      <td>20</td>\n",
              "      <td>0</td>\n",
              "    </tr>\n",
              "    <tr>\n",
              "      <th>32560</th>\n",
              "      <td>9</td>\n",
              "      <td>15024</td>\n",
              "      <td>0</td>\n",
              "      <td>40</td>\n",
              "      <td>1</td>\n",
              "    </tr>\n",
              "  </tbody>\n",
              "</table>\n",
              "<p>32561 rows × 5 columns</p>\n",
              "</div>"
            ],
            "text/plain": [
              "       education-num  capital-gain  capital-loss  hours-per-week  income >50K\n",
              "0                 13          2174             0              40            0\n",
              "1                 13             0             0              13            0\n",
              "2                  9             0             0              40            0\n",
              "3                  7             0             0              40            0\n",
              "4                 13             0             0              40            0\n",
              "...              ...           ...           ...             ...          ...\n",
              "32556             12             0             0              38            0\n",
              "32557              9             0             0              40            1\n",
              "32558              9             0             0              40            0\n",
              "32559              9             0             0              20            0\n",
              "32560              9         15024             0              40            1\n",
              "\n",
              "[32561 rows x 5 columns]"
            ]
          },
          "execution_count": 255,
          "metadata": {},
          "output_type": "execute_result"
        }
      ],
      "source": [
        "# Список числовых колонок для построения графиков\n",
        "numeric_cols = X.select_dtypes(include=['float64', 'int64'])\n",
        "numeric_cols"
      ]
    },
    {
      "cell_type": "code",
      "execution_count": 256,
      "metadata": {
        "colab": {
          "base_uri": "https://localhost:8080/",
          "height": 1000
        },
        "id": "eNse8fXjJkAC",
        "outputId": "13842e03-25d2-478a-c261-f44c0fdc9a3c"
      },
      "outputs": [
        {
          "data": {
            "image/png": "[encoded data removed]",
            "text/plain": [
              "<Figure size 800x600 with 1 Axes>"
            ]
          },
          "metadata": {},
          "output_type": "display_data"
        },
        {
          "data": {
            "image/png": "[encoded data removed]",
            "text/plain": [
              "<Figure size 800x600 with 1 Axes>"
            ]
          },
          "metadata": {},
          "output_type": "display_data"
        },
        {
          "data": {
            "image/png": "[encoded data removed]",
            "text/plain": [
              "<Figure size 800x600 with 1 Axes>"
            ]
          },
          "metadata": {},
          "output_type": "display_data"
        },
        {
          "data": {
            "image/png": "[encoded data removed]",
            "text/plain": [
              "<Figure size 800x600 with 1 Axes>"
            ]
          },
          "metadata": {},
          "output_type": "display_data"
        },
        {
          "data": {
            "image/png": "[encoded data removed]",
            "text/plain": [
              "<Figure size 800x600 with 1 Axes>"
            ]
          },
          "metadata": {},
          "output_type": "display_data"
        }
      ],
      "source": [
        "# Построение boxplot для каждой переменной\n",
        "for col in numeric_cols:\n",
        "    plt.figure(figsize=(8, 6))\n",
        "    sns.boxplot(x='is_old', y=col, data=df)\n",
        "    plt.title(f'Boxplot {col} относительно is_old')\n",
        "    plt.show()"
      ]
    },
    {
      "cell_type": "markdown",
      "metadata": {},
      "source": [
        "education_num относительно is_old: у стариков было больше лет на получение или неполучение образования, у молодых все в рамках периода школы\n",
        "hours_per_week относительно is_old: у всех работа около 40ч, у выбросов равномерное распределение"
      ]
    },
    {
      "cell_type": "code",
      "execution_count": 257,
      "metadata": {
        "colab": {
          "base_uri": "https://localhost:8080/",
          "height": 1000
        },
        "id": "ZczeCnXDJrp4",
        "outputId": "8b1123f4-c530-45af-814a-7b3c0c024411"
      },
      "outputs": [
        {
          "data": {
            "image/png": "[encoded data removed]",
            "text/plain": [
              "<Figure size 800x600 with 1 Axes>"
            ]
          },
          "metadata": {},
          "output_type": "display_data"
        },
        {
          "data": {
            "image/png": "[encoded data removed]",
            "text/plain": [
              "<Figure size 800x600 with 1 Axes>"
            ]
          },
          "metadata": {},
          "output_type": "display_data"
        },
        {
          "data": {
            "image/png": "[encoded data removed]",
            "text/plain": [
              "<Figure size 800x600 with 1 Axes>"
            ]
          },
          "metadata": {},
          "output_type": "display_data"
        },
        {
          "data": {
            "image/png": "[encoded data removed]",
            "text/plain": [
              "<Figure size 800x600 with 1 Axes>"
            ]
          },
          "metadata": {},
          "output_type": "display_data"
        },
        {
          "data": {
            "image/png": "[encoded data removed]",
            "text/plain": [
              "<Figure size 800x600 with 1 Axes>"
            ]
          },
          "metadata": {},
          "output_type": "display_data"
        }
      ],
      "source": [
        "# Построение диаграмм распределения для каждой переменной\n",
        "for col in numeric_cols:\n",
        "    plt.figure(figsize=(8, 6))\n",
        "    sns.histplot(data=df, x=col, hue='is_old', element=\"step\", stat=\"density\", common_norm=False)\n",
        "    plt.title(f'Распределение {col} относительно is_old')\n",
        "    plt.show()"
      ]
    },
    {
      "cell_type": "markdown",
      "metadata": {},
      "source": [
        "Предыдущие описывать не буду (описал в предыдущем пункте).\n",
        "income от is_old: у стариков зарплаты до 50к меньше, а после 50к больше"
      ]
    },
    {
      "cell_type": "markdown",
      "metadata": {
        "id": "VaRCEhhPthDQ"
      },
      "source": [
        "⏰ проанализировать график, выделить значимые признаки относительно Y"
      ]
    },
    {
      "cell_type": "code",
      "execution_count": 258,
      "metadata": {
        "id": "9lBY1IdeJ3Mb"
      },
      "outputs": [
        {
          "data": {
            "text/html": [
              "<div>\n",
              "<style scoped>\n",
              "    .dataframe tbody tr th:only-of-type {\n",
              "        vertical-align: middle;\n",
              "    }\n",
              "\n",
              "    .dataframe tbody tr th {\n",
              "        vertical-align: top;\n",
              "    }\n",
              "\n",
              "    .dataframe thead tr th {\n",
              "        text-align: left;\n",
              "    }\n",
              "\n",
              "    .dataframe thead tr:last-of-type th {\n",
              "        text-align: right;\n",
              "    }\n",
              "</style>\n",
              "<table border=\"1\" class=\"dataframe\">\n",
              "  <thead>\n",
              "    <tr>\n",
              "      <th></th>\n",
              "      <th colspan=\"8\" halign=\"left\">age</th>\n",
              "      <th colspan=\"2\" halign=\"left\">education-num</th>\n",
              "      <th>...</th>\n",
              "      <th colspan=\"2\" halign=\"left\">income &gt;50K</th>\n",
              "      <th colspan=\"8\" halign=\"left\">is_old</th>\n",
              "    </tr>\n",
              "    <tr>\n",
              "      <th></th>\n",
              "      <th>count</th>\n",
              "      <th>mean</th>\n",
              "      <th>std</th>\n",
              "      <th>min</th>\n",
              "      <th>25%</th>\n",
              "      <th>50%</th>\n",
              "      <th>75%</th>\n",
              "      <th>max</th>\n",
              "      <th>count</th>\n",
              "      <th>mean</th>\n",
              "      <th>...</th>\n",
              "      <th>75%</th>\n",
              "      <th>max</th>\n",
              "      <th>count</th>\n",
              "      <th>mean</th>\n",
              "      <th>std</th>\n",
              "      <th>min</th>\n",
              "      <th>25%</th>\n",
              "      <th>50%</th>\n",
              "      <th>75%</th>\n",
              "      <th>max</th>\n",
              "    </tr>\n",
              "    <tr>\n",
              "      <th>is_old</th>\n",
              "      <th></th>\n",
              "      <th></th>\n",
              "      <th></th>\n",
              "      <th></th>\n",
              "      <th></th>\n",
              "      <th></th>\n",
              "      <th></th>\n",
              "      <th></th>\n",
              "      <th></th>\n",
              "      <th></th>\n",
              "      <th></th>\n",
              "      <th></th>\n",
              "      <th></th>\n",
              "      <th></th>\n",
              "      <th></th>\n",
              "      <th></th>\n",
              "      <th></th>\n",
              "      <th></th>\n",
              "      <th></th>\n",
              "      <th></th>\n",
              "      <th></th>\n",
              "    </tr>\n",
              "  </thead>\n",
              "  <tbody>\n",
              "    <tr>\n",
              "      <th>0</th>\n",
              "      <td>9711.0</td>\n",
              "      <td>23.510349</td>\n",
              "      <td>3.556006</td>\n",
              "      <td>17.0</td>\n",
              "      <td>21.0</td>\n",
              "      <td>24.0</td>\n",
              "      <td>27.0</td>\n",
              "      <td>29.0</td>\n",
              "      <td>9711.0</td>\n",
              "      <td>9.689836</td>\n",
              "      <td>...</td>\n",
              "      <td>0.0</td>\n",
              "      <td>1.0</td>\n",
              "      <td>9711.0</td>\n",
              "      <td>0.0</td>\n",
              "      <td>0.0</td>\n",
              "      <td>0.0</td>\n",
              "      <td>0.0</td>\n",
              "      <td>0.0</td>\n",
              "      <td>0.0</td>\n",
              "      <td>0.0</td>\n",
              "    </tr>\n",
              "    <tr>\n",
              "      <th>1</th>\n",
              "      <td>22850.0</td>\n",
              "      <td>44.986783</td>\n",
              "      <td>11.054395</td>\n",
              "      <td>30.0</td>\n",
              "      <td>36.0</td>\n",
              "      <td>43.0</td>\n",
              "      <td>52.0</td>\n",
              "      <td>90.0</td>\n",
              "      <td>22850.0</td>\n",
              "      <td>10.246783</td>\n",
              "      <td>...</td>\n",
              "      <td>1.0</td>\n",
              "      <td>1.0</td>\n",
              "      <td>22850.0</td>\n",
              "      <td>1.0</td>\n",
              "      <td>0.0</td>\n",
              "      <td>1.0</td>\n",
              "      <td>1.0</td>\n",
              "      <td>1.0</td>\n",
              "      <td>1.0</td>\n",
              "      <td>1.0</td>\n",
              "    </tr>\n",
              "  </tbody>\n",
              "</table>\n",
              "<p>2 rows × 56 columns</p>\n",
              "</div>"
            ],
            "text/plain": [
              "            age                                                      \\\n",
              "          count       mean        std   min   25%   50%   75%   max   \n",
              "is_old                                                                \n",
              "0        9711.0  23.510349   3.556006  17.0  21.0  24.0  27.0  29.0   \n",
              "1       22850.0  44.986783  11.054395  30.0  36.0  43.0  52.0  90.0   \n",
              "\n",
              "       education-num             ... income >50K        is_old                 \\\n",
              "               count       mean  ...         75%  max    count mean  std  min   \n",
              "is_old                           ...                                            \n",
              "0             9711.0   9.689836  ...         0.0  1.0   9711.0  0.0  0.0  0.0   \n",
              "1            22850.0  10.246783  ...         1.0  1.0  22850.0  1.0  0.0  1.0   \n",
              "\n",
              "                            \n",
              "        25%  50%  75%  max  \n",
              "is_old                      \n",
              "0       0.0  0.0  0.0  0.0  \n",
              "1       1.0  1.0  1.0  1.0  \n",
              "\n",
              "[2 rows x 56 columns]"
            ]
          },
          "execution_count": 258,
          "metadata": {},
          "output_type": "execute_result"
        }
      ],
      "source": [
        "# Описательная статистика для числовых переменных, разделенная по целевой переменной\n",
        "desc_stats_numeric = df.groupby('is_old')[df.select_dtypes(include=[np.number]).columns].describe()\n",
        "desc_stats_numeric"
      ]
    },
    {
      "cell_type": "code",
      "execution_count": 259,
      "metadata": {},
      "outputs": [
        {
          "data": {
            "text/html": [
              "<div>\n",
              "<style scoped>\n",
              "    .dataframe tbody tr th:only-of-type {\n",
              "        vertical-align: middle;\n",
              "    }\n",
              "\n",
              "    .dataframe tbody tr th {\n",
              "        vertical-align: top;\n",
              "    }\n",
              "\n",
              "    .dataframe thead tr th {\n",
              "        text-align: left;\n",
              "    }\n",
              "\n",
              "    .dataframe thead tr:last-of-type th {\n",
              "        text-align: right;\n",
              "    }\n",
              "</style>\n",
              "<table border=\"1\" class=\"dataframe\">\n",
              "  <thead>\n",
              "    <tr>\n",
              "      <th></th>\n",
              "      <th colspan=\"4\" halign=\"left\">workclass</th>\n",
              "      <th colspan=\"4\" halign=\"left\">education</th>\n",
              "      <th colspan=\"2\" halign=\"left\">marital-status</th>\n",
              "      <th>...</th>\n",
              "      <th colspan=\"2\" halign=\"left\">race</th>\n",
              "      <th colspan=\"4\" halign=\"left\">sex</th>\n",
              "      <th colspan=\"4\" halign=\"left\">native-country</th>\n",
              "    </tr>\n",
              "    <tr>\n",
              "      <th></th>\n",
              "      <th>count</th>\n",
              "      <th>unique</th>\n",
              "      <th>top</th>\n",
              "      <th>freq</th>\n",
              "      <th>count</th>\n",
              "      <th>unique</th>\n",
              "      <th>top</th>\n",
              "      <th>freq</th>\n",
              "      <th>count</th>\n",
              "      <th>unique</th>\n",
              "      <th>...</th>\n",
              "      <th>top</th>\n",
              "      <th>freq</th>\n",
              "      <th>count</th>\n",
              "      <th>unique</th>\n",
              "      <th>top</th>\n",
              "      <th>freq</th>\n",
              "      <th>count</th>\n",
              "      <th>unique</th>\n",
              "      <th>top</th>\n",
              "      <th>freq</th>\n",
              "    </tr>\n",
              "    <tr>\n",
              "      <th>is_old</th>\n",
              "      <th></th>\n",
              "      <th></th>\n",
              "      <th></th>\n",
              "      <th></th>\n",
              "      <th></th>\n",
              "      <th></th>\n",
              "      <th></th>\n",
              "      <th></th>\n",
              "      <th></th>\n",
              "      <th></th>\n",
              "      <th></th>\n",
              "      <th></th>\n",
              "      <th></th>\n",
              "      <th></th>\n",
              "      <th></th>\n",
              "      <th></th>\n",
              "      <th></th>\n",
              "      <th></th>\n",
              "      <th></th>\n",
              "      <th></th>\n",
              "      <th></th>\n",
              "    </tr>\n",
              "  </thead>\n",
              "  <tbody>\n",
              "    <tr>\n",
              "      <th>0</th>\n",
              "      <td>8923</td>\n",
              "      <td>8</td>\n",
              "      <td>Private</td>\n",
              "      <td>7675</td>\n",
              "      <td>9711</td>\n",
              "      <td>16</td>\n",
              "      <td>HS-grad</td>\n",
              "      <td>2983</td>\n",
              "      <td>9711</td>\n",
              "      <td>7</td>\n",
              "      <td>...</td>\n",
              "      <td>White</td>\n",
              "      <td>8214</td>\n",
              "      <td>9711</td>\n",
              "      <td>2</td>\n",
              "      <td>Male</td>\n",
              "      <td>5725</td>\n",
              "      <td>9568</td>\n",
              "      <td>40</td>\n",
              "      <td>United-States</td>\n",
              "      <td>8668</td>\n",
              "    </tr>\n",
              "    <tr>\n",
              "      <th>1</th>\n",
              "      <td>21802</td>\n",
              "      <td>8</td>\n",
              "      <td>Private</td>\n",
              "      <td>15021</td>\n",
              "      <td>22850</td>\n",
              "      <td>16</td>\n",
              "      <td>HS-grad</td>\n",
              "      <td>7518</td>\n",
              "      <td>22850</td>\n",
              "      <td>7</td>\n",
              "      <td>...</td>\n",
              "      <td>White</td>\n",
              "      <td>19602</td>\n",
              "      <td>22850</td>\n",
              "      <td>2</td>\n",
              "      <td>Male</td>\n",
              "      <td>16065</td>\n",
              "      <td>22410</td>\n",
              "      <td>41</td>\n",
              "      <td>United-States</td>\n",
              "      <td>20502</td>\n",
              "    </tr>\n",
              "  </tbody>\n",
              "</table>\n",
              "<p>2 rows × 32 columns</p>\n",
              "</div>"
            ],
            "text/plain": [
              "       workclass                        education                        \\\n",
              "           count unique      top   freq     count unique      top  freq   \n",
              "is_old                                                                    \n",
              "0           8923      8  Private   7675      9711     16  HS-grad  2983   \n",
              "1          21802      8  Private  15021     22850     16  HS-grad  7518   \n",
              "\n",
              "       marital-status         ...   race           sex                      \\\n",
              "                count unique  ...    top   freq  count unique   top   freq   \n",
              "is_old                        ...                                            \n",
              "0                9711      7  ...  White   8214   9711      2  Male   5725   \n",
              "1               22850      7  ...  White  19602  22850      2  Male  16065   \n",
              "\n",
              "       native-country                               \n",
              "                count unique            top   freq  \n",
              "is_old                                              \n",
              "0                9568     40  United-States   8668  \n",
              "1               22410     41  United-States  20502  \n",
              "\n",
              "[2 rows x 32 columns]"
            ]
          },
          "execution_count": 259,
          "metadata": {},
          "output_type": "execute_result"
        }
      ],
      "source": [
        "desc_stats_categorical = df.groupby('is_old')[df.select_dtypes(include=['object']).columns].describe()\n",
        "desc_stats_categorical"
      ]
    },
    {
      "cell_type": "markdown",
      "metadata": {
        "id": "gAkuvGAwLDP5"
      },
      "source": [
        "### Описание полученных результатов\n",
        "⏰ ```Необходимо сделать подобное описание для своих переменных```"
      ]
    },
    {
      "cell_type": "code",
      "execution_count": 260,
      "metadata": {
        "colab": {
          "base_uri": "https://localhost:8080/"
        },
        "id": "36FjYF_vLrYa",
        "outputId": "2adf379f-9756-4a4e-e22f-af19c5eff66c"
      },
      "outputs": [
        {
          "name": "stdout",
          "output_type": "stream",
          "text": [
            "Описательная статистика для education-num:\n",
            "\n",
            "          count       mean       std  min  25%   50%   75%   max\n",
            "is_old                                                          \n",
            "0        9711.0   9.689836  2.209282  1.0  9.0  10.0  10.0  16.0\n",
            "1       22850.0  10.246783  2.695410  1.0  9.0  10.0  13.0  16.0\n",
            "\n",
            "==================================================\n",
            "\n",
            "Описательная статистика для capital-gain:\n",
            "\n",
            "          count         mean          std  min  25%  50%  75%      max\n",
            "is_old                                                                \n",
            "0        9711.0   262.187828  3176.957073  0.0  0.0  0.0  0.0  99999.0\n",
            "1       22850.0  1424.210853  8545.854020  0.0  0.0  0.0  0.0  99999.0\n",
            "\n",
            "==================================================\n",
            "\n",
            "Описательная статистика для capital-loss:\n",
            "\n",
            "          count        mean         std  min  25%  50%  75%     max\n",
            "is_old                                                             \n",
            "0        9711.0   46.901452  288.392030  0.0  0.0  0.0  0.0  2824.0\n",
            "1       22850.0  104.474398  441.650931  0.0  0.0  0.0  0.0  4356.0\n",
            "\n",
            "==================================================\n",
            "\n",
            "Описательная статистика для hours-per-week:\n",
            "\n",
            "          count       mean        std  min   25%   50%   75%   max\n",
            "is_old                                                            \n",
            "0        9711.0  36.609412  12.476192  1.0  30.0  40.0  40.0  99.0\n",
            "1       22850.0  42.064333  11.926125  1.0  40.0  40.0  47.0  99.0\n",
            "\n",
            "==================================================\n",
            "\n",
            "Описательная статистика для income >50K:\n",
            "\n",
            "          count      mean       std  min  25%  50%  75%  max\n",
            "is_old                                                      \n",
            "0        9711.0  0.052621  0.223287  0.0  0.0  0.0  0.0  1.0\n",
            "1       22850.0  0.320788  0.466790  0.0  0.0  0.0  1.0  1.0\n",
            "\n",
            "==================================================\n",
            "\n"
          ]
        }
      ],
      "source": [
        "# Проходим по каждой числовой переменной и выводим статистику отдельно\n",
        "for col in numeric_cols:\n",
        "    print(f\"Описательная статистика для {col}:\\n\")\n",
        "    print(df.groupby('is_old')[col].describe())\n",
        "    print(\"\\n\" + \"=\"*50 + \"\\n\")\n"
      ]
    },
    {
      "cell_type": "code",
      "execution_count": 261,
      "metadata": {
        "colab": {
          "base_uri": "https://localhost:8080/",
          "height": 211
        },
        "id": "9jFLJ6qYKPbZ",
        "outputId": "be145b7d-ce35-42e7-b263-bf8bfbd871a6"
      },
      "outputs": [
        {
          "name": "stdout",
          "output_type": "stream",
          "text": [
            "\n",
            "Категориальные переменные:\n"
          ]
        },
        {
          "data": {
            "text/html": [
              "<div>\n",
              "<style scoped>\n",
              "    .dataframe tbody tr th:only-of-type {\n",
              "        vertical-align: middle;\n",
              "    }\n",
              "\n",
              "    .dataframe tbody tr th {\n",
              "        vertical-align: top;\n",
              "    }\n",
              "\n",
              "    .dataframe thead tr th {\n",
              "        text-align: left;\n",
              "    }\n",
              "\n",
              "    .dataframe thead tr:last-of-type th {\n",
              "        text-align: right;\n",
              "    }\n",
              "</style>\n",
              "<table border=\"1\" class=\"dataframe\">\n",
              "  <thead>\n",
              "    <tr>\n",
              "      <th></th>\n",
              "      <th colspan=\"4\" halign=\"left\">workclass</th>\n",
              "      <th colspan=\"4\" halign=\"left\">education</th>\n",
              "      <th colspan=\"2\" halign=\"left\">marital-status</th>\n",
              "      <th>...</th>\n",
              "      <th colspan=\"2\" halign=\"left\">race</th>\n",
              "      <th colspan=\"4\" halign=\"left\">sex</th>\n",
              "      <th colspan=\"4\" halign=\"left\">native-country</th>\n",
              "    </tr>\n",
              "    <tr>\n",
              "      <th></th>\n",
              "      <th>count</th>\n",
              "      <th>unique</th>\n",
              "      <th>top</th>\n",
              "      <th>freq</th>\n",
              "      <th>count</th>\n",
              "      <th>unique</th>\n",
              "      <th>top</th>\n",
              "      <th>freq</th>\n",
              "      <th>count</th>\n",
              "      <th>unique</th>\n",
              "      <th>...</th>\n",
              "      <th>top</th>\n",
              "      <th>freq</th>\n",
              "      <th>count</th>\n",
              "      <th>unique</th>\n",
              "      <th>top</th>\n",
              "      <th>freq</th>\n",
              "      <th>count</th>\n",
              "      <th>unique</th>\n",
              "      <th>top</th>\n",
              "      <th>freq</th>\n",
              "    </tr>\n",
              "    <tr>\n",
              "      <th>is_old</th>\n",
              "      <th></th>\n",
              "      <th></th>\n",
              "      <th></th>\n",
              "      <th></th>\n",
              "      <th></th>\n",
              "      <th></th>\n",
              "      <th></th>\n",
              "      <th></th>\n",
              "      <th></th>\n",
              "      <th></th>\n",
              "      <th></th>\n",
              "      <th></th>\n",
              "      <th></th>\n",
              "      <th></th>\n",
              "      <th></th>\n",
              "      <th></th>\n",
              "      <th></th>\n",
              "      <th></th>\n",
              "      <th></th>\n",
              "      <th></th>\n",
              "      <th></th>\n",
              "    </tr>\n",
              "  </thead>\n",
              "  <tbody>\n",
              "    <tr>\n",
              "      <th>0</th>\n",
              "      <td>8923</td>\n",
              "      <td>8</td>\n",
              "      <td>Private</td>\n",
              "      <td>7675</td>\n",
              "      <td>9711</td>\n",
              "      <td>16</td>\n",
              "      <td>HS-grad</td>\n",
              "      <td>2983</td>\n",
              "      <td>9711</td>\n",
              "      <td>7</td>\n",
              "      <td>...</td>\n",
              "      <td>White</td>\n",
              "      <td>8214</td>\n",
              "      <td>9711</td>\n",
              "      <td>2</td>\n",
              "      <td>Male</td>\n",
              "      <td>5725</td>\n",
              "      <td>9568</td>\n",
              "      <td>40</td>\n",
              "      <td>United-States</td>\n",
              "      <td>8668</td>\n",
              "    </tr>\n",
              "    <tr>\n",
              "      <th>1</th>\n",
              "      <td>21802</td>\n",
              "      <td>8</td>\n",
              "      <td>Private</td>\n",
              "      <td>15021</td>\n",
              "      <td>22850</td>\n",
              "      <td>16</td>\n",
              "      <td>HS-grad</td>\n",
              "      <td>7518</td>\n",
              "      <td>22850</td>\n",
              "      <td>7</td>\n",
              "      <td>...</td>\n",
              "      <td>White</td>\n",
              "      <td>19602</td>\n",
              "      <td>22850</td>\n",
              "      <td>2</td>\n",
              "      <td>Male</td>\n",
              "      <td>16065</td>\n",
              "      <td>22410</td>\n",
              "      <td>41</td>\n",
              "      <td>United-States</td>\n",
              "      <td>20502</td>\n",
              "    </tr>\n",
              "  </tbody>\n",
              "</table>\n",
              "<p>2 rows × 32 columns</p>\n",
              "</div>"
            ],
            "text/plain": [
              "       workclass                        education                        \\\n",
              "           count unique      top   freq     count unique      top  freq   \n",
              "is_old                                                                    \n",
              "0           8923      8  Private   7675      9711     16  HS-grad  2983   \n",
              "1          21802      8  Private  15021     22850     16  HS-grad  7518   \n",
              "\n",
              "       marital-status         ...   race           sex                      \\\n",
              "                count unique  ...    top   freq  count unique   top   freq   \n",
              "is_old                        ...                                            \n",
              "0                9711      7  ...  White   8214   9711      2  Male   5725   \n",
              "1               22850      7  ...  White  19602  22850      2  Male  16065   \n",
              "\n",
              "       native-country                               \n",
              "                count unique            top   freq  \n",
              "is_old                                              \n",
              "0                9568     40  United-States   8668  \n",
              "1               22410     41  United-States  20502  \n",
              "\n",
              "[2 rows x 32 columns]"
            ]
          },
          "execution_count": 261,
          "metadata": {},
          "output_type": "execute_result"
        }
      ],
      "source": [
        "print(\"\\nКатегориальные переменные:\")\n",
        "desc_stats_categorical"
      ]
    },
    {
      "cell_type": "markdown",
      "metadata": {
        "id": "uTjBhGD4Lhwx"
      },
      "source": [
        "#### 1. **education-num**:\n",
        "   - **Среднее значение** у людей возрастом больше 30 - 9.68, меньше - 10.2\n",
        "   - **Разброс (std)** в обеих группах примерно одинаковый (2.209282 и 2.695410), что говорит о схожей вариативности количества образований\n",
        "\n",
        "#### 2. **capital-gain**:\n",
        "   - **Среднее значение** у людей возрастом больше 30 - 1424.210853, меньше - 262.187828. Старики зарабатывают лучше\n",
        "   - **Разброс (std)** у стариков расброс больше\n",
        "\n",
        "#### 2. **capital-loss**:\n",
        "   - **Среднее значение** у людей возрастом больше 30 - 104.474398, меньше - 46.901452. Старики теряют больше, но не на столько как зарабатывают\n",
        "   - **Разброс (std)** у стариков расброс больше, чуть меньше чем в доходах\n",
        "\n",
        "### Вывод:\n",
        "На основе представленных данных можно сказать, что старики зарабатывают намного больше"
      ]
    },
    {
      "cell_type": "markdown",
      "metadata": {
        "id": "b34BwyK0MF0P"
      },
      "source": [
        "## 2. Расчет теста Пирсона"
      ]
    },
    {
      "cell_type": "markdown",
      "metadata": {
        "id": "ixhxJl6lMtNV"
      },
      "source": [
        "### **Описание:**\n",
        "Вы рассчитаете коэффициенты корреляции Пирсона между Y и каждым из признаков X, чтобы оценить значимость этих корреляций.\n",
        "\n",
        "### **Шаги:**\n",
        "\n",
        "1. **Рассчитайте коэффициенты корреляции Пирсона для каждого признака:**"
      ]
    },
    {
      "cell_type": "code",
      "execution_count": 262,
      "metadata": {
        "colab": {
          "base_uri": "https://localhost:8080/",
          "height": 581
        },
        "id": "A9e2_NoPMRfK",
        "outputId": "353fa631-78a2-43f5-dcdd-d463aeaaa800"
      },
      "outputs": [
        {
          "data": {
            "text/html": [
              "<div>\n",
              "<style scoped>\n",
              "    .dataframe tbody tr th:only-of-type {\n",
              "        vertical-align: middle;\n",
              "    }\n",
              "\n",
              "    .dataframe tbody tr th {\n",
              "        vertical-align: top;\n",
              "    }\n",
              "\n",
              "    .dataframe thead th {\n",
              "        text-align: right;\n",
              "    }\n",
              "</style>\n",
              "<table border=\"1\" class=\"dataframe\">\n",
              "  <thead>\n",
              "    <tr style=\"text-align: right;\">\n",
              "      <th></th>\n",
              "      <th>age</th>\n",
              "      <th>education-num</th>\n",
              "      <th>capital-gain</th>\n",
              "      <th>capital-loss</th>\n",
              "      <th>hours-per-week</th>\n",
              "      <th>income &gt;50K</th>\n",
              "      <th>is_old</th>\n",
              "    </tr>\n",
              "  </thead>\n",
              "  <tbody>\n",
              "    <tr>\n",
              "      <th>age</th>\n",
              "      <td>1.000000</td>\n",
              "      <td>0.036527</td>\n",
              "      <td>0.077674</td>\n",
              "      <td>0.057775</td>\n",
              "      <td>0.068756</td>\n",
              "      <td>0.234037</td>\n",
              "      <td>0.720308</td>\n",
              "    </tr>\n",
              "    <tr>\n",
              "      <th>education-num</th>\n",
              "      <td>0.036527</td>\n",
              "      <td>1.000000</td>\n",
              "      <td>0.122630</td>\n",
              "      <td>0.079923</td>\n",
              "      <td>0.148123</td>\n",
              "      <td>0.335154</td>\n",
              "      <td>0.099039</td>\n",
              "    </tr>\n",
              "    <tr>\n",
              "      <th>capital-gain</th>\n",
              "      <td>0.077674</td>\n",
              "      <td>0.122630</td>\n",
              "      <td>1.000000</td>\n",
              "      <td>-0.031615</td>\n",
              "      <td>0.078409</td>\n",
              "      <td>0.223329</td>\n",
              "      <td>0.071983</td>\n",
              "    </tr>\n",
              "    <tr>\n",
              "      <th>capital-loss</th>\n",
              "      <td>0.057775</td>\n",
              "      <td>0.079923</td>\n",
              "      <td>-0.031615</td>\n",
              "      <td>1.000000</td>\n",
              "      <td>0.054256</td>\n",
              "      <td>0.150526</td>\n",
              "      <td>0.065364</td>\n",
              "    </tr>\n",
              "    <tr>\n",
              "      <th>hours-per-week</th>\n",
              "      <td>0.068756</td>\n",
              "      <td>0.148123</td>\n",
              "      <td>0.078409</td>\n",
              "      <td>0.054256</td>\n",
              "      <td>1.000000</td>\n",
              "      <td>0.229689</td>\n",
              "      <td>0.202114</td>\n",
              "    </tr>\n",
              "    <tr>\n",
              "      <th>income &gt;50K</th>\n",
              "      <td>0.234037</td>\n",
              "      <td>0.335154</td>\n",
              "      <td>0.223329</td>\n",
              "      <td>0.150526</td>\n",
              "      <td>0.229689</td>\n",
              "      <td>1.000000</td>\n",
              "      <td>0.286926</td>\n",
              "    </tr>\n",
              "    <tr>\n",
              "      <th>is_old</th>\n",
              "      <td>0.720308</td>\n",
              "      <td>0.099039</td>\n",
              "      <td>0.071983</td>\n",
              "      <td>0.065364</td>\n",
              "      <td>0.202114</td>\n",
              "      <td>0.286926</td>\n",
              "      <td>1.000000</td>\n",
              "    </tr>\n",
              "  </tbody>\n",
              "</table>\n",
              "</div>"
            ],
            "text/plain": [
              "                     age  education-num  capital-gain  capital-loss  \\\n",
              "age             1.000000       0.036527      0.077674      0.057775   \n",
              "education-num   0.036527       1.000000      0.122630      0.079923   \n",
              "capital-gain    0.077674       0.122630      1.000000     -0.031615   \n",
              "capital-loss    0.057775       0.079923     -0.031615      1.000000   \n",
              "hours-per-week  0.068756       0.148123      0.078409      0.054256   \n",
              "income >50K     0.234037       0.335154      0.223329      0.150526   \n",
              "is_old          0.720308       0.099039      0.071983      0.065364   \n",
              "\n",
              "                hours-per-week  income >50K    is_old  \n",
              "age                   0.068756     0.234037  0.720308  \n",
              "education-num         0.148123     0.335154  0.099039  \n",
              "capital-gain          0.078409     0.223329  0.071983  \n",
              "capital-loss          0.054256     0.150526  0.065364  \n",
              "hours-per-week        1.000000     0.229689  0.202114  \n",
              "income >50K           0.229689     1.000000  0.286926  \n",
              "is_old                0.202114     0.286926  1.000000  "
            ]
          },
          "execution_count": 262,
          "metadata": {},
          "output_type": "execute_result"
        }
      ],
      "source": [
        "df[df.select_dtypes(include=[np.number]).columns].corr()"
      ]
    },
    {
      "cell_type": "markdown",
      "metadata": {
        "id": "v2KxpxnBMyDL"
      },
      "source": [
        "2. ⏰ **Интерпретируйте результаты:**\n",
        "\n",
        "\n",
        "### Интерпретация:\n",
        "- **Коэффициент корреляции Пирсона** показывает степень линейной связи между двумя переменными."
      ]
    },
    {
      "cell_type": "markdown",
      "metadata": {
        "id": "nSVkl345PZOK"
      },
      "source": [
        "### Описание корреляций для значимых признаков:\n"
      ]
    },
    {
      "cell_type": "markdown",
      "metadata": {
        "id": "Faea4u5mPd5B"
      },
      "source": [
        "\n",
        "1. **income >50K education-num (0.335154)**:\n",
        "   - Старики больше образований \n",
        "\n",
        "2. **income >50K и age (0.234037)**:\n",
        "   - Старики больше зарабатывают"
      ]
    },
    {
      "cell_type": "markdown",
      "metadata": {
        "id": "LUZs5O0zPp3h"
      },
      "source": [
        "### Почему мультиколлинеарность это плохо?"
      ]
    },
    {
      "cell_type": "markdown",
      "metadata": {
        "id": "iMQop79XPrbr"
      },
      "source": [
        "Мультиколлинеарность возникает, когда два или более независимых признака сильно коррелируют друг с другом. Это приводит к нескольким проблемам:\n",
        "\n",
        "1. **Переоценка значимости признаков**:\n",
        "   - Когда признаки сильно коррелированы, модель может \"перепутать\" влияние каждого из них на целевую переменную, что приведет к ненадежным коэффициентам. Это затрудняет интерпретацию модели, поскольку сложно понять, какой из признаков действительно важен.\n",
        "\n",
        "2. **Нестабильность модели**:\n",
        "   - При наличии мультиколлинеарности небольшие изменения в данных могут привести к большим изменениям в коэффициентах модели. Это делает модель нестабильной и менее устойчивой.\n",
        "\n",
        "3. **Затруднение выбора значимых признаков**:\n",
        "   - Модель может затрудняться при выделении важности отдельных признаков, если они сильно связаны друг с другом. Это может усложнить процесс отбора признаков и снизить точность модели.\n",
        "\n",
        "4. **Увеличение дисперсии коэффициентов**:\n",
        "   - Мультиколлинеарность увеличивает дисперсию оценок коэффициентов регрессии, что делает их менее надежными. В результате, некоторые признаки могут казаться незначимыми, хотя на самом деле они играют важную роль."
      ]
    },
    {
      "cell_type": "markdown",
      "metadata": {
        "id": "Jy_5Ydv0Q6pl"
      },
      "source": [
        "## 3. Немного машинного обучения"
      ]
    },
    {
      "cell_type": "markdown",
      "metadata": {
        "id": "pIQF0u7rQ9bE"
      },
      "source": [
        "- отберем признаки (числовые и категориальные отдельно)\n",
        "- обработаем числовые и категориальыне\n",
        "- обучим модель\n",
        "- узнаем что влияет на Y"
      ]
    },
    {
      "cell_type": "code",
      "execution_count": 263,
      "metadata": {
        "id": "EaXN0RZRRdeV"
      },
      "outputs": [],
      "source": [
        "from sklearn.model_selection import train_test_split\n",
        "from sklearn.preprocessing import MinMaxScaler, OneHotEncoder\n",
        "from sklearn.linear_model import LogisticRegression\n",
        "from sklearn.metrics import accuracy_score, classification_report"
      ]
    },
    {
      "cell_type": "code",
      "execution_count": 264,
      "metadata": {
        "colab": {
          "base_uri": "https://localhost:8080/"
        },
        "id": "DdR9yP9pQ9Ds",
        "outputId": "4e35f9e0-73c2-4d8a-8867-1c5d23d1dec2"
      },
      "outputs": [
        {
          "name": "stdout",
          "output_type": "stream",
          "text": [
            "Категориальные признаки: ['workclass', 'education', 'education-num', 'marital-status', 'occupation', 'relationship', 'race', 'sex', 'capital-gain', 'capital-loss', 'hours-per-week', 'native-country', 'income >50K']\n"
          ]
        }
      ],
      "source": [
        "# Выбираем категориальные признаки\n",
        "categorical_features = X.select_dtypes(include=['object', 'int64']).columns.tolist()\n",
        "\n",
        "print(\"Категориальные признаки:\", categorical_features)\n"
      ]
    },
    {
      "cell_type": "code",
      "execution_count": 265,
      "metadata": {
        "id": "lTk0CBB0RGXN"
      },
      "outputs": [],
      "source": [
        "# Создаем копию данных\n",
        "X_processed = X.copy()\n",
        "# Применяем One-Hot Encoding\n",
        "X_processed = pd.get_dummies(X_processed,dtype=int, columns=categorical_features, drop_first=True) # drop_first=True позволяет избежать мультиколлинеарности, удаляя первый уровень категориальной переменной."
      ]
    },
    {
      "cell_type": "code",
      "execution_count": 266,
      "metadata": {
        "colab": {
          "base_uri": "https://localhost:8080/",
          "height": 478
        },
        "id": "eNMqQxUERKPG",
        "outputId": "052eff9c-b743-41ae-e6ef-89255cc50322"
      },
      "outputs": [
        {
          "data": {
            "text/html": [
              "<div>\n",
              "<style scoped>\n",
              "    .dataframe tbody tr th:only-of-type {\n",
              "        vertical-align: middle;\n",
              "    }\n",
              "\n",
              "    .dataframe tbody tr th {\n",
              "        vertical-align: top;\n",
              "    }\n",
              "\n",
              "    .dataframe thead th {\n",
              "        text-align: right;\n",
              "    }\n",
              "</style>\n",
              "<table border=\"1\" class=\"dataframe\">\n",
              "  <thead>\n",
              "    <tr style=\"text-align: right;\">\n",
              "      <th></th>\n",
              "      <th>workclass_Local-gov</th>\n",
              "      <th>workclass_Never-worked</th>\n",
              "      <th>workclass_Private</th>\n",
              "      <th>workclass_Self-emp-inc</th>\n",
              "      <th>workclass_Self-emp-not-inc</th>\n",
              "      <th>workclass_State-gov</th>\n",
              "      <th>workclass_Without-pay</th>\n",
              "      <th>education_11th</th>\n",
              "      <th>education_12th</th>\n",
              "      <th>education_1st-4th</th>\n",
              "      <th>...</th>\n",
              "      <th>native-country_Puerto-Rico</th>\n",
              "      <th>native-country_Scotland</th>\n",
              "      <th>native-country_South</th>\n",
              "      <th>native-country_Taiwan</th>\n",
              "      <th>native-country_Thailand</th>\n",
              "      <th>native-country_Trinadad&amp;Tobago</th>\n",
              "      <th>native-country_United-States</th>\n",
              "      <th>native-country_Vietnam</th>\n",
              "      <th>native-country_Yugoslavia</th>\n",
              "      <th>income &gt;50K_1</th>\n",
              "    </tr>\n",
              "  </thead>\n",
              "  <tbody>\n",
              "    <tr>\n",
              "      <th>0</th>\n",
              "      <td>0</td>\n",
              "      <td>0</td>\n",
              "      <td>0</td>\n",
              "      <td>0</td>\n",
              "      <td>0</td>\n",
              "      <td>1</td>\n",
              "      <td>0</td>\n",
              "      <td>0</td>\n",
              "      <td>0</td>\n",
              "      <td>0</td>\n",
              "      <td>...</td>\n",
              "      <td>0</td>\n",
              "      <td>0</td>\n",
              "      <td>0</td>\n",
              "      <td>0</td>\n",
              "      <td>0</td>\n",
              "      <td>0</td>\n",
              "      <td>1</td>\n",
              "      <td>0</td>\n",
              "      <td>0</td>\n",
              "      <td>0</td>\n",
              "    </tr>\n",
              "    <tr>\n",
              "      <th>1</th>\n",
              "      <td>0</td>\n",
              "      <td>0</td>\n",
              "      <td>0</td>\n",
              "      <td>0</td>\n",
              "      <td>1</td>\n",
              "      <td>0</td>\n",
              "      <td>0</td>\n",
              "      <td>0</td>\n",
              "      <td>0</td>\n",
              "      <td>0</td>\n",
              "      <td>...</td>\n",
              "      <td>0</td>\n",
              "      <td>0</td>\n",
              "      <td>0</td>\n",
              "      <td>0</td>\n",
              "      <td>0</td>\n",
              "      <td>0</td>\n",
              "      <td>1</td>\n",
              "      <td>0</td>\n",
              "      <td>0</td>\n",
              "      <td>0</td>\n",
              "    </tr>\n",
              "    <tr>\n",
              "      <th>2</th>\n",
              "      <td>0</td>\n",
              "      <td>0</td>\n",
              "      <td>1</td>\n",
              "      <td>0</td>\n",
              "      <td>0</td>\n",
              "      <td>0</td>\n",
              "      <td>0</td>\n",
              "      <td>0</td>\n",
              "      <td>0</td>\n",
              "      <td>0</td>\n",
              "      <td>...</td>\n",
              "      <td>0</td>\n",
              "      <td>0</td>\n",
              "      <td>0</td>\n",
              "      <td>0</td>\n",
              "      <td>0</td>\n",
              "      <td>0</td>\n",
              "      <td>1</td>\n",
              "      <td>0</td>\n",
              "      <td>0</td>\n",
              "      <td>0</td>\n",
              "    </tr>\n",
              "    <tr>\n",
              "      <th>3</th>\n",
              "      <td>0</td>\n",
              "      <td>0</td>\n",
              "      <td>1</td>\n",
              "      <td>0</td>\n",
              "      <td>0</td>\n",
              "      <td>0</td>\n",
              "      <td>0</td>\n",
              "      <td>1</td>\n",
              "      <td>0</td>\n",
              "      <td>0</td>\n",
              "      <td>...</td>\n",
              "      <td>0</td>\n",
              "      <td>0</td>\n",
              "      <td>0</td>\n",
              "      <td>0</td>\n",
              "      <td>0</td>\n",
              "      <td>0</td>\n",
              "      <td>1</td>\n",
              "      <td>0</td>\n",
              "      <td>0</td>\n",
              "      <td>0</td>\n",
              "    </tr>\n",
              "    <tr>\n",
              "      <th>4</th>\n",
              "      <td>0</td>\n",
              "      <td>0</td>\n",
              "      <td>1</td>\n",
              "      <td>0</td>\n",
              "      <td>0</td>\n",
              "      <td>0</td>\n",
              "      <td>0</td>\n",
              "      <td>0</td>\n",
              "      <td>0</td>\n",
              "      <td>0</td>\n",
              "      <td>...</td>\n",
              "      <td>0</td>\n",
              "      <td>0</td>\n",
              "      <td>0</td>\n",
              "      <td>0</td>\n",
              "      <td>0</td>\n",
              "      <td>0</td>\n",
              "      <td>0</td>\n",
              "      <td>0</td>\n",
              "      <td>0</td>\n",
              "      <td>0</td>\n",
              "    </tr>\n",
              "    <tr>\n",
              "      <th>...</th>\n",
              "      <td>...</td>\n",
              "      <td>...</td>\n",
              "      <td>...</td>\n",
              "      <td>...</td>\n",
              "      <td>...</td>\n",
              "      <td>...</td>\n",
              "      <td>...</td>\n",
              "      <td>...</td>\n",
              "      <td>...</td>\n",
              "      <td>...</td>\n",
              "      <td>...</td>\n",
              "      <td>...</td>\n",
              "      <td>...</td>\n",
              "      <td>...</td>\n",
              "      <td>...</td>\n",
              "      <td>...</td>\n",
              "      <td>...</td>\n",
              "      <td>...</td>\n",
              "      <td>...</td>\n",
              "      <td>...</td>\n",
              "      <td>...</td>\n",
              "    </tr>\n",
              "    <tr>\n",
              "      <th>32556</th>\n",
              "      <td>0</td>\n",
              "      <td>0</td>\n",
              "      <td>1</td>\n",
              "      <td>0</td>\n",
              "      <td>0</td>\n",
              "      <td>0</td>\n",
              "      <td>0</td>\n",
              "      <td>0</td>\n",
              "      <td>0</td>\n",
              "      <td>0</td>\n",
              "      <td>...</td>\n",
              "      <td>0</td>\n",
              "      <td>0</td>\n",
              "      <td>0</td>\n",
              "      <td>0</td>\n",
              "      <td>0</td>\n",
              "      <td>0</td>\n",
              "      <td>1</td>\n",
              "      <td>0</td>\n",
              "      <td>0</td>\n",
              "      <td>0</td>\n",
              "    </tr>\n",
              "    <tr>\n",
              "      <th>32557</th>\n",
              "      <td>0</td>\n",
              "      <td>0</td>\n",
              "      <td>1</td>\n",
              "      <td>0</td>\n",
              "      <td>0</td>\n",
              "      <td>0</td>\n",
              "      <td>0</td>\n",
              "      <td>0</td>\n",
              "      <td>0</td>\n",
              "      <td>0</td>\n",
              "      <td>...</td>\n",
              "      <td>0</td>\n",
              "      <td>0</td>\n",
              "      <td>0</td>\n",
              "      <td>0</td>\n",
              "      <td>0</td>\n",
              "      <td>0</td>\n",
              "      <td>1</td>\n",
              "      <td>0</td>\n",
              "      <td>0</td>\n",
              "      <td>1</td>\n",
              "    </tr>\n",
              "    <tr>\n",
              "      <th>32558</th>\n",
              "      <td>0</td>\n",
              "      <td>0</td>\n",
              "      <td>1</td>\n",
              "      <td>0</td>\n",
              "      <td>0</td>\n",
              "      <td>0</td>\n",
              "      <td>0</td>\n",
              "      <td>0</td>\n",
              "      <td>0</td>\n",
              "      <td>0</td>\n",
              "      <td>...</td>\n",
              "      <td>0</td>\n",
              "      <td>0</td>\n",
              "      <td>0</td>\n",
              "      <td>0</td>\n",
              "      <td>0</td>\n",
              "      <td>0</td>\n",
              "      <td>1</td>\n",
              "      <td>0</td>\n",
              "      <td>0</td>\n",
              "      <td>0</td>\n",
              "    </tr>\n",
              "    <tr>\n",
              "      <th>32559</th>\n",
              "      <td>0</td>\n",
              "      <td>0</td>\n",
              "      <td>1</td>\n",
              "      <td>0</td>\n",
              "      <td>0</td>\n",
              "      <td>0</td>\n",
              "      <td>0</td>\n",
              "      <td>0</td>\n",
              "      <td>0</td>\n",
              "      <td>0</td>\n",
              "      <td>...</td>\n",
              "      <td>0</td>\n",
              "      <td>0</td>\n",
              "      <td>0</td>\n",
              "      <td>0</td>\n",
              "      <td>0</td>\n",
              "      <td>0</td>\n",
              "      <td>1</td>\n",
              "      <td>0</td>\n",
              "      <td>0</td>\n",
              "      <td>0</td>\n",
              "    </tr>\n",
              "    <tr>\n",
              "      <th>32560</th>\n",
              "      <td>0</td>\n",
              "      <td>0</td>\n",
              "      <td>0</td>\n",
              "      <td>1</td>\n",
              "      <td>0</td>\n",
              "      <td>0</td>\n",
              "      <td>0</td>\n",
              "      <td>0</td>\n",
              "      <td>0</td>\n",
              "      <td>0</td>\n",
              "      <td>...</td>\n",
              "      <td>0</td>\n",
              "      <td>0</td>\n",
              "      <td>0</td>\n",
              "      <td>0</td>\n",
              "      <td>0</td>\n",
              "      <td>0</td>\n",
              "      <td>1</td>\n",
              "      <td>0</td>\n",
              "      <td>0</td>\n",
              "      <td>1</td>\n",
              "    </tr>\n",
              "  </tbody>\n",
              "</table>\n",
              "<p>32561 rows × 409 columns</p>\n",
              "</div>"
            ],
            "text/plain": [
              "       workclass_Local-gov  workclass_Never-worked  workclass_Private  \\\n",
              "0                        0                       0                  0   \n",
              "1                        0                       0                  0   \n",
              "2                        0                       0                  1   \n",
              "3                        0                       0                  1   \n",
              "4                        0                       0                  1   \n",
              "...                    ...                     ...                ...   \n",
              "32556                    0                       0                  1   \n",
              "32557                    0                       0                  1   \n",
              "32558                    0                       0                  1   \n",
              "32559                    0                       0                  1   \n",
              "32560                    0                       0                  0   \n",
              "\n",
              "       workclass_Self-emp-inc  workclass_Self-emp-not-inc  \\\n",
              "0                           0                           0   \n",
              "1                           0                           1   \n",
              "2                           0                           0   \n",
              "3                           0                           0   \n",
              "4                           0                           0   \n",
              "...                       ...                         ...   \n",
              "32556                       0                           0   \n",
              "32557                       0                           0   \n",
              "32558                       0                           0   \n",
              "32559                       0                           0   \n",
              "32560                       1                           0   \n",
              "\n",
              "       workclass_State-gov  workclass_Without-pay  education_11th  \\\n",
              "0                        1                      0               0   \n",
              "1                        0                      0               0   \n",
              "2                        0                      0               0   \n",
              "3                        0                      0               1   \n",
              "4                        0                      0               0   \n",
              "...                    ...                    ...             ...   \n",
              "32556                    0                      0               0   \n",
              "32557                    0                      0               0   \n",
              "32558                    0                      0               0   \n",
              "32559                    0                      0               0   \n",
              "32560                    0                      0               0   \n",
              "\n",
              "       education_12th  education_1st-4th  ...  native-country_Puerto-Rico  \\\n",
              "0                   0                  0  ...                           0   \n",
              "1                   0                  0  ...                           0   \n",
              "2                   0                  0  ...                           0   \n",
              "3                   0                  0  ...                           0   \n",
              "4                   0                  0  ...                           0   \n",
              "...               ...                ...  ...                         ...   \n",
              "32556               0                  0  ...                           0   \n",
              "32557               0                  0  ...                           0   \n",
              "32558               0                  0  ...                           0   \n",
              "32559               0                  0  ...                           0   \n",
              "32560               0                  0  ...                           0   \n",
              "\n",
              "       native-country_Scotland  native-country_South  native-country_Taiwan  \\\n",
              "0                            0                     0                      0   \n",
              "1                            0                     0                      0   \n",
              "2                            0                     0                      0   \n",
              "3                            0                     0                      0   \n",
              "4                            0                     0                      0   \n",
              "...                        ...                   ...                    ...   \n",
              "32556                        0                     0                      0   \n",
              "32557                        0                     0                      0   \n",
              "32558                        0                     0                      0   \n",
              "32559                        0                     0                      0   \n",
              "32560                        0                     0                      0   \n",
              "\n",
              "       native-country_Thailand  native-country_Trinadad&Tobago  \\\n",
              "0                            0                               0   \n",
              "1                            0                               0   \n",
              "2                            0                               0   \n",
              "3                            0                               0   \n",
              "4                            0                               0   \n",
              "...                        ...                             ...   \n",
              "32556                        0                               0   \n",
              "32557                        0                               0   \n",
              "32558                        0                               0   \n",
              "32559                        0                               0   \n",
              "32560                        0                               0   \n",
              "\n",
              "       native-country_United-States  native-country_Vietnam  \\\n",
              "0                                 1                       0   \n",
              "1                                 1                       0   \n",
              "2                                 1                       0   \n",
              "3                                 1                       0   \n",
              "4                                 0                       0   \n",
              "...                             ...                     ...   \n",
              "32556                             1                       0   \n",
              "32557                             1                       0   \n",
              "32558                             1                       0   \n",
              "32559                             1                       0   \n",
              "32560                             1                       0   \n",
              "\n",
              "       native-country_Yugoslavia  income >50K_1  \n",
              "0                              0              0  \n",
              "1                              0              0  \n",
              "2                              0              0  \n",
              "3                              0              0  \n",
              "4                              0              0  \n",
              "...                          ...            ...  \n",
              "32556                          0              0  \n",
              "32557                          0              1  \n",
              "32558                          0              0  \n",
              "32559                          0              0  \n",
              "32560                          0              1  \n",
              "\n",
              "[32561 rows x 409 columns]"
            ]
          },
          "execution_count": 266,
          "metadata": {},
          "output_type": "execute_result"
        }
      ],
      "source": [
        "X_processed"
      ]
    },
    {
      "cell_type": "markdown",
      "metadata": {
        "id": "IhOZkrl-RUZP"
      },
      "source": []
    },
    {
      "cell_type": "code",
      "execution_count": 267,
      "metadata": {
        "colab": {
          "base_uri": "https://localhost:8080/"
        },
        "id": "UJP2t855RNIQ",
        "outputId": "1280e187-fbda-439e-97e1-752f11d24e3b"
      },
      "outputs": [
        {
          "name": "stdout",
          "output_type": "stream",
          "text": [
            "Числовые признаки: []\n"
          ]
        }
      ],
      "source": [
        "# Выбираем числовые признаки\n",
        "numeric_features = X_processed.select_dtypes(include=['float64']).columns.tolist()\n",
        "\n",
        "print(\"Числовые признаки:\", numeric_features)"
      ]
    },
    {
      "cell_type": "code",
      "execution_count": 268,
      "metadata": {
        "id": "I6T1wnUbRXMz"
      },
      "outputs": [],
      "source": [
        "# Инициализируем scaler\n",
        "# scaler = MinMaxScaler()\n",
        "\n",
        "# Применяем нормализацию\n",
        "# X_processed[numeric_features] = scaler.fit_transform(X_processed[numeric_features])\n"
      ]
    },
    {
      "cell_type": "code",
      "execution_count": 269,
      "metadata": {
        "colab": {
          "base_uri": "https://localhost:8080/",
          "height": 458
        },
        "id": "pZ7BfPUbRfUL",
        "outputId": "f6f99d6c-54b4-44f3-ca85-9adeee51bfec"
      },
      "outputs": [
        {
          "data": {
            "text/html": [
              "<div>\n",
              "<style scoped>\n",
              "    .dataframe tbody tr th:only-of-type {\n",
              "        vertical-align: middle;\n",
              "    }\n",
              "\n",
              "    .dataframe tbody tr th {\n",
              "        vertical-align: top;\n",
              "    }\n",
              "\n",
              "    .dataframe thead th {\n",
              "        text-align: right;\n",
              "    }\n",
              "</style>\n",
              "<table border=\"1\" class=\"dataframe\">\n",
              "  <thead>\n",
              "    <tr style=\"text-align: right;\">\n",
              "      <th></th>\n",
              "      <th>workclass_Local-gov</th>\n",
              "      <th>workclass_Never-worked</th>\n",
              "      <th>workclass_Private</th>\n",
              "      <th>workclass_Self-emp-inc</th>\n",
              "      <th>workclass_Self-emp-not-inc</th>\n",
              "      <th>workclass_State-gov</th>\n",
              "      <th>workclass_Without-pay</th>\n",
              "      <th>education_11th</th>\n",
              "      <th>education_12th</th>\n",
              "      <th>education_1st-4th</th>\n",
              "      <th>...</th>\n",
              "      <th>native-country_Puerto-Rico</th>\n",
              "      <th>native-country_Scotland</th>\n",
              "      <th>native-country_South</th>\n",
              "      <th>native-country_Taiwan</th>\n",
              "      <th>native-country_Thailand</th>\n",
              "      <th>native-country_Trinadad&amp;Tobago</th>\n",
              "      <th>native-country_United-States</th>\n",
              "      <th>native-country_Vietnam</th>\n",
              "      <th>native-country_Yugoslavia</th>\n",
              "      <th>income &gt;50K_1</th>\n",
              "    </tr>\n",
              "  </thead>\n",
              "  <tbody>\n",
              "    <tr>\n",
              "      <th>0</th>\n",
              "      <td>0</td>\n",
              "      <td>0</td>\n",
              "      <td>0</td>\n",
              "      <td>0</td>\n",
              "      <td>0</td>\n",
              "      <td>1</td>\n",
              "      <td>0</td>\n",
              "      <td>0</td>\n",
              "      <td>0</td>\n",
              "      <td>0</td>\n",
              "      <td>...</td>\n",
              "      <td>0</td>\n",
              "      <td>0</td>\n",
              "      <td>0</td>\n",
              "      <td>0</td>\n",
              "      <td>0</td>\n",
              "      <td>0</td>\n",
              "      <td>1</td>\n",
              "      <td>0</td>\n",
              "      <td>0</td>\n",
              "      <td>0</td>\n",
              "    </tr>\n",
              "    <tr>\n",
              "      <th>1</th>\n",
              "      <td>0</td>\n",
              "      <td>0</td>\n",
              "      <td>0</td>\n",
              "      <td>0</td>\n",
              "      <td>1</td>\n",
              "      <td>0</td>\n",
              "      <td>0</td>\n",
              "      <td>0</td>\n",
              "      <td>0</td>\n",
              "      <td>0</td>\n",
              "      <td>...</td>\n",
              "      <td>0</td>\n",
              "      <td>0</td>\n",
              "      <td>0</td>\n",
              "      <td>0</td>\n",
              "      <td>0</td>\n",
              "      <td>0</td>\n",
              "      <td>1</td>\n",
              "      <td>0</td>\n",
              "      <td>0</td>\n",
              "      <td>0</td>\n",
              "    </tr>\n",
              "    <tr>\n",
              "      <th>2</th>\n",
              "      <td>0</td>\n",
              "      <td>0</td>\n",
              "      <td>1</td>\n",
              "      <td>0</td>\n",
              "      <td>0</td>\n",
              "      <td>0</td>\n",
              "      <td>0</td>\n",
              "      <td>0</td>\n",
              "      <td>0</td>\n",
              "      <td>0</td>\n",
              "      <td>...</td>\n",
              "      <td>0</td>\n",
              "      <td>0</td>\n",
              "      <td>0</td>\n",
              "      <td>0</td>\n",
              "      <td>0</td>\n",
              "      <td>0</td>\n",
              "      <td>1</td>\n",
              "      <td>0</td>\n",
              "      <td>0</td>\n",
              "      <td>0</td>\n",
              "    </tr>\n",
              "    <tr>\n",
              "      <th>3</th>\n",
              "      <td>0</td>\n",
              "      <td>0</td>\n",
              "      <td>1</td>\n",
              "      <td>0</td>\n",
              "      <td>0</td>\n",
              "      <td>0</td>\n",
              "      <td>0</td>\n",
              "      <td>1</td>\n",
              "      <td>0</td>\n",
              "      <td>0</td>\n",
              "      <td>...</td>\n",
              "      <td>0</td>\n",
              "      <td>0</td>\n",
              "      <td>0</td>\n",
              "      <td>0</td>\n",
              "      <td>0</td>\n",
              "      <td>0</td>\n",
              "      <td>1</td>\n",
              "      <td>0</td>\n",
              "      <td>0</td>\n",
              "      <td>0</td>\n",
              "    </tr>\n",
              "    <tr>\n",
              "      <th>4</th>\n",
              "      <td>0</td>\n",
              "      <td>0</td>\n",
              "      <td>1</td>\n",
              "      <td>0</td>\n",
              "      <td>0</td>\n",
              "      <td>0</td>\n",
              "      <td>0</td>\n",
              "      <td>0</td>\n",
              "      <td>0</td>\n",
              "      <td>0</td>\n",
              "      <td>...</td>\n",
              "      <td>0</td>\n",
              "      <td>0</td>\n",
              "      <td>0</td>\n",
              "      <td>0</td>\n",
              "      <td>0</td>\n",
              "      <td>0</td>\n",
              "      <td>0</td>\n",
              "      <td>0</td>\n",
              "      <td>0</td>\n",
              "      <td>0</td>\n",
              "    </tr>\n",
              "    <tr>\n",
              "      <th>...</th>\n",
              "      <td>...</td>\n",
              "      <td>...</td>\n",
              "      <td>...</td>\n",
              "      <td>...</td>\n",
              "      <td>...</td>\n",
              "      <td>...</td>\n",
              "      <td>...</td>\n",
              "      <td>...</td>\n",
              "      <td>...</td>\n",
              "      <td>...</td>\n",
              "      <td>...</td>\n",
              "      <td>...</td>\n",
              "      <td>...</td>\n",
              "      <td>...</td>\n",
              "      <td>...</td>\n",
              "      <td>...</td>\n",
              "      <td>...</td>\n",
              "      <td>...</td>\n",
              "      <td>...</td>\n",
              "      <td>...</td>\n",
              "      <td>...</td>\n",
              "    </tr>\n",
              "    <tr>\n",
              "      <th>32556</th>\n",
              "      <td>0</td>\n",
              "      <td>0</td>\n",
              "      <td>1</td>\n",
              "      <td>0</td>\n",
              "      <td>0</td>\n",
              "      <td>0</td>\n",
              "      <td>0</td>\n",
              "      <td>0</td>\n",
              "      <td>0</td>\n",
              "      <td>0</td>\n",
              "      <td>...</td>\n",
              "      <td>0</td>\n",
              "      <td>0</td>\n",
              "      <td>0</td>\n",
              "      <td>0</td>\n",
              "      <td>0</td>\n",
              "      <td>0</td>\n",
              "      <td>1</td>\n",
              "      <td>0</td>\n",
              "      <td>0</td>\n",
              "      <td>0</td>\n",
              "    </tr>\n",
              "    <tr>\n",
              "      <th>32557</th>\n",
              "      <td>0</td>\n",
              "      <td>0</td>\n",
              "      <td>1</td>\n",
              "      <td>0</td>\n",
              "      <td>0</td>\n",
              "      <td>0</td>\n",
              "      <td>0</td>\n",
              "      <td>0</td>\n",
              "      <td>0</td>\n",
              "      <td>0</td>\n",
              "      <td>...</td>\n",
              "      <td>0</td>\n",
              "      <td>0</td>\n",
              "      <td>0</td>\n",
              "      <td>0</td>\n",
              "      <td>0</td>\n",
              "      <td>0</td>\n",
              "      <td>1</td>\n",
              "      <td>0</td>\n",
              "      <td>0</td>\n",
              "      <td>1</td>\n",
              "    </tr>\n",
              "    <tr>\n",
              "      <th>32558</th>\n",
              "      <td>0</td>\n",
              "      <td>0</td>\n",
              "      <td>1</td>\n",
              "      <td>0</td>\n",
              "      <td>0</td>\n",
              "      <td>0</td>\n",
              "      <td>0</td>\n",
              "      <td>0</td>\n",
              "      <td>0</td>\n",
              "      <td>0</td>\n",
              "      <td>...</td>\n",
              "      <td>0</td>\n",
              "      <td>0</td>\n",
              "      <td>0</td>\n",
              "      <td>0</td>\n",
              "      <td>0</td>\n",
              "      <td>0</td>\n",
              "      <td>1</td>\n",
              "      <td>0</td>\n",
              "      <td>0</td>\n",
              "      <td>0</td>\n",
              "    </tr>\n",
              "    <tr>\n",
              "      <th>32559</th>\n",
              "      <td>0</td>\n",
              "      <td>0</td>\n",
              "      <td>1</td>\n",
              "      <td>0</td>\n",
              "      <td>0</td>\n",
              "      <td>0</td>\n",
              "      <td>0</td>\n",
              "      <td>0</td>\n",
              "      <td>0</td>\n",
              "      <td>0</td>\n",
              "      <td>...</td>\n",
              "      <td>0</td>\n",
              "      <td>0</td>\n",
              "      <td>0</td>\n",
              "      <td>0</td>\n",
              "      <td>0</td>\n",
              "      <td>0</td>\n",
              "      <td>1</td>\n",
              "      <td>0</td>\n",
              "      <td>0</td>\n",
              "      <td>0</td>\n",
              "    </tr>\n",
              "    <tr>\n",
              "      <th>32560</th>\n",
              "      <td>0</td>\n",
              "      <td>0</td>\n",
              "      <td>0</td>\n",
              "      <td>1</td>\n",
              "      <td>0</td>\n",
              "      <td>0</td>\n",
              "      <td>0</td>\n",
              "      <td>0</td>\n",
              "      <td>0</td>\n",
              "      <td>0</td>\n",
              "      <td>...</td>\n",
              "      <td>0</td>\n",
              "      <td>0</td>\n",
              "      <td>0</td>\n",
              "      <td>0</td>\n",
              "      <td>0</td>\n",
              "      <td>0</td>\n",
              "      <td>1</td>\n",
              "      <td>0</td>\n",
              "      <td>0</td>\n",
              "      <td>1</td>\n",
              "    </tr>\n",
              "  </tbody>\n",
              "</table>\n",
              "<p>32561 rows × 409 columns</p>\n",
              "</div>"
            ],
            "text/plain": [
              "       workclass_Local-gov  workclass_Never-worked  workclass_Private  \\\n",
              "0                        0                       0                  0   \n",
              "1                        0                       0                  0   \n",
              "2                        0                       0                  1   \n",
              "3                        0                       0                  1   \n",
              "4                        0                       0                  1   \n",
              "...                    ...                     ...                ...   \n",
              "32556                    0                       0                  1   \n",
              "32557                    0                       0                  1   \n",
              "32558                    0                       0                  1   \n",
              "32559                    0                       0                  1   \n",
              "32560                    0                       0                  0   \n",
              "\n",
              "       workclass_Self-emp-inc  workclass_Self-emp-not-inc  \\\n",
              "0                           0                           0   \n",
              "1                           0                           1   \n",
              "2                           0                           0   \n",
              "3                           0                           0   \n",
              "4                           0                           0   \n",
              "...                       ...                         ...   \n",
              "32556                       0                           0   \n",
              "32557                       0                           0   \n",
              "32558                       0                           0   \n",
              "32559                       0                           0   \n",
              "32560                       1                           0   \n",
              "\n",
              "       workclass_State-gov  workclass_Without-pay  education_11th  \\\n",
              "0                        1                      0               0   \n",
              "1                        0                      0               0   \n",
              "2                        0                      0               0   \n",
              "3                        0                      0               1   \n",
              "4                        0                      0               0   \n",
              "...                    ...                    ...             ...   \n",
              "32556                    0                      0               0   \n",
              "32557                    0                      0               0   \n",
              "32558                    0                      0               0   \n",
              "32559                    0                      0               0   \n",
              "32560                    0                      0               0   \n",
              "\n",
              "       education_12th  education_1st-4th  ...  native-country_Puerto-Rico  \\\n",
              "0                   0                  0  ...                           0   \n",
              "1                   0                  0  ...                           0   \n",
              "2                   0                  0  ...                           0   \n",
              "3                   0                  0  ...                           0   \n",
              "4                   0                  0  ...                           0   \n",
              "...               ...                ...  ...                         ...   \n",
              "32556               0                  0  ...                           0   \n",
              "32557               0                  0  ...                           0   \n",
              "32558               0                  0  ...                           0   \n",
              "32559               0                  0  ...                           0   \n",
              "32560               0                  0  ...                           0   \n",
              "\n",
              "       native-country_Scotland  native-country_South  native-country_Taiwan  \\\n",
              "0                            0                     0                      0   \n",
              "1                            0                     0                      0   \n",
              "2                            0                     0                      0   \n",
              "3                            0                     0                      0   \n",
              "4                            0                     0                      0   \n",
              "...                        ...                   ...                    ...   \n",
              "32556                        0                     0                      0   \n",
              "32557                        0                     0                      0   \n",
              "32558                        0                     0                      0   \n",
              "32559                        0                     0                      0   \n",
              "32560                        0                     0                      0   \n",
              "\n",
              "       native-country_Thailand  native-country_Trinadad&Tobago  \\\n",
              "0                            0                               0   \n",
              "1                            0                               0   \n",
              "2                            0                               0   \n",
              "3                            0                               0   \n",
              "4                            0                               0   \n",
              "...                        ...                             ...   \n",
              "32556                        0                               0   \n",
              "32557                        0                               0   \n",
              "32558                        0                               0   \n",
              "32559                        0                               0   \n",
              "32560                        0                               0   \n",
              "\n",
              "       native-country_United-States  native-country_Vietnam  \\\n",
              "0                                 1                       0   \n",
              "1                                 1                       0   \n",
              "2                                 1                       0   \n",
              "3                                 1                       0   \n",
              "4                                 0                       0   \n",
              "...                             ...                     ...   \n",
              "32556                             1                       0   \n",
              "32557                             1                       0   \n",
              "32558                             1                       0   \n",
              "32559                             1                       0   \n",
              "32560                             1                       0   \n",
              "\n",
              "       native-country_Yugoslavia  income >50K_1  \n",
              "0                              0              0  \n",
              "1                              0              0  \n",
              "2                              0              0  \n",
              "3                              0              0  \n",
              "4                              0              0  \n",
              "...                          ...            ...  \n",
              "32556                          0              0  \n",
              "32557                          0              1  \n",
              "32558                          0              0  \n",
              "32559                          0              0  \n",
              "32560                          0              1  \n",
              "\n",
              "[32561 rows x 409 columns]"
            ]
          },
          "execution_count": 269,
          "metadata": {},
          "output_type": "execute_result"
        }
      ],
      "source": [
        "X_processed"
      ]
    },
    {
      "cell_type": "markdown",
      "metadata": {
        "id": "4fCIa6HtRmjw"
      },
      "source": [
        "### Шаг 3: Объяснение логистической регрессии\n"
      ]
    },
    {
      "cell_type": "markdown",
      "metadata": {
        "id": "7iMew3iZRoq4"
      },
      "source": [
        "Логистическая регрессия — это статистический метод для анализа набора данных, в котором одна или более независимых переменных определяют исход (зависимую переменную), которая является бинарной (т.е. принимает только два возможных значения, например, 0 и 1). Целью логистической регрессии является нахождение наилучшей модели, описывающей связь между независимыми переменными и вероятностью определенного исхода.\n",
        "\n",
        "Основные характеристики:\n",
        "\n",
        "Функция логита (логистическая функция): Используется для моделирования вероятности принадлежности наблюдения к определенному классу.\n",
        "Выводы о влиянии признаков: Коэффициенты модели показывают, как изменение признака влияет на логарифм отношения шансов."
      ]
    },
    {
      "cell_type": "markdown",
      "metadata": {
        "id": "-3f-a3jkRsDf"
      },
      "source": [
        "**Функция для обучения и оценки модели**"
      ]
    },
    {
      "cell_type": "code",
      "execution_count": 270,
      "metadata": {
        "id": "ISOh8FAUR6C8"
      },
      "outputs": [],
      "source": [
        "def train_and_evaluate(X, Y):\n",
        "    # Разделение данных на обучающую и тестовую выборки\n",
        "    X_train, X_test, Y_train, Y_test = train_test_split(\n",
        "        X, Y, test_size=0.2, random_state=42, stratify=Y)\n",
        "\n",
        "    # Инициализация модели\n",
        "    model = LogisticRegression(max_iter=1000)\n",
        "\n",
        "    # Обучение модели\n",
        "    model.fit(X_train, Y_train)\n",
        "\n",
        "    # Предсказания на обучающей выборке\n",
        "    Y_train_pred = model.predict(X_train)\n",
        "    train_accuracy = accuracy_score(Y_train, Y_train_pred)\n",
        "\n",
        "    # Предсказания на тестовой выборке\n",
        "    Y_test_pred = model.predict(X_test)\n",
        "    test_accuracy = accuracy_score(Y_test, Y_test_pred)\n",
        "\n",
        "    # Вывод результатов\n",
        "    print(f\"Точность на обучающей выборке: {train_accuracy:.4f}\")\n",
        "    print(f\"Точность на тестовой выборке: {test_accuracy:.4f}\")\n",
        "\n",
        "    # Классификационный отчет\n",
        "    print(\"\\nКлассификационный отчет на тестовой выборке:\")\n",
        "    print(classification_report(Y_test, Y_test_pred))\n",
        "\n",
        "    return model\n"
      ]
    },
    {
      "cell_type": "code",
      "execution_count": 271,
      "metadata": {
        "colab": {
          "base_uri": "https://localhost:8080/"
        },
        "id": "zY3_h4I8R9hI",
        "outputId": "0d62b680-d4bb-4e53-cd7f-d85db1d03d00"
      },
      "outputs": [
        {
          "name": "stdout",
          "output_type": "stream",
          "text": [
            "Точность на обучающей выборке: 0.8398\n",
            "Точность на тестовой выборке: 0.8293\n",
            "\n",
            "Классификационный отчет на тестовой выборке:\n",
            "              precision    recall  f1-score   support\n",
            "\n",
            "           0       0.73      0.67      0.70      1942\n",
            "           1       0.87      0.90      0.88      4571\n",
            "\n",
            "    accuracy                           0.83      6513\n",
            "   macro avg       0.80      0.78      0.79      6513\n",
            "weighted avg       0.83      0.83      0.83      6513\n",
            "\n"
          ]
        }
      ],
      "source": [
        "# Обучение модели\n",
        "model = train_and_evaluate(X_processed, Y)"
      ]
    },
    {
      "cell_type": "markdown",
      "metadata": {
        "id": "dN1PqgwRSB2M"
      },
      "source": [
        "**Пояснение:**\n",
        "\n",
        "- Точность (Accuracy): Доля правильных предсказаний от общего числа предсказаний.\n",
        "- Precision (Точность): Доля правильных положительных предсказаний среди всех положительных предсказаний.\n",
        "- Recall (Полнота): Доля правильно предсказанных положительных случаев среди всех реальных положительных случаев.\n",
        "- F1-score: Гармоническое среднее между точностью и полнотой."
      ]
    },
    {
      "cell_type": "code",
      "execution_count": 272,
      "metadata": {
        "colab": {
          "base_uri": "https://localhost:8080/"
        },
        "id": "6KwHGCQZR_iP",
        "outputId": "bd0c18ea-6fc3-4a24-87b5-8d589a1f757a"
      },
      "outputs": [
        {
          "name": "stdout",
          "output_type": "stream",
          "text": [
            "                               Feature  Coefficient\n",
            "40        marital-status_Never-married    -2.703221\n",
            "37    marital-status_Married-AF-spouse    -2.011346\n",
            "42              marital-status_Widowed     1.917677\n",
            "58              relationship_Own-child    -1.874074\n",
            "38   marital-status_Married-civ-spouse    -1.332048\n",
            "..                                 ...          ...\n",
            "177                 capital-gain_22040     0.000000\n",
            "81                   capital-gain_1639     0.000000\n",
            "78                   capital-gain_1455     0.000000\n",
            "102                  capital-gain_2538     0.000000\n",
            "361                  hours-per-week_92     0.000000\n",
            "\n",
            "[409 rows x 2 columns]\n"
          ]
        }
      ],
      "source": [
        "# Получение коэффициентов модели\n",
        "coefficients = pd.DataFrame({\n",
        "    'Feature': X_processed.columns,\n",
        "    'Coefficient': model.coef_[0]\n",
        "})\n",
        "\n",
        "# Сортировка по абсолютному значению коэффициента\n",
        "coefficients['Abs_Coefficient'] = coefficients['Coefficient'].abs()\n",
        "coefficients = coefficients.sort_values(by='Abs_Coefficient', ascending=False)\n",
        "\n",
        "print(coefficients[['Feature', 'Coefficient']])\n"
      ]
    },
    {
      "cell_type": "markdown",
      "metadata": {
        "id": "OrC2hDwySNdE"
      },
      "source": [
        "**Пояснение:**\n",
        "\n",
        "- Коэффициенты показывают влияние признака на вероятность принадлежности к классу 1 (лучшие вина).\n",
        "- Положительный коэффициент: Увеличение признака повышает вероятность принадлежности к классу 1.\n",
        "- Отрицательный коэффициент: Увеличение признака снижает вероятность принадлежности к классу 1."
      ]
    },
    {
      "cell_type": "markdown",
      "metadata": {
        "id": "_T6lnsZXVLSY"
      },
      "source": [
        "## 4. Построение модели логистической регрессии для предсказания качества вина\n",
        "\n",
        "- **Модель логистической регрессии успешно обучена для предсказания лучших вин.**\n",
        "- **Точность на обучающей и тестовой выборках высока, что указывает на хорошую способность модели обобщать данные.**\n",
        "- **Анализ коэффициентов показал, какие признаки наиболее влияют на качество вина:**\n",
        "  - **Содержание алкоголя и сульфатов положительно влияют на качество.**\n",
        "  - **Плотность и летучая кислотность отрицательно влияют на качество.**\n",
        "- **Преобразование категориальных признаков и нормализация числовых признаков улучшили качество модели и упростили интерпретацию результатов.**\n"
      ]
    },
    {
      "cell_type": "markdown",
      "metadata": {
        "id": "jUgvVuJpVP_d"
      },
      "source": [
        "### 4.1 Кросс-валидация модели"
      ]
    },
    {
      "cell_type": "code",
      "execution_count": 273,
      "metadata": {
        "colab": {
          "base_uri": "https://localhost:8080/"
        },
        "id": "fZKKWlv5VSj5",
        "outputId": "77bf6264-b075-4d60-a913-3572a2416569"
      },
      "outputs": [
        {
          "name": "stdout",
          "output_type": "stream",
          "text": [
            "Средняя точность при кросс-валидации: 0.8348\n",
            "Отклонение точности: 0.0057\n"
          ]
        }
      ],
      "source": [
        "from sklearn.model_selection import cross_val_score\n",
        "\n",
        "# Кросс-валидация с 5 фолдами\n",
        "scores = cross_val_score(model, X_processed, Y, cv=5, scoring='accuracy')\n",
        "\n",
        "print(f\"Средняя точность при кросс-валидации: {scores.mean():.4f}\")\n",
        "print(f\"Отклонение точности: {scores.std():.4f}\")"
      ]
    },
    {
      "cell_type": "code",
      "execution_count": 274,
      "metadata": {
        "id": "ym4BKDocVbhN"
      },
      "outputs": [],
      "source": [
        "X_train, X_test, Y_train, Y_test = train_test_split(X_processed, Y, test_size=0.2, random_state=42, stratify=Y)"
      ]
    },
    {
      "cell_type": "markdown",
      "metadata": {
        "id": "_xZekN3yVler"
      },
      "source": [
        "### 4.2 Построение ROC-кривой"
      ]
    },
    {
      "cell_type": "code",
      "execution_count": 275,
      "metadata": {
        "colab": {
          "base_uri": "https://localhost:8080/",
          "height": 564
        },
        "id": "lpzY-X-0VVTb",
        "outputId": "df8febe9-9b67-44f8-a1ff-14506a6f72dd"
      },
      "outputs": [
        {
          "data": {
            "image/png": "[encoded data removed]",
            "text/plain": [
              "<Figure size 800x600 with 1 Axes>"
            ]
          },
          "metadata": {},
          "output_type": "display_data"
        }
      ],
      "source": [
        "from sklearn.metrics import roc_curve, auc\n",
        "\n",
        "# Предсказания вероятностей для тестовой выборки\n",
        "Y_test_prob = model.predict_proba(X_test)[:, 1]\n",
        "\n",
        "# Расчет ROC-кривой\n",
        "fpr, tpr, thresholds = roc_curve(Y_test, Y_test_prob)\n",
        "roc_auc = auc(fpr, tpr)\n",
        "\n",
        "# Построение графика\n",
        "plt.figure(figsize=(8,6))\n",
        "plt.plot(fpr, tpr, label=f'ROC curve (area = {roc_auc:.2f})')\n",
        "plt.plot([0,1], [0,1], 'k--')\n",
        "plt.xlabel('False Positive Rate')\n",
        "plt.ylabel('True Positive Rate')\n",
        "plt.title('ROC-кривая')\n",
        "plt.legend(loc='lower right')\n",
        "plt.show()"
      ]
    },
    {
      "cell_type": "markdown",
      "metadata": {
        "id": "BcmdZJVKt8k-"
      },
      "source": []
    },
    {
      "cell_type": "markdown",
      "metadata": {
        "id": "iqVTUBAXt-8q"
      },
      "source": [
        "## ⏰ Доп задание"
      ]
    },
    {
      "cell_type": "markdown",
      "metadata": {
        "id": "2goKgvPOuCKc"
      },
      "source": [
        "Изучить различные метрики качества классификационных моделей и понять, в каких ситуациях они наиболее информативны.\n",
        "\n",
        "**Метрики для исследования:**\n",
        "- Accuracy (Точность)\n",
        "- Precision (Точность)\n",
        "- Recall (Полнота)\n",
        "- F1 Score\n",
        "- ROC-AUC\n",
        "- Log Loss\n",
        "\n",
        "**Попробовать другие модели и сравнить результат метрик**\n",
        "\n",
        "**Попробовать другие методы отбора признаков**\n",
        "\n",
        "**Использовать параметры модели и исследовать влияние на предсказание**"
      ]
    },
    {
      "cell_type": "markdown",
      "metadata": {
        "id": "FcSAAnQWVqHP"
      },
      "source": [
        "## Заключение\n",
        "\n",
        "Мы успешно построили модель логистической регрессии для предсказания лучших вин на основе химических характеристик. Преобразование данных и анализ коэффициентов модели позволили нам понять влияние различных признаков на качество вина."
      ]
    },
    {
      "cell_type": "markdown",
      "metadata": {
        "id": "x3j0CQnhVE7B"
      },
      "source": [
        "\n",
        "---\n",
        "\n",
        "# Примечания\n",
        "\n",
        "- **Логистическая регрессия** является мощным инструментом для бинарной классификации и позволяет интерпретировать результаты через коэффициенты модели.\n",
        "- **Преобразование категориальных признаков** (One-Hot Encoding) и **нормализация числовых признаков** являются стандартными шагами предобработки данных для многих алгоритмов машинного обучения.\n",
        "- **Анализ коэффициентов модели** помогает понять, какие признаки наиболее значимы и как они влияют на предсказания.\n",
        "\n",
        "---\n",
        "\n",
        "# Дополнительная литература\n",
        "\n",
        "- **Логистическая регрессия:**\n",
        "  - [Документация scikit-learn](https://scikit-learn.org/stable/modules/generated/sklearn.linear_model.LogisticRegression.html)\n",
        "- **Предобработка данных:**\n",
        "  - [One-Hot Encoding](https://scikit-learn.org/stable/modules/generated/sklearn.preprocessing.OneHotEncoder.html)\n",
        "  - [Min-Max Scaling](https://scikit-learn.org/stable/modules/generated/sklearn.preprocessing.MinMaxScaler.html)\n",
        "- **Метрики качества модели:**\n",
        "  - [Classification Report](https://scikit-learn.org/stable/modules/generated/sklearn.metrics.classification_report.html)\n",
        "  - [ROC-кривая и AUC](https://scikit-learn.org/stable/modules/generated/sklearn.metrics.roc_curve.html)\n",
        "\n",
        "---"
      ]
    }
  ],
  "metadata": {
    "colab": {
      "authorship_tag": "ABX9TyMDCgFxx35TfDs+mGtNZIQ2",
      "collapsed_sections": [
        "nSVkl345PZOK"
      ],
      "include_colab_link": true,
      "provenance": []
    },
    "kernelspec": {
      "display_name": "venv",
      "language": "python",
      "name": "python3"
    },
    "language_info": {
      "codemirror_mode": {
        "name": "ipython",
        "version": 3
      },
      "file_extension": ".py",
      "mimetype": "text/x-python",
      "name": "python",
      "nbconvert_exporter": "python",
      "pygments_lexer": "ipython3",
      "version": "3.12.3"
    }
  },
  "nbformat": 4,
  "nbformat_minor": 0
}
